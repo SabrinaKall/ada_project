{
 "cells": [
  {
   "cell_type": "markdown",
   "metadata": {},
   "source": [
    "# Distances\n",
    "\n",
    "Using the matches found for data extraction, find the nodes connected to the matching shell companies up to a given distance using the edges. These will then be stored as csv files and used to create graphs that can visualize the degree of connectivity between the hit nodes."
   ]
  },
  {
   "cell_type": "code",
   "execution_count": 1,
   "metadata": {},
   "outputs": [],
   "source": [
    "#Imports\n",
    "import pandas as pd\n",
    "\n",
    "#spark\n",
    "import findspark\n",
    "findspark.init('/opt/spark/spark-2.3.2-bin-hadoop2.7/')\n",
    "\n",
    "from pyspark.sql import *\n",
    "from pyspark.sql.functions import *\n",
    "from pyspark.sql.functions import min\n",
    "from pyspark.sql.functions import udf\n",
    "from pyspark.sql.functions import split\n",
    "from pyspark.sql.functions import explode\n",
    "\n",
    "from pyspark.sql.types import StringType\n",
    "from pyspark.sql.types import TimestampType\n",
    "\n",
    "from pyspark.sql import SparkSession\n",
    "from pyspark import SparkContext\n",
    "\n",
    "spark = SparkSession.builder.getOrCreate()\n",
    "\n",
    "import networkx as nx\n",
    "\n",
    "from operator import itemgetter\n",
    "import matplotlib.pyplot as plt\n",
    "import collections\n",
    "from community import community_louvain\n",
    "from networkx.algorithms.community.centrality import girvan_newman\n",
    "import itertools\n",
    "%matplotlib inline\n",
    "\n",
    "import warnings\n",
    "warnings.filterwarnings('ignore')"
   ]
  },
  {
   "cell_type": "markdown",
   "metadata": {},
   "source": [
    "### Load Data"
   ]
  },
  {
   "cell_type": "code",
   "execution_count": 2,
   "metadata": {},
   "outputs": [],
   "source": [
    "#Constants\n",
    "\n",
    "DISTANCE_DEGREE = 1\n",
    "\n",
    "def get_match_file(leak, charity):\n",
    "    return '../generated/matches/' + leak + '_' + charity + '_matches.csv'\n"
   ]
  },
  {
   "cell_type": "code",
   "execution_count": 3,
   "metadata": {},
   "outputs": [],
   "source": [
    "#Load matches\n",
    "panama_wiki_matches = spark.read.csv(get_match_file('panama', 'wikipedia'), header=True)\n",
    "panama_ingo_matches = spark.read.csv(get_match_file('panama', 'INGO'), header=True)\n",
    "panama_forbes_matches = spark.read.csv(get_match_file('panama', 'forbes'), header=True)\n",
    "\n",
    "matches = panama_wiki_matches.union(panama_forbes_matches).union(panama_ingo_matches).drop('_c0')\n",
    "\n",
    "#Load edges\n",
    "edges = spark.read.csv('../data/panama/panama_papers.edges.csv', header=True)\n",
    "\n",
    "address_nodes = spark.read.csv('../data/panama/panama_papers.nodes.address.csv', header=True)\n",
    "intermediary_nodes = spark.read.csv('../data/panama/panama_papers.nodes.intermediary.csv', header=True)\n",
    "officer_nodes = spark.read.csv('../data/panama/panama_papers.nodes.officer.csv', header=True)\n",
    "entity_nodes = spark.read.csv('../data/panama/panama_papers.nodes.entity.csv', header=True)"
   ]
  },
  {
   "cell_type": "markdown",
   "metadata": {},
   "source": [
    "### Filter down huge leaks datasets to smaller match datasets"
   ]
  },
  {
   "cell_type": "code",
   "execution_count": 4,
   "metadata": {},
   "outputs": [],
   "source": [
    "def filter_edges(edges, nodes):\n",
    "    '''Given a set of nodes, returns the edges connected to those nodes'''\n",
    "    ids = nodes.map(lambda r: r[0]).collect()\n",
    "    return edges.rdd.filter(lambda r: r[0] in ids or r[2] in ids)\n",
    "\n",
    "def filter_nodes(nodes, edges):\n",
    "    '''Given a set of edges, return the nodes connected to those edges'''\n",
    "    start_ids = edges.map(lambda r: r[0]).collect()\n",
    "    end_ids = edges.map(lambda r: r[2]).collect()\n",
    "    \n",
    "    return nodes.rdd.filter(lambda r: r[0] in start_ids or r[0] in end_ids)\n",
    "\n",
    "def get_map_of_degree(degree):\n",
    "    '''Given a degree, '''\n",
    "    \n",
    "    degree_i_nodes = matches.rdd\n",
    "    \n",
    "    \n",
    "    for i in range(degree):\n",
    "        degree_i_edges = filter_edges(edges, degree_i_nodes)\n",
    "        \n",
    "        degree_i_addresses = filter_nodes(address_nodes, degree_i_edges)\n",
    "        degree_i_intermediary = filter_nodes(intermediary_nodes, degree_i_edges)\n",
    "        degree_i_entities = filter_nodes(entity_nodes, degree_i_edges)\n",
    "        degree_i_officers = filter_nodes(officer_nodes, degree_i_edges)\n",
    "        \n",
    "        degree_i_nodes = degree_i_addresses\\\n",
    "                                .union(degree_i_intermediary)\\\n",
    "                                .union(degree_i_entities)\\\n",
    "                                .union(degree_i_officers)\n",
    "        \n",
    "    return degree_i_edges, degree_i_nodes\n",
    "        \n",
    "    "
   ]
  },
  {
   "cell_type": "code",
   "execution_count": 5,
   "metadata": {},
   "outputs": [],
   "source": [
    "filtered_edges, filtered_nodes = get_map_of_degree(DISTANCE_DEGREE)"
   ]
  },
  {
   "cell_type": "code",
   "execution_count": 6,
   "metadata": {},
   "outputs": [
    {
     "data": {
      "text/plain": [
       "[Row(node_id='11000128', name='PARKDALE INVESTMENTS S.A.', country_codes='CHE', countries='Switzerland', status='ACTIVE', sourceID='Panama Papers', valid_until='The Panama Papers  data is current through 2015', note=None),\n",
       " Row(node_id='11000150', name='ICP SERVICES', country_codes='CHE', countries='Switzerland', status='ACTIVE', sourceID='Panama Papers', valid_until='The Panama Papers  data is current through 2015', note=None),\n",
       " Row(node_id='11000269', name='ZOLTY, LIC. ANDRE', country_codes='CHE', countries='Switzerland', status='ACTIVE', sourceID='Panama Papers', valid_until='The Panama Papers  data is current through 2015', note=None),\n",
       " Row(node_id='11000382', name='HELENE MATHIEU LEGAL CONSULTANTS', country_codes='ARE', countries='United Arab Emirates', status='ACTIVE', sourceID='Panama Papers', valid_until='The Panama Papers  data is current through 2015', note=None),\n",
       " Row(node_id='11000402', name='(GENEVA CLIENT) SEMELY CONSEIL & GESTION S.A.', country_codes='CHE', countries='Switzerland', status='ACTIVE', sourceID='Panama Papers', valid_until='The Panama Papers  data is current through 2015', note=None)]"
      ]
     },
     "execution_count": 6,
     "metadata": {},
     "output_type": "execute_result"
    }
   ],
   "source": [
    "filtered_nodes.take(5)"
   ]
  },
  {
   "cell_type": "code",
   "execution_count": 7,
   "metadata": {},
   "outputs": [],
   "source": [
    "graph_edges = pd.DataFrame(filtered_edges.collect(),\n",
    "             columns=['START_ID', 'TYPE', 'END_ID', 'link', 'start_date', 'end_date', 'sourceID', 'valid_until'])\n",
    "graph_nodes = pd.DataFrame(filtered_nodes.collect())"
   ]
  },
  {
   "cell_type": "code",
   "execution_count": 8,
   "metadata": {},
   "outputs": [
    {
     "name": "stdout",
     "output_type": "stream",
     "text": [
      "96\n",
      "96\n"
     ]
    }
   ],
   "source": [
    "print(len(graph_nodes[0]))\n",
    "print(len(graph_nodes[0].unique()))"
   ]
  },
  {
   "cell_type": "code",
   "execution_count": 9,
   "metadata": {},
   "outputs": [
    {
     "data": {
      "text/html": [
       "<div>\n",
       "<style scoped>\n",
       "    .dataframe tbody tr th:only-of-type {\n",
       "        vertical-align: middle;\n",
       "    }\n",
       "\n",
       "    .dataframe tbody tr th {\n",
       "        vertical-align: top;\n",
       "    }\n",
       "\n",
       "    .dataframe thead th {\n",
       "        text-align: right;\n",
       "    }\n",
       "</style>\n",
       "<table border=\"1\" class=\"dataframe\">\n",
       "  <thead>\n",
       "    <tr style=\"text-align: right;\">\n",
       "      <th></th>\n",
       "      <th>0</th>\n",
       "      <th>1</th>\n",
       "      <th>2</th>\n",
       "      <th>3</th>\n",
       "      <th>4</th>\n",
       "      <th>5</th>\n",
       "      <th>6</th>\n",
       "      <th>7</th>\n",
       "      <th>8</th>\n",
       "      <th>9</th>\n",
       "      <th>10</th>\n",
       "      <th>11</th>\n",
       "      <th>12</th>\n",
       "      <th>13</th>\n",
       "      <th>14</th>\n",
       "      <th>15</th>\n",
       "      <th>16</th>\n",
       "    </tr>\n",
       "  </thead>\n",
       "  <tbody>\n",
       "    <tr>\n",
       "      <th>0</th>\n",
       "      <td>11000128</td>\n",
       "      <td>PARKDALE INVESTMENTS S.A.</td>\n",
       "      <td>CHE</td>\n",
       "      <td>Switzerland</td>\n",
       "      <td>ACTIVE</td>\n",
       "      <td>Panama Papers</td>\n",
       "      <td>The Panama Papers  data is current through 2015</td>\n",
       "      <td>None</td>\n",
       "      <td>None</td>\n",
       "      <td>None</td>\n",
       "      <td>None</td>\n",
       "      <td>None</td>\n",
       "      <td>None</td>\n",
       "      <td>None</td>\n",
       "      <td>None</td>\n",
       "      <td>None</td>\n",
       "      <td>None</td>\n",
       "    </tr>\n",
       "    <tr>\n",
       "      <th>1</th>\n",
       "      <td>11000150</td>\n",
       "      <td>ICP SERVICES</td>\n",
       "      <td>CHE</td>\n",
       "      <td>Switzerland</td>\n",
       "      <td>ACTIVE</td>\n",
       "      <td>Panama Papers</td>\n",
       "      <td>The Panama Papers  data is current through 2015</td>\n",
       "      <td>None</td>\n",
       "      <td>None</td>\n",
       "      <td>None</td>\n",
       "      <td>None</td>\n",
       "      <td>None</td>\n",
       "      <td>None</td>\n",
       "      <td>None</td>\n",
       "      <td>None</td>\n",
       "      <td>None</td>\n",
       "      <td>None</td>\n",
       "    </tr>\n",
       "    <tr>\n",
       "      <th>2</th>\n",
       "      <td>11000269</td>\n",
       "      <td>ZOLTY, LIC. ANDRE</td>\n",
       "      <td>CHE</td>\n",
       "      <td>Switzerland</td>\n",
       "      <td>ACTIVE</td>\n",
       "      <td>Panama Papers</td>\n",
       "      <td>The Panama Papers  data is current through 2015</td>\n",
       "      <td>None</td>\n",
       "      <td>None</td>\n",
       "      <td>None</td>\n",
       "      <td>None</td>\n",
       "      <td>None</td>\n",
       "      <td>None</td>\n",
       "      <td>None</td>\n",
       "      <td>None</td>\n",
       "      <td>None</td>\n",
       "      <td>None</td>\n",
       "    </tr>\n",
       "    <tr>\n",
       "      <th>3</th>\n",
       "      <td>11000382</td>\n",
       "      <td>HELENE MATHIEU LEGAL CONSULTANTS</td>\n",
       "      <td>ARE</td>\n",
       "      <td>United Arab Emirates</td>\n",
       "      <td>ACTIVE</td>\n",
       "      <td>Panama Papers</td>\n",
       "      <td>The Panama Papers  data is current through 2015</td>\n",
       "      <td>None</td>\n",
       "      <td>None</td>\n",
       "      <td>None</td>\n",
       "      <td>None</td>\n",
       "      <td>None</td>\n",
       "      <td>None</td>\n",
       "      <td>None</td>\n",
       "      <td>None</td>\n",
       "      <td>None</td>\n",
       "      <td>None</td>\n",
       "    </tr>\n",
       "    <tr>\n",
       "      <th>4</th>\n",
       "      <td>11000402</td>\n",
       "      <td>(GENEVA CLIENT) SEMELY CONSEIL &amp; GESTION S.A.</td>\n",
       "      <td>CHE</td>\n",
       "      <td>Switzerland</td>\n",
       "      <td>ACTIVE</td>\n",
       "      <td>Panama Papers</td>\n",
       "      <td>The Panama Papers  data is current through 2015</td>\n",
       "      <td>None</td>\n",
       "      <td>None</td>\n",
       "      <td>None</td>\n",
       "      <td>None</td>\n",
       "      <td>None</td>\n",
       "      <td>None</td>\n",
       "      <td>None</td>\n",
       "      <td>None</td>\n",
       "      <td>None</td>\n",
       "      <td>None</td>\n",
       "    </tr>\n",
       "  </tbody>\n",
       "</table>\n",
       "</div>"
      ],
      "text/plain": [
       "         0                                              1    2   \\\n",
       "0  11000128                      PARKDALE INVESTMENTS S.A.  CHE   \n",
       "1  11000150                                   ICP SERVICES  CHE   \n",
       "2  11000269                              ZOLTY, LIC. ANDRE  CHE   \n",
       "3  11000382               HELENE MATHIEU LEGAL CONSULTANTS  ARE   \n",
       "4  11000402  (GENEVA CLIENT) SEMELY CONSEIL & GESTION S.A.  CHE   \n",
       "\n",
       "                     3       4              5   \\\n",
       "0           Switzerland  ACTIVE  Panama Papers   \n",
       "1           Switzerland  ACTIVE  Panama Papers   \n",
       "2           Switzerland  ACTIVE  Panama Papers   \n",
       "3  United Arab Emirates  ACTIVE  Panama Papers   \n",
       "4           Switzerland  ACTIVE  Panama Papers   \n",
       "\n",
       "                                                6     7     8     9     10  \\\n",
       "0  The Panama Papers  data is current through 2015  None  None  None  None   \n",
       "1  The Panama Papers  data is current through 2015  None  None  None  None   \n",
       "2  The Panama Papers  data is current through 2015  None  None  None  None   \n",
       "3  The Panama Papers  data is current through 2015  None  None  None  None   \n",
       "4  The Panama Papers  data is current through 2015  None  None  None  None   \n",
       "\n",
       "     11    12    13    14    15    16  \n",
       "0  None  None  None  None  None  None  \n",
       "1  None  None  None  None  None  None  \n",
       "2  None  None  None  None  None  None  \n",
       "3  None  None  None  None  None  None  \n",
       "4  None  None  None  None  None  None  "
      ]
     },
     "execution_count": 9,
     "metadata": {},
     "output_type": "execute_result"
    }
   ],
   "source": [
    "graph_nodes.head(5)"
   ]
  },
  {
   "cell_type": "code",
   "execution_count": 10,
   "metadata": {},
   "outputs": [],
   "source": [
    "graph_edges.to_csv('../generated/map/panama_edges_degree_'+ str(DISTANCE_DEGREE) +'.csv')\n",
    "graph_nodes.to_csv('../generated/map/panama_nodes_degree_'+ str(DISTANCE_DEGREE) +'.csv')"
   ]
  }
 ],
 "metadata": {
  "kernelspec": {
   "display_name": "Python 3",
   "language": "python",
   "name": "python3"
  },
  "language_info": {
   "codemirror_mode": {
    "name": "ipython",
    "version": 3
   },
   "file_extension": ".py",
   "mimetype": "text/x-python",
   "name": "python",
   "nbconvert_exporter": "python",
   "pygments_lexer": "ipython3",
   "version": "3.6.6"
  }
 },
 "nbformat": 4,
 "nbformat_minor": 2
}
