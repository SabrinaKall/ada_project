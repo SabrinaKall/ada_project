{
 "cells": [
  {
   "cell_type": "markdown",
   "metadata": {},
   "source": [
    "# Wikipedia list of INGO web scraping"
   ]
  },
  {
   "cell_type": "code",
   "execution_count": 1,
   "metadata": {},
   "outputs": [],
   "source": [
    "import requests\n",
    "from bs4 import BeautifulSoup\n",
    "import pandas as pd\n",
    "import numpy as np\n",
    "import re"
   ]
  },
  {
   "cell_type": "markdown",
   "metadata": {},
   "source": [
    "### Get the wikipedia list of INGO in html"
   ]
  },
  {
   "cell_type": "code",
   "execution_count": 2,
   "metadata": {},
   "outputs": [],
   "source": [
    "#get html webpage\n",
    "URL = 'https://en.wikipedia.org/wiki/International_non-governmental_organization'\n",
    "r = requests.get(URL)\n",
    "page_body = r.text\n",
    "soup = BeautifulSoup(page_body, 'html.parser')"
   ]
  },
  {
   "cell_type": "markdown",
   "metadata": {},
   "source": [
    "### Extract name of INGO and link to its wikipedia page from the list"
   ]
  },
  {
   "cell_type": "code",
   "execution_count": 3,
   "metadata": {},
   "outputs": [],
   "source": [
    "link_sections = soup.findAll('div', class_=\"mw-parser-output\")"
   ]
  },
  {
   "cell_type": "code",
   "execution_count": 4,
   "metadata": {},
   "outputs": [],
   "source": [
    "links_lists = [x.findAll('a', attrs={'href': re.compile(\"/w\")}) for x in link_sections]\n",
    "\n",
    "flat_links_list = [((item.text),(item.get('href'))) for sublist in links_lists for item in sublist]"
   ]
  },
  {
   "cell_type": "code",
   "execution_count": 5,
   "metadata": {},
   "outputs": [
    {
     "data": {
      "text/plain": [
       "[('khalsa Aid', '/wiki/Khalsa_Aid'),\n",
       " ('ADRA', '/wiki/ADRA'),\n",
       " ('CAFOD', '/wiki/CAFOD'),\n",
       " ('CARE', '/wiki/CARE_(relief_agency)'),\n",
       " ('Oxfam', '/wiki/Oxfam'),\n",
       " ('Lakshyam ngo', '/w/index.php?title=Lakshyam_ngo&action=edit&redlink=1'),\n",
       " (\"SOS Children's Villages\", '/wiki/SOS_Children%27s_Villages'),\n",
       " ('World Vision International', '/wiki/World_Vision_International'),\n",
       " ('Mercy Corps', '/wiki/Mercy_Corps'),\n",
       " ('Save the Children', '/wiki/Save_the_Children'),\n",
       " ('Good Neighbors International', '/wiki/Good_Neighbors_(NGO)'),\n",
       " ('Doctors Without Borders', '/wiki/M%C3%A9decins_Sans_Fronti%C3%A8res'),\n",
       " ('HealthRight International', '/wiki/HealthRight_International'),\n",
       " ('charity: water', '/wiki/Charity:_water'),\n",
       " ('Lakshyam NGO', '/w/index.php?title=Lakshyam_ngo&action=edit&redlink=1'),\n",
       " ('Compassion International', '/wiki/Compassion_International'),\n",
       " ('Plan', '/wiki/Plan_(aid_organisation)'),\n",
       " ('World Association of Girl Guides and Girl Scouts',\n",
       "  '/wiki/World_Association_of_Girl_Guides_and_Girl_Scouts'),\n",
       " ('Save the Children International', '/wiki/Save_the_Children_International'),\n",
       " (\"SOS Children's Villages\", '/wiki/SOS_Children%27s_Villages'),\n",
       " ('Reggio Children Foundation', '/wiki/Reggio_Children_Foundation'),\n",
       " ('World Organization of the Scout Movement',\n",
       "  '/wiki/World_Organization_of_the_Scout_Movement'),\n",
       " ('World Vision International', '/wiki/World_Vision_International'),\n",
       " ('International Federation of Catholic Parochial Youth Movements',\n",
       "  '/wiki/Fimcap'),\n",
       " ('ActionAid', '/wiki/ActionAid'),\n",
       " ('The Library Project', '/wiki/The_Library_Project'),\n",
       " ('OpenmindProjects- INGO', '/wiki/OpenmindProjects-_Volunteering_Abroad'),\n",
       " ('European Association of History Educators',\n",
       "  '/wiki/European_Association_of_History_Educators'),\n",
       " ('Amnesty International', '/wiki/Amnesty_International'),\n",
       " ('Commonwealth Human Rights Initiative',\n",
       "  '/wiki/Commonwealth_Human_Rights_Initiative'),\n",
       " ('Friends of Peoples Close to Nature',\n",
       "  '/wiki/Friends_of_Peoples_Close_to_Nature'),\n",
       " ('International Christian Concern', '/wiki/International_Christian_Concern'),\n",
       " ('International Federation for Human Rights',\n",
       "  '/wiki/International_Federation_for_Human_Rights'),\n",
       " ('International Stateless Persons Organisation',\n",
       "  '/w/index.php?title=International_Stateless_Persons_Organisation&action=edit&redlink=1'),\n",
       " ('Survival International', '/wiki/Survival_International'),\n",
       " ('International POPs Elimination Network',\n",
       "  '/wiki/International_POPs_Elimination_Network'),\n",
       " ('International Union for Conservation of Nature',\n",
       "  '/wiki/International_Union_for_Conservation_of_Nature'),\n",
       " ('Greenpeace', '/wiki/Greenpeace'),\n",
       " ('World Wide Fund for Nature', '/wiki/World_Wide_Fund_for_Nature'),\n",
       " ('International Federation of Catholic Parochial Youth Movements',\n",
       "  '/wiki/Fimcap'),\n",
       " ('Lutheran World Relief', '/wiki/Lutheran_World_Relief'),\n",
       " ('Forum of European Muslim Youth and Student Organizations',\n",
       "  '/w/index.php?title=Forum_of_European_Muslim_Youth_and_Student_Organizations&action=edit&redlink=1'),\n",
       " ('Diplomatic Society',\n",
       "  '/w/index.php?title=Diplomatic_Society&action=edit&redlink=1'),\n",
       " ('COSPAR', '/wiki/COSPAR'),\n",
       " ('Saalome Global', '/w/index.php?title=Saalome_Global&action=edit&redlink=1')]"
      ]
     },
     "execution_count": 5,
     "metadata": {},
     "output_type": "execute_result"
    }
   ],
   "source": [
    "flat_links_list = flat_links_list[44:97]\n",
    "\n",
    "tag_list = 'edit'\n",
    "for tag in flat_links_list[:]:\n",
    "    if tag_list in tag:\n",
    "        flat_links_list.remove(tag)\n",
    "        \n",
    "flat_links_list"
   ]
  },
  {
   "cell_type": "code",
   "execution_count": 6,
   "metadata": {},
   "outputs": [],
   "source": [
    "INGO = pd.DataFrame([(x[0], 'https://en.wikipedia.org' + x[1]) for x in flat_links_list], columns=('Name', 'Link'))"
   ]
  },
  {
   "cell_type": "code",
   "execution_count": 7,
   "metadata": {},
   "outputs": [],
   "source": [
    "INGO.to_csv('../../generated/INGO/wikipedia_INGO_links.csv')"
   ]
  },
  {
   "cell_type": "markdown",
   "metadata": {},
   "source": [
    "### Extract information about individual INGO from the table on their linked pages"
   ]
  },
  {
   "cell_type": "code",
   "execution_count": 8,
   "metadata": {},
   "outputs": [],
   "source": [
    "def list_features(INGO):\n",
    "    \n",
    "    features = []\n",
    "    \n",
    "    for index, row in INGO.iterrows():\n",
    "        link = row['Link']\n",
    "        r_link = requests.get(link)\n",
    "        soup_link = BeautifulSoup(r_link.text, 'html.parser')\n",
    "        table = soup_link.find('table', class_=\"infobox vcard\")\n",
    "\n",
    "        if table is not None:\n",
    "            table_rows = table.findAll('tr')\n",
    "            for row in table_rows:\n",
    "                feature = row.find('th')\n",
    "                if feature is not None:\n",
    "                    feature = feature.text\n",
    "                    features.append(feature)\n",
    "    return pd.Series(features).unique()\n",
    "                    "
   ]
  },
  {
   "cell_type": "code",
   "execution_count": 9,
   "metadata": {},
   "outputs": [
    {
     "data": {
      "text/plain": [
       "array(['Founded', 'Founder', 'Founded at', 'Type', 'Legal status',\n",
       "       'Focus', 'Headquarters', 'Area served ', 'CEO', 'Revenue  ',\n",
       "       'Employees  ', 'Volunteers  ', 'Website', 'Location', 'Product',\n",
       "       'Owner', 'Key people', 'Formation', 'Founders', 'Fields',\n",
       "       'Secretary General', 'Deputy Secretary General',\n",
       "       'Chair of the Supervisory Board', 'Named after', 'Director',\n",
       "       'Abbreviation', 'Purpose', 'President', 'Honorary President',\n",
       "       'Method', 'Expenses', 'Staff  ', 'Registration\\xa0no.', 'Origins',\n",
       "       'Motto', 'Tax ID no. ',\n",
       "       'World Association of Girl Guides and Girl Scouts', 'Country',\n",
       "       'Membership', 'Chair World Board', 'Coordinates',\n",
       "       'World Organization of the Scout Movement',\n",
       "       'World Scout Committee Chairman', 'Membership  ', 'Presidents',\n",
       "       'Praeses', 'Secretary-General', 'Region served ', 'Industry',\n",
       "       'Services', 'Members  ', 'Official language ',\n",
       "       'Executive Director', 'Main organ', 'Budget  ', 'Remarks',\n",
       "       'Formerly called', 'Region ', 'Methods', 'President Emeritus',\n",
       "       'Director General', 'Parent organization'], dtype=object)"
      ]
     },
     "execution_count": 9,
     "metadata": {},
     "output_type": "execute_result"
    }
   ],
   "source": [
    "#Get the list of features we can potentially extract about a INGO\n",
    "list_features(INGO)"
   ]
  },
  {
   "cell_type": "code",
   "execution_count": 10,
   "metadata": {},
   "outputs": [],
   "source": [
    "#using the list above, go through the INGO wikipedia pages and attempt to draw out any possible information\n",
    "def extract_info_from_table(table):\n",
    "    \n",
    "    leader1 = None\n",
    "    leader2 = None\n",
    "    leader3 = None\n",
    "    leader4 = None\n",
    "    leader1_set = False\n",
    "    leader2_set = False\n",
    "    leader3_set = False\n",
    "    leader4_set = False\n",
    "    revenue = None\n",
    "    hq = None\n",
    "    location = None\n",
    "    other_names = None\n",
    "    subsidiaries = None\n",
    "    purpose = None\n",
    "        \n",
    "    if table is not None:\n",
    "        table_rows = table.findAll('tr')\n",
    "        for row in table_rows:\n",
    "            feature = row.find('th')\n",
    "            value = row.find('td')\n",
    "            if feature is not None and value is not None:\n",
    "                feature = feature.text\n",
    "                value = value.text\n",
    "                \n",
    "                if feature in ['CEO', 'Secretary General', 'Owner', 'Key people',\n",
    "                                'Chair', 'Co-executive director', 'President', 'Board Chair',\n",
    "                                'Chief Executive Officer', 'Board of Directors', 'Executive Director',\n",
    "                                'National President & CEO', 'Chairman', 'Chief Executive', \n",
    "                                'Deputy Secretary General', 'Chair of the Supervisory Board',\n",
    "                                'Chairman of the Governing Body', 'President/CEO', 'President and CEO',\n",
    "                                'Board\\xa0of directors', 'President of the Board', 'Board of Trustees',\n",
    "                                'Chair, Adult Advisory Council', 'Leader', 'President, Treasurer', \n",
    "                                'President & CEO', 'Executive director', 'Vice president', 'Predecessor',\n",
    "                                'Chairman of Governors', 'Notable Board Members[1]', 'Board of Directors',\n",
    "                                'Superior General', 'Honorary President', 'Co-Chairman', 'Managing Director',\n",
    "                                'Chair World Board', 'President Emeritus', 'Director General']:\n",
    "                    if leader1_set == False:\n",
    "                        leader1 = value\n",
    "                        leader1_set = True\n",
    "                    elif leader2_set == False:\n",
    "                        leader2 == value\n",
    "                        leader2_set = True\n",
    "                    elif leader3_set == False:\n",
    "                        leader3 == value\n",
    "                        leader3_set = True\n",
    "                    elif leader4_set == False:\n",
    "                        leader4 == value\n",
    "                        leader4_set = True\n",
    "                    ceo = value\n",
    "                elif feature in ['Revenue', 'Revenue .mw-parser-output .nobold{font-weight:normal}(2016) ',\n",
    "                                'Revenue .mw-parser-output .nobold{font-weight:normal}(2015) ', \n",
    "                                'Revenue .mw-parser-output .nobold{font-weight:normal}(2014) ',\n",
    "                                'Revenue .mw-parser-output .nobold{font-weight:normal}(2017) ',\n",
    "                                'Revenue .mw-parser-output .nobold{font-weight:normal}(2016) ',\n",
    "                                'Net income', 'Total assets', 'Operating income',\n",
    "                                'Revenue (FY 2015)' ]:\n",
    "                    revenue = value\n",
    "                elif feature in ['Headquarters', 'Address']:\n",
    "                    hq = value\n",
    "                elif feature in ['Location', 'Chapters', 'Region ', 'Country']:\n",
    "                    location = value\n",
    "                elif feature in ['Formerly called', 'Abbreviation', 'Parent organization']:\n",
    "                    other_names = value\n",
    "                elif feature in ['Subsidiaries', 'Affiliation']:\n",
    "                    subsidiaries = value\n",
    "                elif feature in ['Purpose', 'Focus', 'Product', 'Services', 'Industry', 'Fields']:\n",
    "                    purpose = value\n",
    "    return [leader1, leader2, leader3, leader4, revenue, hq, location, other_names, subsidiaries, purpose]\n",
    "    \n",
    "        \n",
    "\n",
    "def extract_info_from_link(link):\n",
    "    r_link = requests.get(link)\n",
    "    soup_link = BeautifulSoup(r_link.text, 'html.parser')\n",
    "    table = soup_link.find('table', class_=\"infobox vcard\")\n",
    "    return extract_info_from_table(table)"
   ]
  },
  {
   "cell_type": "code",
   "execution_count": 11,
   "metadata": {},
   "outputs": [],
   "source": [
    "detailed_INGO = []\n",
    "for index, row in INGO.iterrows():\n",
    "    name = row['Name']\n",
    "    link = row['Link']\n",
    "    INGO_details = extract_info_from_link(link)\n",
    "    INGO_details.insert(0, name)\n",
    "    detailed_INGO.append(INGO_details)"
   ]
  },
  {
   "cell_type": "code",
   "execution_count": 12,
   "metadata": {},
   "outputs": [],
   "source": [
    "INGO_detailed = pd.DataFrame(detailed_INGO,\n",
    "                                  columns=['Name', 'Leader 1', 'Leader 2', 'Leader 3', 'Leader 4',\n",
    "                                           'Revenue', 'Headquarters', 'Location', 'Other names', 'Subsidiaries',\n",
    "                                          'Purpose'])"
   ]
  },
  {
   "cell_type": "code",
   "execution_count": 13,
   "metadata": {},
   "outputs": [],
   "source": [
    "#Save the data as a csv file\n",
    "INGO_detailed.to_csv('../../generated/INGO/wikipedia_INGO_info.csv')"
   ]
  }
 ],
 "metadata": {
  "kernelspec": {
   "display_name": "Python 3",
   "language": "python",
   "name": "python3"
  },
  "language_info": {
   "codemirror_mode": {
    "name": "ipython",
    "version": 3
   },
   "file_extension": ".py",
   "mimetype": "text/x-python",
   "name": "python",
   "nbconvert_exporter": "python",
   "pygments_lexer": "ipython3",
   "version": "3.6.6"
  }
 },
 "nbformat": 4,
 "nbformat_minor": 2
}
