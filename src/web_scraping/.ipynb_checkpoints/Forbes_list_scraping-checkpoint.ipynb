{
 "cells": [
  {
   "cell_type": "markdown",
   "metadata": {},
   "source": [
    "# Forbes list of largest US Charities Data scraping\n",
    "\n",
    "In 2016, Forbes published an article of the top 100 largest charities in the USA, complete with links to a short, structured summary describing each group. This is great for us, because it allows us to easily collect a relatively complete dataset of a whole bunch of charities. We scrape this data off their website using the beautiful soup library."
   ]
  },
  {
   "cell_type": "code",
   "execution_count": 1,
   "metadata": {},
   "outputs": [],
   "source": [
    "URL = 'https://www.forbes.com/sites/williampbarrett/2016/12/14/the-largest-u-s-charities-for-2016/#5ca92a8d4abb'"
   ]
  },
  {
   "cell_type": "code",
   "execution_count": 2,
   "metadata": {},
   "outputs": [],
   "source": [
    "import requests\n",
    "from bs4 import BeautifulSoup\n",
    "import pandas as pd\n",
    "import nltk\n",
    "from nltk.corpus import stopwords"
   ]
  },
  {
   "cell_type": "markdown",
   "metadata": {},
   "source": [
    "First we get the html data from article."
   ]
  },
  {
   "cell_type": "code",
   "execution_count": 3,
   "metadata": {},
   "outputs": [],
   "source": [
    "r = requests.get(URL)\n",
    "page_body = r.text"
   ]
  },
  {
   "cell_type": "code",
   "execution_count": 4,
   "metadata": {},
   "outputs": [],
   "source": [
    "soup = BeautifulSoup(page_body, 'html.parser')"
   ]
  },
  {
   "cell_type": "markdown",
   "metadata": {},
   "source": [
    "The article contains a list of 100 largest US charities, each with a link to more information. We need to extract these links. "
   ]
  },
  {
   "cell_type": "code",
   "execution_count": 5,
   "metadata": {
    "scrolled": true
   },
   "outputs": [
    {
     "name": "stdout",
     "output_type": "stream",
     "text": [
      "Nb charities:  100\n",
      "[<li><a data-ga-track=\"InternalLink:http://www.forbes.com/companies/united-way-worldwide/\" href=\"http://www.forbes.com/companies/united-way-worldwide/\" target=\"_self\"><strong data-ga-track=\"InternalLink:http://www.forbes.com/companies/united-way-worldwide/\">United Way Worldwide</strong></a>, $3.708 billion.</li>, <li><a data-ga-track=\"InternalLink:http://www.forbes.com/companies/task-force-for-global-health/\" href=\"http://www.forbes.com/companies/task-force-for-global-health/\" target=\"_self\"><strong data-ga-track=\"InternalLink:http://www.forbes.com/companies/task-force-for-global-health/\">Task Force for Global Health</strong></a>, $3.154 billion.</li>, <li><a data-ga-track=\"InternalLink:http://www.forbes.com/companies/feeding-america/\" href=\"http://www.forbes.com/companies/feeding-america/\" target=\"_self\"><strong data-ga-track=\"InternalLink:http://www.forbes.com/companies/feeding-america/\">Feeding America</strong></a>, $2.150 billion.</li>]\n"
     ]
    }
   ],
   "source": [
    "#Ordered lists have the html tag 'ol'\n",
    "charity_list_section = soup.find('ol')\n",
    "charity_list = charity_list_section.findAll('li')\n",
    "print(\"Nb charities: \",len(charity_list))\n",
    "print(charity_list[0:3])"
   ]
  },
  {
   "cell_type": "markdown",
   "metadata": {},
   "source": [
    "Now we can go through each link and extract the data for the separate charities."
   ]
  },
  {
   "cell_type": "code",
   "execution_count": 6,
   "metadata": {},
   "outputs": [],
   "source": [
    "#Helper functions to parse the data for individual charities\n",
    "\n",
    "def parse_revenue(value):\n",
    "    '''\n",
    "    Turns a string value of a dollar amount into a number\n",
    "    \n",
    "    input: a string of the form: $340 million(example)\n",
    "    output: 340000000\n",
    "    '''\n",
    "    #remove occasional stray #\n",
    "    value = value.replace('#', '')\n",
    "    \n",
    "    #separate the different parts of the input\n",
    "    number_start = 1\n",
    "    if '$' in value:\n",
    "        number_start = value.find('$') + 1\n",
    "    number = value[number_start:]\n",
    "    order = number.find(' ')\n",
    "    order_val = number[order:]\n",
    "    digits = number[:order]\n",
    "    \n",
    "    #turn the order indication into a number of zeros\n",
    "    nb_zeros = 0\n",
    "    if 'billion' in order_val:\n",
    "        nb_zeros = 9\n",
    "    elif 'million' in order_val:\n",
    "        nb_zeros = 6\n",
    "        \n",
    "    #adjust the number of zeros to the location of the decimal point (if there is one)\n",
    "    decimal_loc = digits.find('.')\n",
    "    if decimal_loc == -1:\n",
    "        decimal_loc = digits.find(',')\n",
    "    whole = digits\n",
    "    part = ''\n",
    "    if decimal_loc != -1:\n",
    "        whole = digits[:decimal_loc]\n",
    "        part = digits[decimal_loc + 1:]\n",
    "        nb_zeros -= len(part)\n",
    "    \n",
    "    #parse the complete number\n",
    "    final_nb =  whole + part\n",
    "    for i in range(nb_zeros):\n",
    "        final_nb += '0'\n",
    "    \n",
    "    return int(final_nb)\n",
    "    \n",
    "#Not all links have all categories, so if a certain piece of information is missing, we can't constantly throw errors\n",
    "def get_or_none(type_dict, entry_list, values):\n",
    "    '''\n",
    "    Given a set of data entries, if they exist in the dictionary, their values are returned, else None is\n",
    "    input: a dictionary mapping types of information to their index in the list\n",
    "           a list of information types we want to find\n",
    "           a list of values (each type is stored at the index indicated in the type dictionary)\n",
    "    \n",
    "    output: the value of given type, or None if not found\n",
    "           \n",
    "    Example:\n",
    "        type_dict = {'Industries': 0, 'Headquarters': 1, 'Home': 1}\n",
    "        entry_list = ['Headquarters', 'Home']\n",
    "        values = ['Wildlife Preservation', 'New York']\n",
    "        \n",
    "        returns: New York\n",
    "        \n",
    "    '''\n",
    "    for entry in entry_list:\n",
    "        if entry in type_dict:\n",
    "            return values[type_dict.get(entry)].string\n",
    "    return None\n",
    "    \n",
    "    \n",
    "\n",
    "def extract_data_from_elem(list_elem):\n",
    "    '''\n",
    "    Extracts information from an element in the forbes article list\n",
    "    \n",
    "    input: an element of the list \n",
    "    output: [name, money, category, leader, last_date, hq, country] as found in the link\n",
    "    '''\n",
    "    \n",
    "    #the money is present more often in the main article, so we get it from here\n",
    "    money = parse_revenue(list_elem.text[list_elem.text.find(', ') + 1:])\n",
    "    \n",
    "    #get the link to the extra information\n",
    "    link = list_elem.find('a').get('href')\n",
    "    r_char = requests.get(link)\n",
    "    soup_char = BeautifulSoup(r_char.text, 'html.parser')\n",
    "    \n",
    "    #get the name at the top of the information page\n",
    "    name_line = soup_char.find('h1').string \n",
    "    name = name_line[name_line.find(' ') + 1:]\n",
    "   \n",
    "    #the extra info is stored in spans of a specific class \"type\" -> get the types\n",
    "    types = soup_char.findAll('span', class_='profile-row--type')\n",
    "    \n",
    "    #map each information entry name to its index\n",
    "    type_dict = {}\n",
    "    for i in range(len(types)):\n",
    "        type_dict[types[i].string] = i\n",
    "    \n",
    "    #the values are also stored in spans, of class \"value\" -> using the type dictionary, extract the values by type\n",
    "    values = soup_char.findAll('span', class_='profile-row--value')\n",
    "    \n",
    "    #get each extra piece of information we want by type\n",
    "    category = get_or_none(type_dict, ['Category', 'Industries'], values)\n",
    "    country = get_or_none(type_dict, ['Country'], values)\n",
    "    leader = get_or_none(type_dict, ['Top Person', 'CEO'], values)\n",
    "    last_date = get_or_none(type_dict, ['Fiscal Year End'], values)\n",
    "    hq = get_or_none(type_dict, ['Headquarters'], values)\n",
    "    return [name, money, category, leader, last_date, hq, country]\n",
    "\n",
    "    \n",
    "    \n",
    "def get_charity_data(charity_list):\n",
    "    '''\n",
    "    Goes through each element in the html list and extracts data for the corresponding charity\n",
    "    \n",
    "    input: html list of charities\n",
    "    output: dataframe containing information about each charity\n",
    "    '''\n",
    "    charity_data = []\n",
    "    for elem in charity_list:\n",
    "        output = extract_data_from_elem(elem)\n",
    "        charity_data.append(output)\n",
    "    return pd.DataFrame(charity_data, columns=['name', 'Income($)', 'Field', 'Top Person',\n",
    "                                               'Fiscal Year End', 'Headquarters', 'Country'])\n",
    "        \n",
    "        \n"
   ]
  },
  {
   "cell_type": "code",
   "execution_count": 7,
   "metadata": {},
   "outputs": [],
   "source": [
    "df = get_charity_data(charity_list)"
   ]
  },
  {
   "cell_type": "code",
   "execution_count": 8,
   "metadata": {},
   "outputs": [
    {
     "data": {
      "text/html": [
       "<div>\n",
       "<table border=\"1\" class=\"dataframe\">\n",
       "  <thead>\n",
       "    <tr style=\"text-align: right;\">\n",
       "      <th></th>\n",
       "      <th>name</th>\n",
       "      <th>Income($)</th>\n",
       "      <th>Field</th>\n",
       "      <th>Top Person</th>\n",
       "      <th>Fiscal Year End</th>\n",
       "      <th>Headquarters</th>\n",
       "      <th>Country</th>\n",
       "    </tr>\n",
       "  </thead>\n",
       "  <tbody>\n",
       "    <tr>\n",
       "      <th>0</th>\n",
       "      <td>United Way Worldwide</td>\n",
       "      <td>3708000000</td>\n",
       "      <td>Domestic Needs</td>\n",
       "      <td>Brian Gallagher</td>\n",
       "      <td>Jun 30, 2018</td>\n",
       "      <td>Alexandria, Virginia</td>\n",
       "      <td>United States</td>\n",
       "    </tr>\n",
       "    <tr>\n",
       "      <th>1</th>\n",
       "      <td>Task Force for Global Health</td>\n",
       "      <td>3154000000</td>\n",
       "      <td>International Needs</td>\n",
       "      <td>David Ross</td>\n",
       "      <td>Aug 31, 2018</td>\n",
       "      <td>Decatur, Georgia</td>\n",
       "      <td>United States</td>\n",
       "    </tr>\n",
       "    <tr>\n",
       "      <th>2</th>\n",
       "      <td>Feeding America</td>\n",
       "      <td>2150000000</td>\n",
       "      <td>Domestic Needs</td>\n",
       "      <td>Claire Babineaux-Fontenot</td>\n",
       "      <td>Jun 30, 2017</td>\n",
       "      <td>Chicago, Illinois</td>\n",
       "      <td>United States</td>\n",
       "    </tr>\n",
       "    <tr>\n",
       "      <th>3</th>\n",
       "      <td>Salvation Army</td>\n",
       "      <td>1904000000</td>\n",
       "      <td>Domestic Needs</td>\n",
       "      <td>David Hudson</td>\n",
       "      <td>Sep 30, 2017</td>\n",
       "      <td>Alexandria, Virginia</td>\n",
       "      <td>United States</td>\n",
       "    </tr>\n",
       "    <tr>\n",
       "      <th>4</th>\n",
       "      <td>YMCA of the USA</td>\n",
       "      <td>1202000000</td>\n",
       "      <td>Youth</td>\n",
       "      <td>Kevin Washington</td>\n",
       "      <td>Dec 31, 2017</td>\n",
       "      <td>Chicago, Illinois</td>\n",
       "      <td>United States</td>\n",
       "    </tr>\n",
       "  </tbody>\n",
       "</table>\n",
       "</div>"
      ],
      "text/plain": [
       "                           name   Income($)                Field  \\\n",
       "0          United Way Worldwide  3708000000       Domestic Needs   \n",
       "1  Task Force for Global Health  3154000000  International Needs   \n",
       "2               Feeding America  2150000000       Domestic Needs   \n",
       "3                Salvation Army  1904000000       Domestic Needs   \n",
       "4               YMCA of the USA  1202000000                Youth   \n",
       "\n",
       "                  Top Person Fiscal Year End          Headquarters  \\\n",
       "0            Brian Gallagher    Jun 30, 2018  Alexandria, Virginia   \n",
       "1                 David Ross    Aug 31, 2018      Decatur, Georgia   \n",
       "2  Claire Babineaux-Fontenot    Jun 30, 2017     Chicago, Illinois   \n",
       "3               David Hudson    Sep 30, 2017  Alexandria, Virginia   \n",
       "4           Kevin Washington    Dec 31, 2017     Chicago, Illinois   \n",
       "\n",
       "         Country  \n",
       "0  United States  \n",
       "1  United States  \n",
       "2  United States  \n",
       "3  United States  \n",
       "4  United States  "
      ]
     },
     "execution_count": 8,
     "metadata": {},
     "output_type": "execute_result"
    }
   ],
   "source": [
    "df.head(5)"
   ]
  },
  {
   "cell_type": "markdown",
   "metadata": {},
   "source": [
    "Now we have our data and can save it for further use."
   ]
  },
  {
   "cell_type": "code",
   "execution_count": 9,
   "metadata": {},
   "outputs": [],
   "source": [
    "#save the data to a csv file\n",
    "df.to_csv('../../generated/scraping/forbes/forbes_charity_info.csv')"
   ]
  },
  {
   "cell_type": "code",
   "execution_count": 10,
   "metadata": {},
   "outputs": [
    {
     "data": {
      "text/html": [
       "<div>\n",
       "<table border=\"1\" class=\"dataframe\">\n",
       "  <thead>\n",
       "    <tr style=\"text-align: right;\">\n",
       "      <th></th>\n",
       "      <th>name</th>\n",
       "      <th>Income($)</th>\n",
       "      <th>Field</th>\n",
       "      <th>Top Person</th>\n",
       "      <th>Fiscal Year End</th>\n",
       "      <th>Headquarters</th>\n",
       "      <th>Country</th>\n",
       "    </tr>\n",
       "  </thead>\n",
       "  <tbody>\n",
       "    <tr>\n",
       "      <th>0</th>\n",
       "      <td>United Way Worldwide</td>\n",
       "      <td>3708000000</td>\n",
       "      <td>Domestic Needs</td>\n",
       "      <td>Brian Gallagher</td>\n",
       "      <td>Jun 30, 2018</td>\n",
       "      <td>Alexandria, Virginia</td>\n",
       "      <td>United States</td>\n",
       "    </tr>\n",
       "    <tr>\n",
       "      <th>1</th>\n",
       "      <td>Task Force for Global Health</td>\n",
       "      <td>3154000000</td>\n",
       "      <td>International Needs</td>\n",
       "      <td>David Ross</td>\n",
       "      <td>Aug 31, 2018</td>\n",
       "      <td>Decatur, Georgia</td>\n",
       "      <td>United States</td>\n",
       "    </tr>\n",
       "    <tr>\n",
       "      <th>2</th>\n",
       "      <td>Feeding America</td>\n",
       "      <td>2150000000</td>\n",
       "      <td>Domestic Needs</td>\n",
       "      <td>Claire Babineaux-Fontenot</td>\n",
       "      <td>Jun 30, 2017</td>\n",
       "      <td>Chicago, Illinois</td>\n",
       "      <td>United States</td>\n",
       "    </tr>\n",
       "    <tr>\n",
       "      <th>3</th>\n",
       "      <td>Salvation Army</td>\n",
       "      <td>1904000000</td>\n",
       "      <td>Domestic Needs</td>\n",
       "      <td>David Hudson</td>\n",
       "      <td>Sep 30, 2017</td>\n",
       "      <td>Alexandria, Virginia</td>\n",
       "      <td>United States</td>\n",
       "    </tr>\n",
       "    <tr>\n",
       "      <th>4</th>\n",
       "      <td>YMCA of the USA</td>\n",
       "      <td>1202000000</td>\n",
       "      <td>Youth</td>\n",
       "      <td>Kevin Washington</td>\n",
       "      <td>Dec 31, 2017</td>\n",
       "      <td>Chicago, Illinois</td>\n",
       "      <td>United States</td>\n",
       "    </tr>\n",
       "  </tbody>\n",
       "</table>\n",
       "</div>"
      ],
      "text/plain": [
       "                           name   Income($)                Field  \\\n",
       "0          United Way Worldwide  3708000000       Domestic Needs   \n",
       "1  Task Force for Global Health  3154000000  International Needs   \n",
       "2               Feeding America  2150000000       Domestic Needs   \n",
       "3                Salvation Army  1904000000       Domestic Needs   \n",
       "4               YMCA of the USA  1202000000                Youth   \n",
       "\n",
       "                  Top Person Fiscal Year End          Headquarters  \\\n",
       "0            Brian Gallagher    Jun 30, 2018  Alexandria, Virginia   \n",
       "1                 David Ross    Aug 31, 2018      Decatur, Georgia   \n",
       "2  Claire Babineaux-Fontenot    Jun 30, 2017     Chicago, Illinois   \n",
       "3               David Hudson    Sep 30, 2017  Alexandria, Virginia   \n",
       "4           Kevin Washington    Dec 31, 2017     Chicago, Illinois   \n",
       "\n",
       "         Country  \n",
       "0  United States  \n",
       "1  United States  \n",
       "2  United States  \n",
       "3  United States  \n",
       "4  United States  "
      ]
     },
     "execution_count": 10,
     "metadata": {},
     "output_type": "execute_result"
    }
   ],
   "source": [
    "#reload the data to make sure it's okay\n",
    "df_test = pd.read_csv('../../generated/scraping/forbes/forbes_charity_info.csv', index_col=0)\n",
    "df_test.head(5)"
   ]
  },
  {
   "cell_type": "markdown",
   "metadata": {},
   "source": [
    "Yeah, it's fine. Onward to the analysis!"
   ]
  },
  {
   "cell_type": "markdown",
   "metadata": {},
   "source": [
    "__Names__\n",
    "\n",
    "We start by analysing the names of the charities. This is the most important value, since we later will be matching the names against the entities in the panama papers.\n",
    "\n",
    "To figure out how often we might accidentally come across matches based on rather generic names, we analyse the words that make up the names."
   ]
  },
  {
   "cell_type": "code",
   "execution_count": 11,
   "metadata": {},
   "outputs": [
    {
     "data": {
      "text/html": [
       "<div>\n",
       "<table border=\"1\" class=\"dataframe\">\n",
       "  <thead>\n",
       "    <tr style=\"text-align: right;\">\n",
       "      <th></th>\n",
       "      <th>Words</th>\n",
       "      <th>Count</th>\n",
       "    </tr>\n",
       "  </thead>\n",
       "  <tbody>\n",
       "    <tr>\n",
       "      <th>0</th>\n",
       "      <td>International</td>\n",
       "      <td>14</td>\n",
       "    </tr>\n",
       "    <tr>\n",
       "      <th>1</th>\n",
       "      <td>of</td>\n",
       "      <td>14</td>\n",
       "    </tr>\n",
       "    <tr>\n",
       "      <th>2</th>\n",
       "      <td>Foundation</td>\n",
       "      <td>13</td>\n",
       "    </tr>\n",
       "    <tr>\n",
       "      <th>3</th>\n",
       "      <td>America</td>\n",
       "      <td>9</td>\n",
       "    </tr>\n",
       "    <tr>\n",
       "      <th>4</th>\n",
       "      <td>American</td>\n",
       "      <td>9</td>\n",
       "    </tr>\n",
       "  </tbody>\n",
       "</table>\n",
       "</div>"
      ],
      "text/plain": [
       "           Words  Count\n",
       "0  International     14\n",
       "1             of     14\n",
       "2     Foundation     13\n",
       "3        America      9\n",
       "4       American      9"
      ]
     },
     "execution_count": 11,
     "metadata": {},
     "output_type": "execute_result"
    }
   ],
   "source": [
    "names = df['name']\n",
    "\n",
    "#Separate the words in the names\n",
    "split_names = names.str.split()\n",
    "words_in_names = pd.DataFrame([word for name in split_names for word in name], columns=['Words'])\n",
    "\n",
    "#Count how often specific words appear\n",
    "words_in_names['Count'] = 1\n",
    "word_frequency = words_in_names.groupby('Words').count().reset_index()\\\n",
    "                    .sort_values(by='Count', ascending=False)\\\n",
    "                    .reset_index(drop=True)\n",
    "word_frequency.head(5)"
   ]
  },
  {
   "cell_type": "markdown",
   "metadata": {},
   "source": [
    "We see that we have a lot of \"stop words\" (words that exist mostly for grammatical purposes, like \"of\" and \"for\"). Since these aren't very interesting (because they are everywhere!) we can remove them using nltk's predefined list of English stop words."
   ]
  },
  {
   "cell_type": "code",
   "execution_count": 12,
   "metadata": {},
   "outputs": [
    {
     "data": {
      "text/html": [
       "<div>\n",
       "<table border=\"1\" class=\"dataframe\">\n",
       "  <thead>\n",
       "    <tr style=\"text-align: right;\">\n",
       "      <th></th>\n",
       "      <th>Words</th>\n",
       "      <th>Count</th>\n",
       "    </tr>\n",
       "  </thead>\n",
       "  <tbody>\n",
       "    <tr>\n",
       "      <th>0</th>\n",
       "      <td>International</td>\n",
       "      <td>14</td>\n",
       "    </tr>\n",
       "    <tr>\n",
       "      <th>1</th>\n",
       "      <td>Foundation</td>\n",
       "      <td>13</td>\n",
       "    </tr>\n",
       "    <tr>\n",
       "      <th>2</th>\n",
       "      <td>America</td>\n",
       "      <td>9</td>\n",
       "    </tr>\n",
       "    <tr>\n",
       "      <th>3</th>\n",
       "      <td>American</td>\n",
       "      <td>9</td>\n",
       "    </tr>\n",
       "    <tr>\n",
       "      <th>4</th>\n",
       "      <td>United</td>\n",
       "      <td>5</td>\n",
       "    </tr>\n",
       "  </tbody>\n",
       "</table>\n",
       "</div>"
      ],
      "text/plain": [
       "           Words  Count\n",
       "0  International     14\n",
       "1     Foundation     13\n",
       "2        America      9\n",
       "3       American      9\n",
       "4         United      5"
      ]
     },
     "execution_count": 12,
     "metadata": {},
     "output_type": "execute_result"
    }
   ],
   "source": [
    "stop_words = set(stopwords.words('english'))\n",
    "big_words = word_frequency[word_frequency['Words'].str.lower().isin(stop_words) == False]\\\n",
    "                    .sort_values(by='Count', ascending=False)\\\n",
    "                    .reset_index(drop=True)\n",
    "big_words.head(5)"
   ]
  },
  {
   "cell_type": "code",
   "execution_count": 13,
   "metadata": {},
   "outputs": [
    {
     "data": {
      "text/plain": [
       "<matplotlib.axes._subplots.AxesSubplot at 0x7f5f460536a0>"
      ]
     },
     "execution_count": 13,
     "metadata": {},
     "output_type": "execute_result"
    }
   ],
   "source": [
    "big_words.plot(title='Distribution of the number of times a word appears in charity names')"
   ]
  },
  {
   "cell_type": "code",
   "execution_count": 14,
   "metadata": {},
   "outputs": [
    {
     "data": {
      "text/html": [
       "<div>\n",
       "<table border=\"1\" class=\"dataframe\">\n",
       "  <thead>\n",
       "    <tr style=\"text-align: right;\">\n",
       "      <th></th>\n",
       "      <th>Count</th>\n",
       "    </tr>\n",
       "  </thead>\n",
       "  <tbody>\n",
       "    <tr>\n",
       "      <th>count</th>\n",
       "      <td>195.000000</td>\n",
       "    </tr>\n",
       "    <tr>\n",
       "      <th>mean</th>\n",
       "      <td>1.502564</td>\n",
       "    </tr>\n",
       "    <tr>\n",
       "      <th>std</th>\n",
       "      <td>1.628909</td>\n",
       "    </tr>\n",
       "    <tr>\n",
       "      <th>min</th>\n",
       "      <td>1.000000</td>\n",
       "    </tr>\n",
       "    <tr>\n",
       "      <th>25%</th>\n",
       "      <td>1.000000</td>\n",
       "    </tr>\n",
       "    <tr>\n",
       "      <th>50%</th>\n",
       "      <td>1.000000</td>\n",
       "    </tr>\n",
       "    <tr>\n",
       "      <th>75%</th>\n",
       "      <td>1.000000</td>\n",
       "    </tr>\n",
       "    <tr>\n",
       "      <th>max</th>\n",
       "      <td>14.000000</td>\n",
       "    </tr>\n",
       "  </tbody>\n",
       "</table>\n",
       "</div>"
      ],
      "text/plain": [
       "            Count\n",
       "count  195.000000\n",
       "mean     1.502564\n",
       "std      1.628909\n",
       "min      1.000000\n",
       "25%      1.000000\n",
       "50%      1.000000\n",
       "75%      1.000000\n",
       "max     14.000000"
      ]
     },
     "execution_count": 14,
     "metadata": {},
     "output_type": "execute_result"
    }
   ],
   "source": [
    "big_words.describe()"
   ]
  },
  {
   "cell_type": "markdown",
   "metadata": {},
   "source": [
    "We can see that most words appear only once. Let's take a look at the more frequent ones."
   ]
  },
  {
   "cell_type": "code",
   "execution_count": 15,
   "metadata": {},
   "outputs": [
    {
     "data": {
      "text/html": [
       "<div>\n",
       "<table border=\"1\" class=\"dataframe\">\n",
       "  <thead>\n",
       "    <tr style=\"text-align: right;\">\n",
       "      <th></th>\n",
       "      <th>Count</th>\n",
       "    </tr>\n",
       "  </thead>\n",
       "  <tbody>\n",
       "    <tr>\n",
       "      <th>count</th>\n",
       "      <td>38.000000</td>\n",
       "    </tr>\n",
       "    <tr>\n",
       "      <th>mean</th>\n",
       "      <td>3.578947</td>\n",
       "    </tr>\n",
       "    <tr>\n",
       "      <th>std</th>\n",
       "      <td>2.900434</td>\n",
       "    </tr>\n",
       "    <tr>\n",
       "      <th>min</th>\n",
       "      <td>2.000000</td>\n",
       "    </tr>\n",
       "    <tr>\n",
       "      <th>25%</th>\n",
       "      <td>2.000000</td>\n",
       "    </tr>\n",
       "    <tr>\n",
       "      <th>50%</th>\n",
       "      <td>2.500000</td>\n",
       "    </tr>\n",
       "    <tr>\n",
       "      <th>75%</th>\n",
       "      <td>3.750000</td>\n",
       "    </tr>\n",
       "    <tr>\n",
       "      <th>max</th>\n",
       "      <td>14.000000</td>\n",
       "    </tr>\n",
       "  </tbody>\n",
       "</table>\n",
       "</div>"
      ],
      "text/plain": [
       "           Count\n",
       "count  38.000000\n",
       "mean    3.578947\n",
       "std     2.900434\n",
       "min     2.000000\n",
       "25%     2.000000\n",
       "50%     2.500000\n",
       "75%     3.750000\n",
       "max    14.000000"
      ]
     },
     "execution_count": 15,
     "metadata": {},
     "output_type": "execute_result"
    }
   ],
   "source": [
    "common_words = big_words[big_words['Count'] > 1]\n",
    "common_words.describe()"
   ]
  },
  {
   "cell_type": "code",
   "execution_count": 16,
   "metadata": {},
   "outputs": [
    {
     "data": {
      "text/plain": [
       "<matplotlib.axes._subplots.AxesSubplot at 0x7f5f2ac31da0>"
      ]
     },
     "execution_count": 16,
     "metadata": {},
     "output_type": "execute_result"
    },
    {
     "data": {
      "image/png": "[encoded data removed]",
      "text/plain": [
       "<Figure size 1080x720 with 1 Axes>"
      ]
     },
     "metadata": {},
     "output_type": "display_data"
    }
   ],
   "source": [
    "common_words.plot(kind='barh', x='Words', y='Count', figsize=(15, 10))"
   ]
  },
  {
   "cell_type": "markdown",
   "metadata": {},
   "source": [
    "We can see that while there are a few \"generic\" words (World, Committee, Society), some of the them are rather specialized (Hospital, Food, Children's). These are the ones that should help us track down charities in the panama papers."
   ]
  },
  {
   "cell_type": "markdown",
   "metadata": {},
   "source": [
    "__Headquarters__\n",
    "\n",
    "Since it is possible to cross-check addresses in the panama papers, we also look at headquarters."
   ]
  },
  {
   "cell_type": "code",
   "execution_count": 17,
   "metadata": {},
   "outputs": [
    {
     "data": {
      "text/html": [
       "<div>\n",
       "<table border=\"1\" class=\"dataframe\">\n",
       "  <thead>\n",
       "    <tr style=\"text-align: right;\">\n",
       "      <th></th>\n",
       "      <th>Headquarters</th>\n",
       "      <th>Count</th>\n",
       "    </tr>\n",
       "  </thead>\n",
       "  <tbody>\n",
       "    <tr>\n",
       "      <th>0</th>\n",
       "      <td>New York, New York</td>\n",
       "      <td>23</td>\n",
       "    </tr>\n",
       "    <tr>\n",
       "      <th>1</th>\n",
       "      <td>Washington, District of Columbia</td>\n",
       "      <td>10</td>\n",
       "    </tr>\n",
       "    <tr>\n",
       "      <th>2</th>\n",
       "      <td>Alexandria, Virginia</td>\n",
       "      <td>5</td>\n",
       "    </tr>\n",
       "    <tr>\n",
       "      <th>3</th>\n",
       "      <td>Chicago, Illinois</td>\n",
       "      <td>5</td>\n",
       "    </tr>\n",
       "    <tr>\n",
       "      <th>4</th>\n",
       "      <td>Colorado Springs, Colorado</td>\n",
       "      <td>3</td>\n",
       "    </tr>\n",
       "  </tbody>\n",
       "</table>\n",
       "</div>"
      ],
      "text/plain": [
       "                       Headquarters  Count\n",
       "0                New York, New York     23\n",
       "1  Washington, District of Columbia     10\n",
       "2              Alexandria, Virginia      5\n",
       "3                 Chicago, Illinois      5\n",
       "4        Colorado Springs, Colorado      3"
      ]
     },
     "execution_count": 17,
     "metadata": {},
     "output_type": "execute_result"
    }
   ],
   "source": [
    "hq = pd.DataFrame(df['Headquarters'])\n",
    "hq['Count'] = 1\n",
    "hq_frequency = hq.groupby('Headquarters').count().sort_values(by='Count', ascending=False).reset_index()\n",
    "hq_frequency.head(5)"
   ]
  },
  {
   "cell_type": "code",
   "execution_count": 18,
   "metadata": {},
   "outputs": [
    {
     "data": {
      "text/plain": [
       "<matplotlib.axes._subplots.AxesSubplot at 0x7f5f2a7d7400>"
      ]
     },
     "execution_count": 18,
     "metadata": {},
     "output_type": "execute_result"
    },
    {
     "data": {
      "image/png": "[encoded data removed]",
      "text/plain": [
       "<Figure size 432x288 with 1 Axes>"
      ]
     },
     "metadata": {},
     "output_type": "display_data"
    }
   ],
   "source": [
    "hq_frequency.plot(title='Distribution of the headquarters for charities')"
   ]
  },
  {
   "cell_type": "markdown",
   "metadata": {},
   "source": [
    "We see that quite a few charities are concentrated in a few places."
   ]
  },
  {
   "cell_type": "code",
   "execution_count": 19,
   "metadata": {},
   "outputs": [
    {
     "data": {
      "text/html": [
       "<div>\n",
       "<table border=\"1\" class=\"dataframe\">\n",
       "  <thead>\n",
       "    <tr style=\"text-align: right;\">\n",
       "      <th></th>\n",
       "      <th>Count</th>\n",
       "    </tr>\n",
       "  </thead>\n",
       "  <tbody>\n",
       "    <tr>\n",
       "      <th>count</th>\n",
       "      <td>13.000000</td>\n",
       "    </tr>\n",
       "    <tr>\n",
       "      <th>mean</th>\n",
       "      <td>4.923077</td>\n",
       "    </tr>\n",
       "    <tr>\n",
       "      <th>std</th>\n",
       "      <td>5.880215</td>\n",
       "    </tr>\n",
       "    <tr>\n",
       "      <th>min</th>\n",
       "      <td>2.000000</td>\n",
       "    </tr>\n",
       "    <tr>\n",
       "      <th>25%</th>\n",
       "      <td>2.000000</td>\n",
       "    </tr>\n",
       "    <tr>\n",
       "      <th>50%</th>\n",
       "      <td>3.000000</td>\n",
       "    </tr>\n",
       "    <tr>\n",
       "      <th>75%</th>\n",
       "      <td>5.000000</td>\n",
       "    </tr>\n",
       "    <tr>\n",
       "      <th>max</th>\n",
       "      <td>23.000000</td>\n",
       "    </tr>\n",
       "  </tbody>\n",
       "</table>\n",
       "</div>"
      ],
      "text/plain": [
       "           Count\n",
       "count  13.000000\n",
       "mean    4.923077\n",
       "std     5.880215\n",
       "min     2.000000\n",
       "25%     2.000000\n",
       "50%     3.000000\n",
       "75%     5.000000\n",
       "max    23.000000"
      ]
     },
     "execution_count": 19,
     "metadata": {},
     "output_type": "execute_result"
    }
   ],
   "source": [
    "most_frequent = hq_frequency[hq_frequency['Count'] > 1]\n",
    "most_frequent.describe()"
   ]
  },
  {
   "cell_type": "code",
   "execution_count": 20,
   "metadata": {},
   "outputs": [
    {
     "data": {
      "text/plain": [
       "<matplotlib.axes._subplots.AxesSubplot at 0x7f5f2a7d7e10>"
      ]
     },
     "execution_count": 20,
     "metadata": {},
     "output_type": "execute_result"
    },
    {
     "data": {
      "image/png": "[encoded data removed]",
      "text/plain": [
       "<Figure size 432x288 with 1 Axes>"
      ]
     },
     "metadata": {},
     "output_type": "display_data"
    }
   ],
   "source": [
    "most_frequent.plot(kind='barh', x='Headquarters', y='Count', title='Frequency of most common name words')"
   ]
  },
  {
   "cell_type": "markdown",
   "metadata": {},
   "source": [
    "Great! We have a point of reference to help us confirm whether a panama paper entity is in fact the charity with the same name!"
   ]
  },
  {
   "cell_type": "code",
   "execution_count": 21,
   "metadata": {},
   "outputs": [
    {
     "data": {
      "text/plain": [
       "count    1.000000e+02\n",
       "mean     4.546900e+08\n",
       "std      5.512227e+08\n",
       "min      1.400000e+08\n",
       "25%      1.847500e+08\n",
       "50%      2.555000e+08\n",
       "75%      5.102500e+08\n",
       "max      3.708000e+09\n",
       "Name: Income($), dtype: float64"
      ]
     },
     "execution_count": 21,
     "metadata": {},
     "output_type": "execute_result"
    }
   ],
   "source": [
    "df['Income($)'].describe()"
   ]
  },
  {
   "cell_type": "markdown",
   "metadata": {},
   "source": [
    "Knowing the income isn't so important, but if we find any of these charities, it might give us an indicator of how lucrative storing money offshore is."
   ]
  }
 ],
 "metadata": {
  "kernelspec": {
   "display_name": "Python 3",
   "language": "python",
   "name": "python3"
  },
  "language_info": {
   "codemirror_mode": {
    "name": "ipython",
    "version": 3
   },
   "file_extension": ".py",
   "mimetype": "text/x-python",
   "name": "python",
   "nbconvert_exporter": "python",
   "pygments_lexer": "ipython3",
   "version": "3.6.5"
  }
 },
 "nbformat": 4,
 "nbformat_minor": 2
}
