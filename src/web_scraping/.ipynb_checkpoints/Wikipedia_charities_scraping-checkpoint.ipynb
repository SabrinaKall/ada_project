{
 "cells": [
  {
   "cell_type": "markdown",
   "metadata": {},
   "source": [
    "# Wikipedia list of charitable foundations web scraping\n",
    "\n",
    "In order to find charities in the Panama Papers or other data leaks, we first need to have charities to look for. In addition to their names, we would like to collect identifying information such as their top people's names, their headquarter locations (since the panama paper entities sometimes have addresses), former names of the charity (in case these show up) and other indicative information such as their activity sector and income (for later analysis of hits).\n",
    "\n",
    "We can find most of this information on wikipedia's list of charitable foundations (see url below). But in order to work with the data, we first need to scrape it off the web (here using the beautiful soup library) and clean it."
   ]
  },
  {
   "cell_type": "code",
   "execution_count": 1,
   "metadata": {},
   "outputs": [],
   "source": [
    "import requests\n",
    "from bs4 import BeautifulSoup\n",
    "import pandas as pd\n",
    "import numpy as np\n",
    "import nltk\n",
    "from nltk.corpus import stopwords"
   ]
  },
  {
   "cell_type": "markdown",
   "metadata": {},
   "source": [
    "First, we get the wikipedia page in html."
   ]
  },
  {
   "cell_type": "code",
   "execution_count": 2,
   "metadata": {},
   "outputs": [],
   "source": [
    "#get html webpage\n",
    "URL = 'https://en.wikipedia.org/wiki/List_of_charitable_foundations'\n",
    "r = requests.get(URL)\n",
    "page_body = r.text\n",
    "soup = BeautifulSoup(page_body, 'html.parser')"
   ]
  },
  {
   "cell_type": "markdown",
   "metadata": {},
   "source": [
    "The wikipedia page shows a list of charities where each element of the list is a link to another wikipedia page about the charity in question. We need to extract the name of the charity and link to its wikipedia page from the list."
   ]
  },
  {
   "cell_type": "code",
   "execution_count": 3,
   "metadata": {},
   "outputs": [],
   "source": [
    "#The charities are sorted alphabetically. In this list, each element is a letter.\n",
    "link_sections = soup.findAll('div', class_=\"div-col columns column-width\")"
   ]
  },
  {
   "cell_type": "code",
   "execution_count": 4,
   "metadata": {},
   "outputs": [],
   "source": [
    "#extract the links from the sections\n",
    "links_lists = [x.findAll('a') for x in link_sections]\n",
    "flat_links_list = [item for sublist in links_lists for item in sublist]"
   ]
  },
  {
   "cell_type": "code",
   "execution_count": 5,
   "metadata": {},
   "outputs": [
    {
     "data": {
      "text/plain": [
       "[<a href=\"/wiki/AARP#The_AARP_Foundation\" title=\"AARP\">AARP Foundation</a>,\n",
       " <a href=\"/wiki/Acorns_Children%27s_Hospice\" title=\"Acorns Children's Hospice\">Acorns Children's Hospice</a>]"
      ]
     },
     "execution_count": 5,
     "metadata": {},
     "output_type": "execute_result"
    }
   ],
   "source": [
    "flat_links_list[:2]"
   ]
  },
  {
   "cell_type": "code",
   "execution_count": 6,
   "metadata": {},
   "outputs": [],
   "source": [
    "# Extract the name and link of each charity to a dataframe\n",
    "charities = pd.DataFrame([(x.text, 'https://en.wikipedia.org' + x.get('href')) for x in flat_links_list], \n",
    "                        columns=['name', 'link'])"
   ]
  },
  {
   "cell_type": "code",
   "execution_count": 7,
   "metadata": {},
   "outputs": [],
   "source": [
    "#Save the data, just in case\n",
    "charities.to_csv('../../generated/scraping/wikipedia/wikipedia_charity_links.csv')"
   ]
  },
  {
   "cell_type": "markdown",
   "metadata": {},
   "source": [
    "Now we want to extract information about individual charities from the navbox on their linked pages. We use the navbox because it is already semi-structured, making scraping easier. But we need to know what we are looking for, so we collect the available features."
   ]
  },
  {
   "cell_type": "code",
   "execution_count": 8,
   "metadata": {},
   "outputs": [],
   "source": [
    "def list_features(charities):\n",
    "    '''\n",
    "    Goes through a list of wikipedia pages and extracts the features shown in the table\n",
    "    \n",
    "    input: dataframe including a 'Link' column of wikipedia links as strings\n",
    "    output: a Series of strings\n",
    "    '''\n",
    "    \n",
    "    features = []\n",
    "    \n",
    "    #Go through each link\n",
    "    for index, row in charities.iterrows():\n",
    "        link = row['link']\n",
    "\n",
    "        #find the table\n",
    "        r_link = requests.get(link)\n",
    "        soup_link = BeautifulSoup(r_link.text, 'html.parser')\n",
    "        table = soup_link.find('table', class_=\"infobox vcard\")\n",
    "\n",
    "        #if it exists, find content and extract their type\n",
    "        if table is not None:\n",
    "            table_rows = table.findAll('tr')\n",
    "            for row in table_rows:\n",
    "                feature = row.find('th')\n",
    "                if feature is not None:\n",
    "                    feature = feature.text\n",
    "                    features.append(feature)\n",
    "    #return the features as a series of unique strings\n",
    "    return pd.Series(features).unique()\n",
    "                    "
   ]
  },
  {
   "cell_type": "code",
   "execution_count": 9,
   "metadata": {},
   "outputs": [
    {
     "data": {
      "text/plain": [
       "array(['Formation', 'Founder', 'Type', 'Tax ID no. ', 'Headquarters',\n",
       "       'Location', 'Members  ', 'CEO', 'Board Chair', 'Subsidiaries',\n",
       "       'Revenue  ', 'Expenses', 'Staff  ', 'Volunteers  ', 'Website',\n",
       "       'Formerly called', 'Motto', 'Purpose', 'Region served ',\n",
       "       'Legal status', 'Membership  ', 'Secretary General', 'Founded',\n",
       "       'Focus', 'Area served ', 'Method', 'Endowment', 'Product', 'Owner',\n",
       "       'Key people', 'Employees  ', 'Services', 'Chair',\n",
       "       'Co-executive director',\n",
       "       'Revenue .mw-parser-output .nobold{font-weight:normal}(2014) ',\n",
       "       'Expenses (2014)', 'Employees (2014) ', 'Volunteers (2014) ',\n",
       "       'Alpha Sigma Tau', 'Scope', 'Colors', 'Symbol', 'Flower', 'Jewel',\n",
       "       'Publication', 'Philanthropy', 'Chapters', 'Established',\n",
       "       'Director', 'President', 'Main organ',\n",
       "       'Revenue .mw-parser-output .nobold{font-weight:normal}(2015) ',\n",
       "       'Expenses (2015)', 'Affiliations', 'Founders', 'Coordinates',\n",
       "       'Origins', 'Chief Executive Officer', 'Chair, Board of Directors',\n",
       "       'Executive Director',\n",
       "       'Revenue .mw-parser-output .nobold{font-weight:normal}(2016) ',\n",
       "       'Expenses (2016)', 'Employees (2015) ', 'Volunteers (2015) ',\n",
       "       'Region ', 'National President & CEO', 'Abbreviation',\n",
       "       'Interim Executive Director', 'Parent organization',\n",
       "       'Budget .mw-parser-output .nobold{font-weight:normal}(2016) ',\n",
       "       'Industry', 'Area served', 'Revenue', 'Number of employees',\n",
       "       'Chairman', 'Chief Executive', 'Registration\\xa0no.', 'Fields',\n",
       "       'Deputy Secretary General', 'Chair of the Supervisory Board',\n",
       "       'Chairman of the Governing Body', 'President/CEO',\n",
       "       \"Children's National Medical Center\", 'Geography', 'Organization',\n",
       "       'Care system', 'Hospital type', 'Affiliated university',\n",
       "       'Emergency department', 'Beds', 'History', 'Links', 'Lists',\n",
       "       'President and CEO', 'Board\\xa0of directors', 'Official language ',\n",
       "       'President of the Board', 'Chair, Board of Trustees',\n",
       "       'President, Chief Executive Officer',\n",
       "       'Chair, Adult Advisory Council', 'Employees (2016) ',\n",
       "       'Volunteers (2016) ', 'Products', 'Disbursements', 'Net income',\n",
       "       'Methods',\n",
       "       'Endowment .mw-parser-output .nobold{font-weight:normal}(2017)',\n",
       "       'Girl Scouts of the United States of America', 'Country',\n",
       "       'Membership', 'Affiliation', 'Leader', 'Budget  ', 'Remarks',\n",
       "       'Founded at', 'President, Treasurer', 'Employees (2013) ',\n",
       "       'Volunteers (2013) ', 'President & CEO', 'Executive director',\n",
       "       'Vice president', 'Named after',\n",
       "       'Budget .mw-parser-output .nobold{font-weight:normal}(FY 2015) ',\n",
       "       'Revenue (FY 2015) ', 'Staff (2015) ',\n",
       "       'Revenue .mw-parser-output .nobold{font-weight:normal}(2017) ',\n",
       "       'Expenses (2017)', 'Budget', 'Address', 'Predecessor',\n",
       "       'Total assets', 'Total equity', 'Chairman of Governors',\n",
       "       'Notable Board Members[1]',\n",
       "       'Budget .mw-parser-output .nobold{font-weight:normal}(2014) ',\n",
       "       'Faculty', 'Staff', 'Operating income', 'Board of Directors',\n",
       "       'Merger\\xa0of', 'Endowment (2017)', 'Superior General',\n",
       "       'Honorary President', \"St. Jude Children's Research Hospital\",\n",
       "       'Standards', 'Chief Scientific Adviser',\n",
       "       'Revenue .mw-parser-output .nobold{font-weight:normal}(2016-7) ',\n",
       "       'Expenses (2016-7)', 'Employees (2016-7) ', 'Volunteers (2016-7) ',\n",
       "       'Number of locations', 'Tom Joyner', 'Birth name', 'Born', 'Show',\n",
       "       'Style', 'Spouse(s)', 'Children', 'Head', 'Co-Chairman',\n",
       "       'Endowment .mw-parser-output .nobold{font-weight:normal}(2016)',\n",
       "       'Managing Director',\n",
       "       'Revenue .mw-parser-output .nobold{font-weight:normal}(2018) ',\n",
       "       'Expenses (2018)',\n",
       "       'World Association of Girl Guides and Girl Scouts',\n",
       "       'Chair World Board', 'President Emeritus', 'Director General'], dtype=object)"
      ]
     },
     "execution_count": 9,
     "metadata": {},
     "output_type": "execute_result"
    }
   ],
   "source": [
    "#Get the list of features we can potentially extract about a charity\n",
    "list_features(charities)"
   ]
  },
  {
   "cell_type": "markdown",
   "metadata": {},
   "source": [
    "Using the features displayed above, we can handcraft lists of more or less synonymous features that will help us create a function capable of handling different type of wikipedia pages."
   ]
  },
  {
   "cell_type": "code",
   "execution_count": 10,
   "metadata": {},
   "outputs": [],
   "source": [
    "people_features = ['CEO', 'Secretary General', 'Owner', 'Key people',\n",
    "                                'Chair', 'Co-executive director', 'President', 'Board Chair',\n",
    "                                'Chief Executive Officer', 'Board of Directors', 'Executive Director',\n",
    "                                'National President & CEO', 'Chairman', 'Chief Executive', \n",
    "                                'Deputy Secretary General', 'Chair of the Supervisory Board',\n",
    "                                'Chairman of the Governing Body', 'President/CEO', 'President and CEO',\n",
    "                                'Board\\xa0of directors', 'President of the Board', 'Board of Trustees',\n",
    "                                'Chair, Adult Advisory Council', 'Leader', 'President, Treasurer', \n",
    "                                'President & CEO', 'Executive director', 'Vice president', 'Predecessor',\n",
    "                                'Chairman of Governors', 'Notable Board Members[1]', 'Board of Directors',\n",
    "                                'Superior General', 'Honorary President', 'Co-Chairman', 'Managing Director',\n",
    "                                'Chair World Board', 'President Emeritus', 'Director General']\n",
    "\n",
    "money_features = ['Revenue', 'Revenue .mw-parser-output .nobold{font-weight:normal}(2016) ',\n",
    "                                'Revenue .mw-parser-output .nobold{font-weight:normal}(2015) ', \n",
    "                                'Revenue .mw-parser-output .nobold{font-weight:normal}(2014) ',\n",
    "                                'Revenue .mw-parser-output .nobold{font-weight:normal}(2017) ',\n",
    "                                'Revenue .mw-parser-output .nobold{font-weight:normal}(2016) ',\n",
    "                                'Net income', 'Total assets', 'Operating income',\n",
    "                                'Revenue (FY 2015)' ]\n",
    "\n",
    "hq_features = ['Headquarters', 'Address']\n",
    "\n",
    "country_features = ['Location', 'Chapters', 'Region ', 'Country']\n",
    "\n",
    "old_name_features = ['Formerly called', 'Abbreviation', 'Parent organization']\n",
    "\n",
    "affiliation_features = ['Subsidiaries', 'Affiliation']\n",
    "\n",
    "purpose_features = ['Purpose', 'Focus', 'Product', 'Services', 'Industry', 'Fields']"
   ]
  },
  {
   "cell_type": "markdown",
   "metadata": {},
   "source": [
    "Now we can get down to work and extract actual information from the links."
   ]
  },
  {
   "cell_type": "code",
   "execution_count": 11,
   "metadata": {},
   "outputs": [],
   "source": [
    "#Helper functions to extract information from a wikipedia page about a charity\n",
    "\n",
    "#using the list above, go through the charity wikipedia pages and attempt to draw out any possible information\n",
    "def extract_info_from_table(table):\n",
    "    '''\n",
    "    Extracts information from a given html table\n",
    "    \n",
    "    Input: an html table containing information about a charity\n",
    "    Output: list of string of the following shape about a charity (if present):\n",
    "        [leader1, leader2, leader3, revenue, hq, location, other_names, subsidiaries, purpose]\n",
    "    '''\n",
    "    \n",
    "    #placeholders for the information we want\n",
    "    #note that we have 3 slots for leaders because there may be several important people listed (CEO, Chairman, etc...)\n",
    "    leader1 = None\n",
    "    leader2 = None\n",
    "    leader3 = None\n",
    "    leader1_set = False\n",
    "    leader2_set = False\n",
    "    leader3_set = False\n",
    "    revenue = None\n",
    "    hq = None\n",
    "    location = None\n",
    "    other_names = None\n",
    "    subsidiaries = None\n",
    "    purpose = None\n",
    "        \n",
    "    if table is not None:\n",
    "        #for each table row\n",
    "        table_rows = table.findAll('tr')\n",
    "        for row in table_rows:\n",
    "            #find the feature and its value\n",
    "            feature = row.find('th')\n",
    "            value = row.find('td')\n",
    "            if feature is not None and value is not None:\n",
    "                #cast them to strings\n",
    "                feature = feature.text\n",
    "                value = value.text\n",
    "                \n",
    "                #check which category the feature belongs to and insert the value in a placeholder\n",
    "                if feature in people_features:\n",
    "                    if leader1_set == False:\n",
    "                        leader1 = value\n",
    "                        leader1_set = True\n",
    "                    elif leader2_set == False:\n",
    "                        leader2 = value\n",
    "                        leader2_set = True\n",
    "                    elif leader3_set == False:\n",
    "                        leader3 = value\n",
    "                        leader3_set = True\n",
    "                elif feature in money_features:\n",
    "                    revenue = value\n",
    "                elif feature in hq_features:\n",
    "                    hq = value\n",
    "                elif feature in country_features:\n",
    "                    location = value\n",
    "                elif feature in old_name_features:\n",
    "                    other_names = value\n",
    "                elif feature in affiliation_features:\n",
    "                    subsidiaries = value\n",
    "                elif feature in purpose_features:\n",
    "                    purpose = value\n",
    "                    \n",
    "    #return the information\n",
    "    return [leader1, leader2, leader3, revenue, hq, location, other_names, subsidiaries, purpose]\n",
    "    \n",
    "        \n",
    "\n",
    "def extract_info_from_link(link):\n",
    "    '''\n",
    "    Given a wikipedia link, find its navbox and extract information\n",
    "    \n",
    "    Input: wikipedia link\n",
    "    Output: list of string of the following shape about a charity (if present):\n",
    "            [leader1, leader2, leader3, revenue, hq, location, other_names, subsidiaries, purpose]\n",
    "    \n",
    "    '''\n",
    "    r_link = requests.get(link)\n",
    "    soup_link = BeautifulSoup(r_link.text, 'html.parser')\n",
    "    table = soup_link.find('table', class_=\"infobox vcard\")\n",
    "    return extract_info_from_table(table)"
   ]
  },
  {
   "cell_type": "markdown",
   "metadata": {},
   "source": [
    "Using these helper functions, we iterate through the links and check each one for information."
   ]
  },
  {
   "cell_type": "code",
   "execution_count": 12,
   "metadata": {},
   "outputs": [],
   "source": [
    "detailed_charities = []\n",
    "for index, row in charities.iterrows():\n",
    "    name = row['name']\n",
    "    link = row['link']\n",
    "    charity_details = extract_info_from_link(link)\n",
    "    #we make sure to save the charity's name as well\n",
    "    charity_details.insert(0, name)\n",
    "    detailed_charities.append(charity_details)"
   ]
  },
  {
   "cell_type": "code",
   "execution_count": 13,
   "metadata": {},
   "outputs": [
    {
     "data": {
      "text/html": [
       "<div>\n",
       "<table border=\"1\" class=\"dataframe\">\n",
       "  <thead>\n",
       "    <tr style=\"text-align: right;\">\n",
       "      <th></th>\n",
       "      <th>name</th>\n",
       "      <th>Leader 1</th>\n",
       "      <th>Leader 2</th>\n",
       "      <th>Leader 3</th>\n",
       "      <th>Revenue</th>\n",
       "      <th>Headquarters</th>\n",
       "      <th>Location</th>\n",
       "      <th>Other names</th>\n",
       "      <th>Subsidiaries</th>\n",
       "      <th>Purpose</th>\n",
       "    </tr>\n",
       "  </thead>\n",
       "  <tbody>\n",
       "    <tr>\n",
       "      <th>0</th>\n",
       "      <td>AARP Foundation</td>\n",
       "      <td>Jo Ann Jenkins</td>\n",
       "      <td>Joan R. Ruff</td>\n",
       "      <td>None</td>\n",
       "      <td>None</td>\n",
       "      <td>Washington, D.C., U.S.</td>\n",
       "      <td>Offices in all 50 U.S. states, the District of...</td>\n",
       "      <td>American Association of Retired Persons</td>\n",
       "      <td>AARP FoundationAARP Services IncLegal Counsel ...</td>\n",
       "      <td>None</td>\n",
       "    </tr>\n",
       "    <tr>\n",
       "      <th>1</th>\n",
       "      <td>Acorns Children's Hospice</td>\n",
       "      <td>None</td>\n",
       "      <td>None</td>\n",
       "      <td>None</td>\n",
       "      <td>None</td>\n",
       "      <td>None</td>\n",
       "      <td>None</td>\n",
       "      <td>None</td>\n",
       "      <td>None</td>\n",
       "      <td>To provide palliative care</td>\n",
       "    </tr>\n",
       "    <tr>\n",
       "      <th>2</th>\n",
       "      <td>Action Against Hunger</td>\n",
       "      <td>None</td>\n",
       "      <td>None</td>\n",
       "      <td>None</td>\n",
       "      <td>None</td>\n",
       "      <td>New York, USA; Toronto, Canada; London, UK; Pa...</td>\n",
       "      <td>None</td>\n",
       "      <td>None</td>\n",
       "      <td>None</td>\n",
       "      <td>To end child malnutrition whilst providing com...</td>\n",
       "    </tr>\n",
       "    <tr>\n",
       "      <th>3</th>\n",
       "      <td>Action Deafness</td>\n",
       "      <td>None</td>\n",
       "      <td>None</td>\n",
       "      <td>None</td>\n",
       "      <td>None</td>\n",
       "      <td>None</td>\n",
       "      <td>None</td>\n",
       "      <td>None</td>\n",
       "      <td>None</td>\n",
       "      <td>None</td>\n",
       "    </tr>\n",
       "    <tr>\n",
       "      <th>4</th>\n",
       "      <td>ActionAid</td>\n",
       "      <td>Adriano Campolina</td>\n",
       "      <td>None</td>\n",
       "      <td>None</td>\n",
       "      <td>None</td>\n",
       "      <td>None</td>\n",
       "      <td>Johannesburg (Headquarters)</td>\n",
       "      <td>None</td>\n",
       "      <td>None</td>\n",
       "      <td>ActionAid works with communities to reduce pov...</td>\n",
       "    </tr>\n",
       "  </tbody>\n",
       "</table>\n",
       "</div>"
      ],
      "text/plain": [
       "                        name           Leader 1      Leader 2 Leader 3  \\\n",
       "0            AARP Foundation     Jo Ann Jenkins  Joan R. Ruff     None   \n",
       "1  Acorns Children's Hospice               None          None     None   \n",
       "2      Action Against Hunger               None          None     None   \n",
       "3            Action Deafness               None          None     None   \n",
       "4                  ActionAid  Adriano Campolina          None     None   \n",
       "\n",
       "  Revenue                                       Headquarters  \\\n",
       "0    None                             Washington, D.C., U.S.   \n",
       "1    None                                               None   \n",
       "2    None  New York, USA; Toronto, Canada; London, UK; Pa...   \n",
       "3    None                                               None   \n",
       "4    None                                               None   \n",
       "\n",
       "                                            Location  \\\n",
       "0  Offices in all 50 U.S. states, the District of...   \n",
       "1                                               None   \n",
       "2                                               None   \n",
       "3                                               None   \n",
       "4                        Johannesburg (Headquarters)   \n",
       "\n",
       "                               Other names  \\\n",
       "0  American Association of Retired Persons   \n",
       "1                                     None   \n",
       "2                                     None   \n",
       "3                                     None   \n",
       "4                                     None   \n",
       "\n",
       "                                        Subsidiaries  \\\n",
       "0  AARP FoundationAARP Services IncLegal Counsel ...   \n",
       "1                                               None   \n",
       "2                                               None   \n",
       "3                                               None   \n",
       "4                                               None   \n",
       "\n",
       "                                             Purpose  \n",
       "0                                               None  \n",
       "1                         To provide palliative care  \n",
       "2  To end child malnutrition whilst providing com...  \n",
       "3                                               None  \n",
       "4  ActionAid works with communities to reduce pov...  "
      ]
     },
     "execution_count": 13,
     "metadata": {},
     "output_type": "execute_result"
    }
   ],
   "source": [
    "charities_detailed = pd.DataFrame(detailed_charities,\n",
    "                                  columns=['name', 'Leader 1', 'Leader 2', 'Leader 3',\n",
    "                                           'Revenue', 'Headquarters', 'Location', 'Other names', 'Subsidiaries',\n",
    "                                          'Purpose'])\n",
    "charities_detailed.head(5)"
   ]
  },
  {
   "cell_type": "code",
   "execution_count": 14,
   "metadata": {},
   "outputs": [
    {
     "data": {
      "text/html": [
       "<div>\n",
       "<table border=\"1\" class=\"dataframe\">\n",
       "  <thead>\n",
       "    <tr style=\"text-align: right;\">\n",
       "      <th></th>\n",
       "      <th>name</th>\n",
       "      <th>Leader 1</th>\n",
       "      <th>Leader 2</th>\n",
       "      <th>Leader 3</th>\n",
       "      <th>Revenue</th>\n",
       "      <th>Headquarters</th>\n",
       "      <th>Location</th>\n",
       "      <th>Other names</th>\n",
       "      <th>Subsidiaries</th>\n",
       "      <th>Purpose</th>\n",
       "    </tr>\n",
       "  </thead>\n",
       "  <tbody>\n",
       "    <tr>\n",
       "      <th>count</th>\n",
       "      <td>324</td>\n",
       "      <td>147</td>\n",
       "      <td>31</td>\n",
       "      <td>4</td>\n",
       "      <td>30</td>\n",
       "      <td>95</td>\n",
       "      <td>138</td>\n",
       "      <td>39</td>\n",
       "      <td>6</td>\n",
       "      <td>127</td>\n",
       "    </tr>\n",
       "    <tr>\n",
       "      <th>unique</th>\n",
       "      <td>324</td>\n",
       "      <td>147</td>\n",
       "      <td>31</td>\n",
       "      <td>4</td>\n",
       "      <td>30</td>\n",
       "      <td>86</td>\n",
       "      <td>129</td>\n",
       "      <td>39</td>\n",
       "      <td>6</td>\n",
       "      <td>122</td>\n",
       "    </tr>\n",
       "    <tr>\n",
       "      <th>top</th>\n",
       "      <td>SOS Children's Villages</td>\n",
       "      <td>\\nKevin Cox (Chairman)\\nMiranda Krestovnikoff ...</td>\n",
       "      <td>Thomas A. Saunders III</td>\n",
       "      <td>Elizabeth Scott[3]</td>\n",
       "      <td>$86,286,051[1]</td>\n",
       "      <td>New York, NY, United States</td>\n",
       "      <td>Washington, D.C.</td>\n",
       "      <td>WWF</td>\n",
       "      <td>AARP FoundationAARP Services IncLegal Counsel ...</td>\n",
       "      <td>Education</td>\n",
       "    </tr>\n",
       "    <tr>\n",
       "      <th>freq</th>\n",
       "      <td>1</td>\n",
       "      <td>1</td>\n",
       "      <td>1</td>\n",
       "      <td>1</td>\n",
       "      <td>1</td>\n",
       "      <td>2</td>\n",
       "      <td>3</td>\n",
       "      <td>1</td>\n",
       "      <td>1</td>\n",
       "      <td>3</td>\n",
       "    </tr>\n",
       "  </tbody>\n",
       "</table>\n",
       "</div>"
      ],
      "text/plain": [
       "                           name  \\\n",
       "count                       324   \n",
       "unique                      324   \n",
       "top     SOS Children's Villages   \n",
       "freq                          1   \n",
       "\n",
       "                                                 Leader 1  \\\n",
       "count                                                 147   \n",
       "unique                                                147   \n",
       "top     \\nKevin Cox (Chairman)\\nMiranda Krestovnikoff ...   \n",
       "freq                                                    1   \n",
       "\n",
       "                      Leader 2            Leader 3         Revenue  \\\n",
       "count                       31                   4              30   \n",
       "unique                      31                   4              30   \n",
       "top     Thomas A. Saunders III  Elizabeth Scott[3]  $86,286,051[1]   \n",
       "freq                         1                   1               1   \n",
       "\n",
       "                       Headquarters          Location Other names  \\\n",
       "count                            95               138          39   \n",
       "unique                           86               129          39   \n",
       "top     New York, NY, United States  Washington, D.C.         WWF   \n",
       "freq                              2                 3           1   \n",
       "\n",
       "                                             Subsidiaries    Purpose  \n",
       "count                                                   6        127  \n",
       "unique                                                  6        122  \n",
       "top     AARP FoundationAARP Services IncLegal Counsel ...  Education  \n",
       "freq                                                    1          3  "
      ]
     },
     "execution_count": 14,
     "metadata": {},
     "output_type": "execute_result"
    }
   ],
   "source": [
    "charities_detailed.describe()"
   ]
  },
  {
   "cell_type": "markdown",
   "metadata": {},
   "source": [
    "We see that this is still relatively messy, with lots of information missing, and sometimes misstored columns or mulitple values in each field. This is okay, though, because the names are neat and they will be our primary point of comparison with the panama papers. Once we have narrowed down the charities based on the names, if we need more information about the (hopefully) small subset of charities, we can do more cleaning then. \n",
    "\n",
    "Meanwhile, let's save this information and analyse it a bit more carefully."
   ]
  },
  {
   "cell_type": "code",
   "execution_count": 15,
   "metadata": {},
   "outputs": [],
   "source": [
    "#Save the data as a csv file\n",
    "charities_detailed.to_csv('../../generated/scraping/wikipedia/wikipedia_charity_info.csv')"
   ]
  },
  {
   "cell_type": "code",
   "execution_count": 16,
   "metadata": {},
   "outputs": [
    {
     "data": {
      "text/html": [
       "<div>\n",
       "<table border=\"1\" class=\"dataframe\">\n",
       "  <thead>\n",
       "    <tr style=\"text-align: right;\">\n",
       "      <th></th>\n",
       "      <th>name</th>\n",
       "      <th>Leader 1</th>\n",
       "      <th>Leader 2</th>\n",
       "      <th>Leader 3</th>\n",
       "      <th>Revenue</th>\n",
       "      <th>Headquarters</th>\n",
       "      <th>Location</th>\n",
       "      <th>Other names</th>\n",
       "      <th>Subsidiaries</th>\n",
       "      <th>Purpose</th>\n",
       "    </tr>\n",
       "  </thead>\n",
       "  <tbody>\n",
       "    <tr>\n",
       "      <th>0</th>\n",
       "      <td>AARP Foundation</td>\n",
       "      <td>Jo Ann Jenkins</td>\n",
       "      <td>Joan R. Ruff</td>\n",
       "      <td>NaN</td>\n",
       "      <td>NaN</td>\n",
       "      <td>Washington, D.C., U.S.</td>\n",
       "      <td>Offices in all 50 U.S. states, the District of...</td>\n",
       "      <td>American Association of Retired Persons</td>\n",
       "      <td>AARP FoundationAARP Services IncLegal Counsel ...</td>\n",
       "      <td>NaN</td>\n",
       "    </tr>\n",
       "    <tr>\n",
       "      <th>1</th>\n",
       "      <td>Acorns Children's Hospice</td>\n",
       "      <td>NaN</td>\n",
       "      <td>NaN</td>\n",
       "      <td>NaN</td>\n",
       "      <td>NaN</td>\n",
       "      <td>NaN</td>\n",
       "      <td>NaN</td>\n",
       "      <td>NaN</td>\n",
       "      <td>NaN</td>\n",
       "      <td>To provide palliative care</td>\n",
       "    </tr>\n",
       "    <tr>\n",
       "      <th>2</th>\n",
       "      <td>Action Against Hunger</td>\n",
       "      <td>NaN</td>\n",
       "      <td>NaN</td>\n",
       "      <td>NaN</td>\n",
       "      <td>NaN</td>\n",
       "      <td>New York, USA; Toronto, Canada; London, UK; Pa...</td>\n",
       "      <td>NaN</td>\n",
       "      <td>NaN</td>\n",
       "      <td>NaN</td>\n",
       "      <td>To end child malnutrition whilst providing com...</td>\n",
       "    </tr>\n",
       "    <tr>\n",
       "      <th>3</th>\n",
       "      <td>Action Deafness</td>\n",
       "      <td>NaN</td>\n",
       "      <td>NaN</td>\n",
       "      <td>NaN</td>\n",
       "      <td>NaN</td>\n",
       "      <td>NaN</td>\n",
       "      <td>NaN</td>\n",
       "      <td>NaN</td>\n",
       "      <td>NaN</td>\n",
       "      <td>NaN</td>\n",
       "    </tr>\n",
       "    <tr>\n",
       "      <th>4</th>\n",
       "      <td>ActionAid</td>\n",
       "      <td>Adriano Campolina</td>\n",
       "      <td>NaN</td>\n",
       "      <td>NaN</td>\n",
       "      <td>NaN</td>\n",
       "      <td>NaN</td>\n",
       "      <td>Johannesburg (Headquarters)</td>\n",
       "      <td>NaN</td>\n",
       "      <td>NaN</td>\n",
       "      <td>ActionAid works with communities to reduce pov...</td>\n",
       "    </tr>\n",
       "  </tbody>\n",
       "</table>\n",
       "</div>"
      ],
      "text/plain": [
       "                        name           Leader 1      Leader 2 Leader 3  \\\n",
       "0            AARP Foundation     Jo Ann Jenkins  Joan R. Ruff      NaN   \n",
       "1  Acorns Children's Hospice                NaN           NaN      NaN   \n",
       "2      Action Against Hunger                NaN           NaN      NaN   \n",
       "3            Action Deafness                NaN           NaN      NaN   \n",
       "4                  ActionAid  Adriano Campolina           NaN      NaN   \n",
       "\n",
       "  Revenue                                       Headquarters  \\\n",
       "0     NaN                             Washington, D.C., U.S.   \n",
       "1     NaN                                                NaN   \n",
       "2     NaN  New York, USA; Toronto, Canada; London, UK; Pa...   \n",
       "3     NaN                                                NaN   \n",
       "4     NaN                                                NaN   \n",
       "\n",
       "                                            Location  \\\n",
       "0  Offices in all 50 U.S. states, the District of...   \n",
       "1                                                NaN   \n",
       "2                                                NaN   \n",
       "3                                                NaN   \n",
       "4                        Johannesburg (Headquarters)   \n",
       "\n",
       "                               Other names  \\\n",
       "0  American Association of Retired Persons   \n",
       "1                                      NaN   \n",
       "2                                      NaN   \n",
       "3                                      NaN   \n",
       "4                                      NaN   \n",
       "\n",
       "                                        Subsidiaries  \\\n",
       "0  AARP FoundationAARP Services IncLegal Counsel ...   \n",
       "1                                                NaN   \n",
       "2                                                NaN   \n",
       "3                                                NaN   \n",
       "4                                                NaN   \n",
       "\n",
       "                                             Purpose  \n",
       "0                                                NaN  \n",
       "1                         To provide palliative care  \n",
       "2  To end child malnutrition whilst providing com...  \n",
       "3                                                NaN  \n",
       "4  ActionAid works with communities to reduce pov...  "
      ]
     },
     "execution_count": 16,
     "metadata": {},
     "output_type": "execute_result"
    }
   ],
   "source": [
    "#reload the data to make sure it's okay\n",
    "df = pd.read_csv('../../generated/scraping/wikipedia/wikipedia_charity_info.csv', index_col=0)\n",
    "df.head(5)"
   ]
  },
  {
   "cell_type": "markdown",
   "metadata": {},
   "source": [
    "Looks like it survived the csv. Time to analyse!\n",
    "\n",
    "We start with the names, since they are the most important part of the charity for our research (primary point of comparison with the panama papers).\n",
    "\n",
    "To figure out how often we might accidentally come across matches based on rather generic names, we analyse the words that make up the names."
   ]
  },
  {
   "cell_type": "markdown",
   "metadata": {},
   "source": [
    "Looks like it survived the csv. Time to analyse!\n",
    "\n",
    "We start with the names, since they are the most important part of the charity for our research (primary point of comparison with the panama papers).\n",
    "\n",
    "To figure out how often we might accidentally come across matches based on rather generic names, we analyse the words that make up the names."
   ]
  },
  {
   "cell_type": "code",
   "execution_count": 17,
   "metadata": {},
   "outputs": [
    {
     "data": {
      "text/html": [
       "<div>\n",
       "<table border=\"1\" class=\"dataframe\">\n",
       "  <thead>\n",
       "    <tr style=\"text-align: right;\">\n",
       "      <th></th>\n",
       "      <th>Words</th>\n",
       "      <th>Count</th>\n",
       "    </tr>\n",
       "  </thead>\n",
       "  <tbody>\n",
       "    <tr>\n",
       "      <th>0</th>\n",
       "      <td>Foundation</td>\n",
       "      <td>120</td>\n",
       "    </tr>\n",
       "    <tr>\n",
       "      <th>1</th>\n",
       "      <td>International</td>\n",
       "      <td>32</td>\n",
       "    </tr>\n",
       "    <tr>\n",
       "      <th>2</th>\n",
       "      <td>The</td>\n",
       "      <td>24</td>\n",
       "    </tr>\n",
       "    <tr>\n",
       "      <th>3</th>\n",
       "      <td>for</td>\n",
       "      <td>23</td>\n",
       "    </tr>\n",
       "    <tr>\n",
       "      <th>4</th>\n",
       "      <td>of</td>\n",
       "      <td>22</td>\n",
       "    </tr>\n",
       "  </tbody>\n",
       "</table>\n",
       "</div>"
      ],
      "text/plain": [
       "           Words  Count\n",
       "0     Foundation    120\n",
       "1  International     32\n",
       "2            The     24\n",
       "3            for     23\n",
       "4             of     22"
      ]
     },
     "execution_count": 17,
     "metadata": {},
     "output_type": "execute_result"
    }
   ],
   "source": [
    "names = df['name']\n",
    "\n",
    "#Separate the words in the names\n",
    "split_names = names.str.split()\n",
    "words_in_names = pd.DataFrame([word for name in split_names for word in name], columns=['Words'])\n",
    "\n",
    "#Count how often specific words appear\n",
    "words_in_names['Count'] = 1\n",
    "word_frequency = words_in_names.groupby('Words').count().reset_index()\\\n",
    "                    .sort_values(by='Count', ascending=False)\\\n",
    "                    .reset_index(drop=True)\n",
    "word_frequency.head(5)"
   ]
  },
  {
   "cell_type": "markdown",
   "metadata": {},
   "source": [
    "We see that we have a lot of \"stop words\" (words that exist mostly for grammatical purposes, like \"of\" and \"for\"). Since these aren't very interesting (because they are everywhere!) we can remove them using nltk's predefined list of English stop words."
   ]
  },
  {
   "cell_type": "code",
   "execution_count": 18,
   "metadata": {},
   "outputs": [
    {
     "data": {
      "text/html": [
       "<div>\n",
       "<table border=\"1\" class=\"dataframe\">\n",
       "  <thead>\n",
       "    <tr style=\"text-align: right;\">\n",
       "      <th></th>\n",
       "      <th>Words</th>\n",
       "      <th>Count</th>\n",
       "    </tr>\n",
       "  </thead>\n",
       "  <tbody>\n",
       "    <tr>\n",
       "      <th>0</th>\n",
       "      <td>Foundation</td>\n",
       "      <td>120</td>\n",
       "    </tr>\n",
       "    <tr>\n",
       "      <th>1</th>\n",
       "      <td>International</td>\n",
       "      <td>32</td>\n",
       "    </tr>\n",
       "    <tr>\n",
       "      <th>2</th>\n",
       "      <td>Children's</td>\n",
       "      <td>15</td>\n",
       "    </tr>\n",
       "    <tr>\n",
       "      <th>3</th>\n",
       "      <td>Fund</td>\n",
       "      <td>14</td>\n",
       "    </tr>\n",
       "    <tr>\n",
       "      <th>4</th>\n",
       "      <td>World</td>\n",
       "      <td>13</td>\n",
       "    </tr>\n",
       "  </tbody>\n",
       "</table>\n",
       "</div>"
      ],
      "text/plain": [
       "           Words  Count\n",
       "0     Foundation    120\n",
       "1  International     32\n",
       "2     Children's     15\n",
       "3           Fund     14\n",
       "4          World     13"
      ]
     },
     "execution_count": 18,
     "metadata": {},
     "output_type": "execute_result"
    }
   ],
   "source": [
    "stop_words = set(stopwords.words('english'))\n",
    "big_words = word_frequency[word_frequency['Words'].str.lower().isin(stop_words) == False]\\\n",
    "                    .sort_values(by='Count', ascending=False)\\\n",
    "                    .reset_index(drop=True)\n",
    "big_words.head(5)"
   ]
  },
  {
   "cell_type": "code",
   "execution_count": 19,
   "metadata": {},
   "outputs": [
    {
     "data": {
      "text/plain": [
       "<matplotlib.axes._subplots.AxesSubplot at 0x7fcc36e6a400>"
      ]
     },
     "execution_count": 19,
     "metadata": {},
     "output_type": "execute_result"
    }
   ],
   "source": [
    "big_words.plot(title='Distribution of the number of times a word appears in charity names (log)', logy=True)"
   ]
  },
  {
   "cell_type": "code",
   "execution_count": 20,
   "metadata": {},
   "outputs": [
    {
     "data": {
      "text/html": [
       "<div>\n",
       "<table border=\"1\" class=\"dataframe\">\n",
       "  <thead>\n",
       "    <tr style=\"text-align: right;\">\n",
       "      <th></th>\n",
       "      <th>Count</th>\n",
       "    </tr>\n",
       "  </thead>\n",
       "  <tbody>\n",
       "    <tr>\n",
       "      <th>count</th>\n",
       "      <td>545.000000</td>\n",
       "    </tr>\n",
       "    <tr>\n",
       "      <th>mean</th>\n",
       "      <td>1.713761</td>\n",
       "    </tr>\n",
       "    <tr>\n",
       "      <th>std</th>\n",
       "      <td>5.418742</td>\n",
       "    </tr>\n",
       "    <tr>\n",
       "      <th>min</th>\n",
       "      <td>1.000000</td>\n",
       "    </tr>\n",
       "    <tr>\n",
       "      <th>25%</th>\n",
       "      <td>1.000000</td>\n",
       "    </tr>\n",
       "    <tr>\n",
       "      <th>50%</th>\n",
       "      <td>1.000000</td>\n",
       "    </tr>\n",
       "    <tr>\n",
       "      <th>75%</th>\n",
       "      <td>1.000000</td>\n",
       "    </tr>\n",
       "    <tr>\n",
       "      <th>max</th>\n",
       "      <td>120.000000</td>\n",
       "    </tr>\n",
       "  </tbody>\n",
       "</table>\n",
       "</div>"
      ],
      "text/plain": [
       "            Count\n",
       "count  545.000000\n",
       "mean     1.713761\n",
       "std      5.418742\n",
       "min      1.000000\n",
       "25%      1.000000\n",
       "50%      1.000000\n",
       "75%      1.000000\n",
       "max    120.000000"
      ]
     },
     "execution_count": 20,
     "metadata": {},
     "output_type": "execute_result"
    }
   ],
   "source": [
    "big_words.describe()"
   ]
  },
  {
   "cell_type": "markdown",
   "metadata": {},
   "source": [
    "Of our approximate 543 words, we seem to have quite a few  that are used multiple times. Let's find out what they are."
   ]
  },
  {
   "cell_type": "code",
   "execution_count": 21,
   "metadata": {},
   "outputs": [
    {
     "data": {
      "text/html": [
       "<div>\n",
       "<table border=\"1\" class=\"dataframe\">\n",
       "  <thead>\n",
       "    <tr style=\"text-align: right;\">\n",
       "      <th></th>\n",
       "      <th>Count</th>\n",
       "    </tr>\n",
       "  </thead>\n",
       "  <tbody>\n",
       "    <tr>\n",
       "      <th>count</th>\n",
       "      <td>52.000000</td>\n",
       "    </tr>\n",
       "    <tr>\n",
       "      <th>mean</th>\n",
       "      <td>7.423077</td>\n",
       "    </tr>\n",
       "    <tr>\n",
       "      <th>std</th>\n",
       "      <td>16.598306</td>\n",
       "    </tr>\n",
       "    <tr>\n",
       "      <th>min</th>\n",
       "      <td>3.000000</td>\n",
       "    </tr>\n",
       "    <tr>\n",
       "      <th>25%</th>\n",
       "      <td>3.000000</td>\n",
       "    </tr>\n",
       "    <tr>\n",
       "      <th>50%</th>\n",
       "      <td>4.000000</td>\n",
       "    </tr>\n",
       "    <tr>\n",
       "      <th>75%</th>\n",
       "      <td>5.000000</td>\n",
       "    </tr>\n",
       "    <tr>\n",
       "      <th>max</th>\n",
       "      <td>120.000000</td>\n",
       "    </tr>\n",
       "  </tbody>\n",
       "</table>\n",
       "</div>"
      ],
      "text/plain": [
       "            Count\n",
       "count   52.000000\n",
       "mean     7.423077\n",
       "std     16.598306\n",
       "min      3.000000\n",
       "25%      3.000000\n",
       "50%      4.000000\n",
       "75%      5.000000\n",
       "max    120.000000"
      ]
     },
     "execution_count": 21,
     "metadata": {},
     "output_type": "execute_result"
    }
   ],
   "source": [
    "common_words = big_words[big_words['Count'] > 2]\n",
    "common_words.describe()"
   ]
  },
  {
   "cell_type": "code",
   "execution_count": 22,
   "metadata": {},
   "outputs": [
    {
     "data": {
      "text/plain": [
       "<matplotlib.axes._subplots.AxesSubplot at 0x7fcc37dec1d0>"
      ]
     },
     "execution_count": 22,
     "metadata": {},
     "output_type": "execute_result"
    },
    {
     "data": {
      "image/png": "[encoded data removed]",
      "text/plain": [
       "<Figure size 1080x720 with 1 Axes>"
      ]
     },
     "metadata": {},
     "output_type": "display_data"
    }
   ],
   "source": [
    "common_words.plot(kind='barh', x='Words', y='Count', figsize=(15, 10),\n",
    "                  title='Words appearing more than twice in names, by frequency')"
   ]
  },
  {
   "cell_type": "markdown",
   "metadata": {},
   "source": [
    "We can see that while there are a few \"generic\" words (Services, National, Association, etc...), some of the them are rather specialized (Villages, Children's, Relief, etc..). These are the ones that should help us track down charities in the panama papers or other leaked data."
   ]
  }
 ],
 "metadata": {
  "kernelspec": {
   "display_name": "Python 3",
   "language": "python",
   "name": "python3"
  },
  "language_info": {
   "codemirror_mode": {
    "name": "ipython",
    "version": 3
   },
   "file_extension": ".py",
   "mimetype": "text/x-python",
   "name": "python",
   "nbconvert_exporter": "python",
   "pygments_lexer": "ipython3",
   "version": "3.6.5"
  }
 },
 "nbformat": 4,
 "nbformat_minor": 2
}
