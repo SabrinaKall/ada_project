{
 "cells": [
  {
   "cell_type": "markdown",
   "metadata": {},
   "source": [
    "# Wikipedia list of INGO web scraping\n",
    "\n",
    "Some charities can be considered as \"International Non-Governmental Organization\" and may not appear directly in the wikipedia \"charitable foundation\" list. For further information about our datascraping strategy, please refer to \"../charities/Wikipeida_harities_scraping.ipynb'. This allows us to complete our dataset with further more possible charities. We scrape this data off the wikipedia page using the beautiful soup library."
   ]
  },
  {
   "cell_type": "code",
   "execution_count": 1,
   "metadata": {},
   "outputs": [],
   "source": [
    "import re\n",
    "import requests\n",
    "from bs4 import BeautifulSoup\n",
    "import pandas as pd\n",
    "import numpy as np\n",
    "import nltk\n",
    "from nltk.corpus import stopwords"
   ]
  },
  {
   "cell_type": "markdown",
   "metadata": {},
   "source": [
    "### Get the wikipedia list of INGO in html"
   ]
  },
  {
   "cell_type": "code",
   "execution_count": 2,
   "metadata": {},
   "outputs": [],
   "source": [
    "# Get html webpage\n",
    "URL = 'https://en.wikipedia.org/wiki/International_non-governmental_organization'\n",
    "r = requests.get(URL)\n",
    "page_body = r.text\n",
    "soup = BeautifulSoup(page_body, 'html.parser')"
   ]
  },
  {
   "cell_type": "markdown",
   "metadata": {},
   "source": [
    "### Extract name of INGO and link to its wikipedia page from the list"
   ]
  },
  {
   "cell_type": "code",
   "execution_count": 3,
   "metadata": {},
   "outputs": [],
   "source": [
    "# Find page section containing links\n",
    "link_sections = soup.findAll('div', class_=\"mw-parser-output\")"
   ]
  },
  {
   "cell_type": "code",
   "execution_count": 4,
   "metadata": {},
   "outputs": [],
   "source": [
    "# Extracts only wikipedia links\n",
    "links_lists = [x.findAll('a', attrs={'href': re.compile(\"/w\")}) for x in link_sections]\n",
    "\n",
    "flat_links_list = [((item.text),(item.get('href'))) for sublist in links_lists for item in sublist]"
   ]
  },
  {
   "cell_type": "code",
   "execution_count": 5,
   "metadata": {},
   "outputs": [
    {
     "data": {
      "text/plain": [
       "[('khalsa Aid', '/wiki/Khalsa_Aid'),\n",
       " ('ADRA', '/wiki/ADRA'),\n",
       " ('CAFOD', '/wiki/CAFOD'),\n",
       " ('CARE', '/wiki/CARE_(relief_agency)'),\n",
       " ('Oxfam', '/wiki/Oxfam'),\n",
       " ('Lakshyam ngo', '/w/index.php?title=Lakshyam_ngo&action=edit&redlink=1'),\n",
       " (\"SOS Children's Villages\", '/wiki/SOS_Children%27s_Villages'),\n",
       " ('World Vision International', '/wiki/World_Vision_International'),\n",
       " ('Mercy Corps', '/wiki/Mercy_Corps'),\n",
       " ('Save the Children', '/wiki/Save_the_Children'),\n",
       " ('Good Neighbors International', '/wiki/Good_Neighbors_(NGO)'),\n",
       " ('Doctors Without Borders', '/wiki/M%C3%A9decins_Sans_Fronti%C3%A8res'),\n",
       " ('HealthRight International', '/wiki/HealthRight_International'),\n",
       " ('charity: water', '/wiki/Charity:_water'),\n",
       " ('Lakshyam NGO', '/w/index.php?title=Lakshyam_ngo&action=edit&redlink=1'),\n",
       " ('Compassion International', '/wiki/Compassion_International'),\n",
       " ('Plan', '/wiki/Plan_(aid_organisation)'),\n",
       " ('World Association of Girl Guides and Girl Scouts',\n",
       "  '/wiki/World_Association_of_Girl_Guides_and_Girl_Scouts'),\n",
       " ('Save the Children International', '/wiki/Save_the_Children_International'),\n",
       " (\"SOS Children's Villages\", '/wiki/SOS_Children%27s_Villages'),\n",
       " ('Reggio Children Foundation', '/wiki/Reggio_Children_Foundation'),\n",
       " ('World Organization of the Scout Movement',\n",
       "  '/wiki/World_Organization_of_the_Scout_Movement'),\n",
       " ('World Vision International', '/wiki/World_Vision_International'),\n",
       " ('International Federation of Catholic Parochial Youth Movements',\n",
       "  '/wiki/Fimcap'),\n",
       " ('ActionAid', '/wiki/ActionAid'),\n",
       " ('The Library Project', '/wiki/The_Library_Project'),\n",
       " ('OpenmindProjects- INGO', '/wiki/OpenmindProjects-_Volunteering_Abroad'),\n",
       " ('European Association of History Educators',\n",
       "  '/wiki/European_Association_of_History_Educators'),\n",
       " ('Amnesty International', '/wiki/Amnesty_International'),\n",
       " ('Commonwealth Human Rights Initiative',\n",
       "  '/wiki/Commonwealth_Human_Rights_Initiative'),\n",
       " ('Friends of Peoples Close to Nature',\n",
       "  '/wiki/Friends_of_Peoples_Close_to_Nature'),\n",
       " ('International Christian Concern', '/wiki/International_Christian_Concern'),\n",
       " ('International Federation for Human Rights',\n",
       "  '/wiki/International_Federation_for_Human_Rights'),\n",
       " ('International Stateless Persons Organisation',\n",
       "  '/w/index.php?title=International_Stateless_Persons_Organisation&action=edit&redlink=1'),\n",
       " ('Survival International', '/wiki/Survival_International'),\n",
       " ('International POPs Elimination Network',\n",
       "  '/wiki/International_POPs_Elimination_Network'),\n",
       " ('International Union for Conservation of Nature',\n",
       "  '/wiki/International_Union_for_Conservation_of_Nature'),\n",
       " ('Greenpeace', '/wiki/Greenpeace'),\n",
       " ('World Wide Fund for Nature', '/wiki/World_Wide_Fund_for_Nature'),\n",
       " ('International Federation of Catholic Parochial Youth Movements',\n",
       "  '/wiki/Fimcap'),\n",
       " ('Lutheran World Relief', '/wiki/Lutheran_World_Relief'),\n",
       " ('Forum of European Muslim Youth and Student Organizations',\n",
       "  '/w/index.php?title=Forum_of_European_Muslim_Youth_and_Student_Organizations&action=edit&redlink=1'),\n",
       " ('Diplomatic Society',\n",
       "  '/w/index.php?title=Diplomatic_Society&action=edit&redlink=1'),\n",
       " ('COSPAR', '/wiki/COSPAR'),\n",
       " ('Saalome Global', '/w/index.php?title=Saalome_Global&action=edit&redlink=1')]"
      ]
     },
     "execution_count": 5,
     "metadata": {},
     "output_type": "execute_result"
    }
   ],
   "source": [
    "# Cleaning and flattening of the list\n",
    "'''\n",
    "As the wikipedia html page is not well formated, the relevant informations are extracted\n",
    "with visual aid.\n",
    "'''\n",
    "flat_links_list = flat_links_list[44:97]\n",
    "\n",
    "for tag in flat_links_list[:]:\n",
    "    if 'edit' in tag:\n",
    "        flat_links_list.remove(tag)\n",
    "        \n",
    "flat_links_list"
   ]
  },
  {
   "cell_type": "code",
   "execution_count": 6,
   "metadata": {},
   "outputs": [],
   "source": [
    "# Creation of a dataframe containing INGO name and wikipedia link\n",
    "INGO = pd.DataFrame([(x[0], 'https://en.wikipedia.org' + x[1]) for x in flat_links_list], columns=('name', 'Link'))"
   ]
  },
  {
   "cell_type": "code",
   "execution_count": 7,
   "metadata": {},
   "outputs": [],
   "source": [
    "# Save scraped link list for further processing\n",
    "INGO.to_csv('../../generated/scraping/INGO/wikipedia_INGO_links.csv')"
   ]
  },
  {
   "cell_type": "markdown",
   "metadata": {},
   "source": [
    "### Extract information about individual INGO from the table on their linked pages\n",
    "\n",
    "Now we want to extract information about individual INGOs from the navbox on their linked pages. We use the navbox because it is already semi-structured, making scraping easier. But we need to know what we are looking for, so we collect the available features."
   ]
  },
  {
   "cell_type": "code",
   "execution_count": 8,
   "metadata": {},
   "outputs": [],
   "source": [
    "def list_features(INGO):\n",
    "    '''\n",
    "    Goes through a list of wikipedia pages and extracts the features shown in the table\n",
    "    \n",
    "    input: dataframe including a 'Link' column of wikipedia links as strings\n",
    "    output: a Series of strings\n",
    "    '''\n",
    "    \n",
    "    features = []\n",
    "    \n",
    "    for index, row in INGO.iterrows():\n",
    "        link = row['Link']\n",
    "        r_link = requests.get(link)\n",
    "        soup_link = BeautifulSoup(r_link.text, 'html.parser')\n",
    "        table = soup_link.find('table', class_=\"infobox vcard\")\n",
    "\n",
    "        if table is not None:\n",
    "            table_rows = table.findAll('tr')\n",
    "            for row in table_rows:\n",
    "                feature = row.find('th')\n",
    "                if feature is not None:\n",
    "                    feature = feature.text\n",
    "                    features.append(feature)\n",
    "    return pd.Series(features).unique()\n"
   ]
  },
  {
   "cell_type": "code",
   "execution_count": 9,
   "metadata": {},
   "outputs": [
    {
     "data": {
      "text/plain": [
       "array(['Founded', 'Founder', 'Founded at', 'Type', 'Legal status', 'Focus',\n",
       "       'Headquarters', 'Area served ', 'CEO', 'Revenue  ', 'Employees  ',\n",
       "       'Volunteers  ', 'Website', 'Location', 'Product', 'Owner',\n",
       "       'Key people', 'Formation', 'Founders', 'Fields',\n",
       "       'Secretary General', 'Deputy Secretary General',\n",
       "       'Chair of the Supervisory Board', 'Named after', 'Director',\n",
       "       'Abbreviation', 'Purpose', 'President', 'Honorary President',\n",
       "       'Method', 'Expenses', 'Staff  ', 'Registration\\xa0no.', 'Origins',\n",
       "       'Motto', 'Tax ID no. ',\n",
       "       'World Association of Girl Guides and Girl Scouts', 'Country',\n",
       "       'Membership', 'Chair World Board', 'Coordinates',\n",
       "       'World Organization of the Scout Movement',\n",
       "       'World Scout Committee Chairman', 'Membership  ', 'Presidents',\n",
       "       'Praeses', 'Secretary-General', 'Region served ', 'Industry',\n",
       "       'Services', 'Members  ', 'Official language ', 'Executive Director',\n",
       "       'Main organ', 'Budget  ', 'Remarks', 'Formerly called', 'Region ',\n",
       "       'Methods', 'President Emeritus', 'Director General',\n",
       "       'Parent organization'], dtype=object)"
      ]
     },
     "execution_count": 9,
     "metadata": {},
     "output_type": "execute_result"
    }
   ],
   "source": [
    "#Get the list of features we can potentially extract about a INGO\n",
    "list_features(INGO)"
   ]
  },
  {
   "cell_type": "markdown",
   "metadata": {},
   "source": [
    "Using the features displayed above, we can handcraft lists of more or less synonymous features that will help us create a function capable of handling different type of wikipedia pages."
   ]
  },
  {
   "cell_type": "code",
   "execution_count": 10,
   "metadata": {},
   "outputs": [],
   "source": [
    "people_features = ['CEO', 'Secretary General', 'Owner', 'Key people',\n",
    "                                'Chair', 'Co-executive director', 'President', 'Board Chair',\n",
    "                                'Chief Executive Officer', 'Board of Directors', 'Executive Director',\n",
    "                                'National President & CEO', 'Chairman', 'Chief Executive', \n",
    "                                'Deputy Secretary General', 'Chair of the Supervisory Board',\n",
    "                                'Chairman of the Governing Body', 'President/CEO', 'President and CEO',\n",
    "                                'Board\\xa0of directors', 'President of the Board', 'Board of Trustees',\n",
    "                                'Chair, Adult Advisory Council', 'Leader', 'President, Treasurer', \n",
    "                                'President & CEO', 'Executive director', 'Vice president', 'Predecessor',\n",
    "                                'Chairman of Governors', 'Notable Board Members[1]', 'Board of Directors',\n",
    "                                'Superior General', 'Honorary President', 'Co-Chairman', 'Managing Director',\n",
    "                                'Chair World Board', 'President Emeritus', 'Director General',\n",
    "                                'Founder', 'Founders']\n",
    "\n",
    "money_features = ['Revenue', 'Revenue  ',\n",
    "                                'Revenue .mw-parser-output .nobold{font-weight:normal}(2016) ',\n",
    "                                'Revenue .mw-parser-output .nobold{font-weight:normal}(2015) ', \n",
    "                                'Revenue .mw-parser-output .nobold{font-weight:normal}(2014) ',\n",
    "                                'Revenue .mw-parser-output .nobold{font-weight:normal}(2017) ',\n",
    "                                'Revenue .mw-parser-output .nobold{font-weight:normal}(2016) ',\n",
    "                                'Net income', 'Total assets', 'Operating income',\n",
    "                                'Revenue (FY 2015)' ]\n",
    "\n",
    "hq_features = ['Headquarters', 'Address']\n",
    "\n",
    "country_features = ['Location', 'Chapters', 'Region ', 'Country']\n",
    "\n",
    "old_name_features = ['Formerly called', 'Abbreviation', 'Parent organization']\n",
    "\n",
    "affiliation_features = ['Subsidiaries', 'Affiliation']\n",
    "\n",
    "purpose_features = ['Purpose', 'Focus', 'Product', 'Services', 'Industry', 'Fields']"
   ]
  },
  {
   "cell_type": "markdown",
   "metadata": {},
   "source": [
    "Now we can get down to work and extract actual information from the links."
   ]
  },
  {
   "cell_type": "code",
   "execution_count": 11,
   "metadata": {},
   "outputs": [],
   "source": [
    "#Helper functions to extract information from a wikipedia page about a INGO\n",
    "\n",
    "#using the list above, go through the INGO wikipedia pages and attempt to draw out any possible information\n",
    "def extract_info_from_table(table):\n",
    "    '''\n",
    "    Extracts information from a given html table\n",
    "    \n",
    "    Input: an html table containing information about a charity\n",
    "    Output: list of string of the following shape about a charity (if present):\n",
    "        [leader1, leader2, leader3, leader4, revenue, hq, location, other_names, subsidiaries, purpose]\n",
    "    '''\n",
    "    \n",
    "    #placeholders for the information we want\n",
    "    leader1 = None\n",
    "    leader2 = None\n",
    "    leader3 = None\n",
    "    leader4 = None\n",
    "    leader1_set = False\n",
    "    leader2_set = False\n",
    "    leader3_set = False\n",
    "    leader4_set = False\n",
    "    \n",
    "    revenue = None\n",
    "    hq = None\n",
    "    location = None\n",
    "    other_names = None\n",
    "    subsidiaries = None\n",
    "    purpose = None\n",
    "        \n",
    "    if table is not None:\n",
    "        #for each table row\n",
    "        table_rows = table.findAll('tr')\n",
    "        for row in table_rows:\n",
    "            #find the feature and its value\n",
    "            feature = row.find('th')\n",
    "            value = row.find('td')\n",
    "            if feature is not None and value is not None:\n",
    "                #cast them to strings\n",
    "                feature = feature.text\n",
    "                value = value.text\n",
    "                \n",
    "                #check which category the feature belongs to and insert the value in a placeholder\n",
    "                if feature in people_features:\n",
    "                    if leader1_set == False:\n",
    "                        leader1 = value\n",
    "                        leader1_set = True\n",
    "                    elif leader2_set == False:\n",
    "                        leader2 = value\n",
    "                        leader2_set = True\n",
    "                    elif leader3_set == False:\n",
    "                        leader3 = value\n",
    "                        leader3_set = True\n",
    "                    elif leader4_set == False:\n",
    "                        leader4 = value\n",
    "                        leader4_set = True\n",
    "                elif feature in money_features:\n",
    "                    revenue = value\n",
    "                elif feature in hq_features:\n",
    "                    hq = value\n",
    "                elif feature in country_features:\n",
    "                    location = value\n",
    "                elif feature in old_name_features:\n",
    "                    other_names = value\n",
    "                elif feature in affiliation_features:\n",
    "                    subsidiaries = value\n",
    "                elif feature in purpose_features:\n",
    "                    purpose = value\n",
    "                    \n",
    "    #return the information\n",
    "    return [leader1, leader2, leader3, leader4, revenue, hq, location, other_names, subsidiaries, purpose]\n",
    "    \n",
    "        \n",
    "\n",
    "def extract_info_from_link(link):\n",
    "    '''\n",
    "    Given a wikipedia link, find its navbox and extract information\n",
    "    \n",
    "    Input: wikipedia link\n",
    "    Output: list of string of the following shape about a charity (if present):\n",
    "            [leader1, leader2, leader3, leader4, revenue, hq, location, other_names, subsidiaries, purpose]\n",
    "    \n",
    "    '''\n",
    "    r_link = requests.get(link)\n",
    "    soup_link = BeautifulSoup(r_link.text, 'html.parser')\n",
    "    table = soup_link.find('table', class_=\"infobox vcard\")\n",
    "    return extract_info_from_table(table)"
   ]
  },
  {
   "cell_type": "markdown",
   "metadata": {},
   "source": [
    "Using these helper functions, we iterate through the links and check each one for information."
   ]
  },
  {
   "cell_type": "code",
   "execution_count": 12,
   "metadata": {},
   "outputs": [],
   "source": [
    "# Extraction of INGO information\n",
    "detailed_INGO = []\n",
    "for index, row in INGO.iterrows():\n",
    "    name = row['name']\n",
    "    link = row['Link']\n",
    "    INGO_details = extract_info_from_link(link)\n",
    "    INGO_details.insert(0, name)\n",
    "    detailed_INGO.append(INGO_details)"
   ]
  },
  {
   "cell_type": "code",
   "execution_count": 13,
   "metadata": {},
   "outputs": [
    {
     "data": {
      "text/html": [
       "<div>\n",
       "<table border=\"1\" class=\"dataframe\">\n",
       "  <thead>\n",
       "    <tr style=\"text-align: right;\">\n",
       "      <th></th>\n",
       "      <th>name</th>\n",
       "      <th>Leader 1</th>\n",
       "      <th>Leader 2</th>\n",
       "      <th>Leader 3</th>\n",
       "      <th>Leader 4</th>\n",
       "      <th>Revenue</th>\n",
       "      <th>Headquarters</th>\n",
       "      <th>Location</th>\n",
       "      <th>Other names</th>\n",
       "      <th>Subsidiaries</th>\n",
       "      <th>Purpose</th>\n",
       "    </tr>\n",
       "  </thead>\n",
       "  <tbody>\n",
       "    <tr>\n",
       "      <th>0</th>\n",
       "      <td>khalsa Aid</td>\n",
       "      <td>Ravi Singh</td>\n",
       "      <td>Ravi Singh</td>\n",
       "      <td>None</td>\n",
       "      <td>None</td>\n",
       "      <td>£1M</td>\n",
       "      <td>Slough, England</td>\n",
       "      <td>None</td>\n",
       "      <td>None</td>\n",
       "      <td>None</td>\n",
       "      <td>Provides humanitarian aid in disaster areas an...</td>\n",
       "    </tr>\n",
       "    <tr>\n",
       "      <th>1</th>\n",
       "      <td>ADRA</td>\n",
       "      <td>Seventh-day Adventist Church</td>\n",
       "      <td>Seventh-day Adventist Church</td>\n",
       "      <td>Jonathan Duffy, President; Korey Dowling, Vice...</td>\n",
       "      <td>None</td>\n",
       "      <td>$173,000,000 (2009)</td>\n",
       "      <td>None</td>\n",
       "      <td>Silver Spring, Maryland, USA</td>\n",
       "      <td>None</td>\n",
       "      <td>None</td>\n",
       "      <td>Provides individual and community development ...</td>\n",
       "    </tr>\n",
       "    <tr>\n",
       "      <th>2</th>\n",
       "      <td>CAFOD</td>\n",
       "      <td>None</td>\n",
       "      <td>None</td>\n",
       "      <td>None</td>\n",
       "      <td>None</td>\n",
       "      <td>None</td>\n",
       "      <td>None</td>\n",
       "      <td>None</td>\n",
       "      <td>None</td>\n",
       "      <td>None</td>\n",
       "      <td>None</td>\n",
       "    </tr>\n",
       "    <tr>\n",
       "      <th>3</th>\n",
       "      <td>CARE</td>\n",
       "      <td>Arthur C. Ringland, Wallace J. Campbell, Linco...</td>\n",
       "      <td>Caroline Kende-Robb</td>\n",
       "      <td>Lindsay Glassco</td>\n",
       "      <td>Madame Louise Fréchette</td>\n",
       "      <td>None</td>\n",
       "      <td>None</td>\n",
       "      <td>None</td>\n",
       "      <td>None</td>\n",
       "      <td>None</td>\n",
       "      <td>Humanitarian relief and development support</td>\n",
       "    </tr>\n",
       "    <tr>\n",
       "      <th>4</th>\n",
       "      <td>Oxfam</td>\n",
       "      <td>None</td>\n",
       "      <td>None</td>\n",
       "      <td>None</td>\n",
       "      <td>None</td>\n",
       "      <td>None</td>\n",
       "      <td>Oxfam International, Oxfam House, John Smith D...</td>\n",
       "      <td>None</td>\n",
       "      <td>None</td>\n",
       "      <td>None</td>\n",
       "      <td>Poverty eradicationdisaster relief advocacy po...</td>\n",
       "    </tr>\n",
       "  </tbody>\n",
       "</table>\n",
       "</div>"
      ],
      "text/plain": [
       "         name                                           Leader 1  \\\n",
       "0  khalsa Aid                                         Ravi Singh   \n",
       "1        ADRA                       Seventh-day Adventist Church   \n",
       "2       CAFOD                                               None   \n",
       "3        CARE  Arthur C. Ringland, Wallace J. Campbell, Linco...   \n",
       "4       Oxfam                                               None   \n",
       "\n",
       "                       Leader 2  \\\n",
       "0                    Ravi Singh   \n",
       "1  Seventh-day Adventist Church   \n",
       "2                          None   \n",
       "3           Caroline Kende-Robb   \n",
       "4                          None   \n",
       "\n",
       "                                            Leader 3                 Leader 4  \\\n",
       "0                                               None                     None   \n",
       "1  Jonathan Duffy, President; Korey Dowling, Vice...                     None   \n",
       "2                                               None                     None   \n",
       "3                                    Lindsay Glassco  Madame Louise Fréchette   \n",
       "4                                               None                     None   \n",
       "\n",
       "               Revenue                                       Headquarters  \\\n",
       "0                  £1M                                    Slough, England   \n",
       "1  $173,000,000 (2009)                                               None   \n",
       "2                 None                                               None   \n",
       "3                 None                                               None   \n",
       "4                 None  Oxfam International, Oxfam House, John Smith D...   \n",
       "\n",
       "                       Location Other names Subsidiaries  \\\n",
       "0                          None        None         None   \n",
       "1  Silver Spring, Maryland, USA        None         None   \n",
       "2                          None        None         None   \n",
       "3                          None        None         None   \n",
       "4                          None        None         None   \n",
       "\n",
       "                                             Purpose  \n",
       "0  Provides humanitarian aid in disaster areas an...  \n",
       "1  Provides individual and community development ...  \n",
       "2                                               None  \n",
       "3        Humanitarian relief and development support  \n",
       "4  Poverty eradicationdisaster relief advocacy po...  "
      ]
     },
     "execution_count": 13,
     "metadata": {},
     "output_type": "execute_result"
    }
   ],
   "source": [
    "# Cleaned and renamed dataframe categories\n",
    "INGO_detailed = pd.DataFrame(detailed_INGO,\n",
    "                                  columns=['name', 'Leader 1', 'Leader 2', 'Leader 3', 'Leader 4',\n",
    "                                           'Revenue', 'Headquarters', 'Location', 'Other names', 'Subsidiaries',\n",
    "                                          'Purpose'])\n",
    "\n",
    "INGO_detailed.head(5)"
   ]
  },
  {
   "cell_type": "code",
   "execution_count": 14,
   "metadata": {},
   "outputs": [
    {
     "data": {
      "text/html": [
       "<div>\n",
       "<table border=\"1\" class=\"dataframe\">\n",
       "  <thead>\n",
       "    <tr style=\"text-align: right;\">\n",
       "      <th></th>\n",
       "      <th>name</th>\n",
       "      <th>Leader 1</th>\n",
       "      <th>Leader 2</th>\n",
       "      <th>Leader 3</th>\n",
       "      <th>Leader 4</th>\n",
       "      <th>Revenue</th>\n",
       "      <th>Headquarters</th>\n",
       "      <th>Location</th>\n",
       "      <th>Other names</th>\n",
       "      <th>Subsidiaries</th>\n",
       "      <th>Purpose</th>\n",
       "    </tr>\n",
       "  </thead>\n",
       "  <tbody>\n",
       "    <tr>\n",
       "      <th>count</th>\n",
       "      <td>45</td>\n",
       "      <td>29</td>\n",
       "      <td>14</td>\n",
       "      <td>6</td>\n",
       "      <td>2</td>\n",
       "      <td>12</td>\n",
       "      <td>14</td>\n",
       "      <td>23</td>\n",
       "      <td>8</td>\n",
       "      <td>0.0</td>\n",
       "      <td>24</td>\n",
       "    </tr>\n",
       "    <tr>\n",
       "      <th>unique</th>\n",
       "      <td>42</td>\n",
       "      <td>27</td>\n",
       "      <td>12</td>\n",
       "      <td>5</td>\n",
       "      <td>2</td>\n",
       "      <td>11</td>\n",
       "      <td>12</td>\n",
       "      <td>22</td>\n",
       "      <td>6</td>\n",
       "      <td>0.0</td>\n",
       "      <td>20</td>\n",
       "    </tr>\n",
       "    <tr>\n",
       "      <th>top</th>\n",
       "      <td>World Vision International</td>\n",
       "      <td>Hermann Gmeiner</td>\n",
       "      <td>Siddharta Kaul</td>\n",
       "      <td>Helmut Kutin</td>\n",
       "      <td>Madame Louise Fréchette</td>\n",
       "      <td>US$1.01 billion (2016)[4]</td>\n",
       "      <td>Imst, Austria</td>\n",
       "      <td>Monrovia, California, U.S., 800 West Chestnut ...</td>\n",
       "      <td>SOS</td>\n",
       "      <td>NaN</td>\n",
       "      <td>Humanitarian Services</td>\n",
       "    </tr>\n",
       "    <tr>\n",
       "      <th>freq</th>\n",
       "      <td>2</td>\n",
       "      <td>2</td>\n",
       "      <td>2</td>\n",
       "      <td>2</td>\n",
       "      <td>1</td>\n",
       "      <td>2</td>\n",
       "      <td>2</td>\n",
       "      <td>2</td>\n",
       "      <td>2</td>\n",
       "      <td>NaN</td>\n",
       "      <td>2</td>\n",
       "    </tr>\n",
       "  </tbody>\n",
       "</table>\n",
       "</div>"
      ],
      "text/plain": [
       "                              name         Leader 1        Leader 2  \\\n",
       "count                           45               29              14   \n",
       "unique                          42               27              12   \n",
       "top     World Vision International  Hermann Gmeiner  Siddharta Kaul   \n",
       "freq                             2                2               2   \n",
       "\n",
       "            Leader 3                 Leader 4                    Revenue  \\\n",
       "count              6                        2                         12   \n",
       "unique             5                        2                         11   \n",
       "top     Helmut Kutin  Madame Louise Fréchette  US$1.01 billion (2016)[4]   \n",
       "freq               2                        1                          2   \n",
       "\n",
       "         Headquarters                                           Location  \\\n",
       "count              14                                                 23   \n",
       "unique             12                                                 22   \n",
       "top     Imst, Austria  Monrovia, California, U.S., 800 West Chestnut ...   \n",
       "freq                2                                                  2   \n",
       "\n",
       "       Other names  Subsidiaries                Purpose  \n",
       "count            8           0.0                     24  \n",
       "unique           6           0.0                     20  \n",
       "top            SOS           NaN  Humanitarian Services  \n",
       "freq             2           NaN                      2  "
      ]
     },
     "execution_count": 14,
     "metadata": {},
     "output_type": "execute_result"
    }
   ],
   "source": [
    "INGO_detailed.describe()"
   ]
  },
  {
   "cell_type": "markdown",
   "metadata": {},
   "source": [
    "We see that this is still relatively messy, with lots of information missing, and sometimes misstored columns or mulitple values in each field. This is okay, though, because the names are neat and they will be our primary point of comparison with the panama papers. Once we have narrowed down the charities based on the names, if we need more information about the (hopefully) small subset of charities, we can do more cleaning then. \n",
    "\n",
    "Meanwhile, let's save this information and analyse it a bit more carefully."
   ]
  },
  {
   "cell_type": "code",
   "execution_count": 15,
   "metadata": {},
   "outputs": [],
   "source": [
    "#Save the data as a csv file\n",
    "INGO_detailed.to_csv('../../generated/scraping/INGO/INGO_charity_info.csv')"
   ]
  },
  {
   "cell_type": "code",
   "execution_count": 16,
   "metadata": {},
   "outputs": [
    {
     "data": {
      "text/html": [
       "<div>\n",
       "<table border=\"1\" class=\"dataframe\">\n",
       "  <thead>\n",
       "    <tr style=\"text-align: right;\">\n",
       "      <th></th>\n",
       "      <th>name</th>\n",
       "      <th>Leader 1</th>\n",
       "      <th>Leader 2</th>\n",
       "      <th>Leader 3</th>\n",
       "      <th>Leader 4</th>\n",
       "      <th>Revenue</th>\n",
       "      <th>Headquarters</th>\n",
       "      <th>Location</th>\n",
       "      <th>Other names</th>\n",
       "      <th>Subsidiaries</th>\n",
       "      <th>Purpose</th>\n",
       "    </tr>\n",
       "  </thead>\n",
       "  <tbody>\n",
       "    <tr>\n",
       "      <th>0</th>\n",
       "      <td>khalsa Aid</td>\n",
       "      <td>Ravi Singh</td>\n",
       "      <td>Ravi Singh</td>\n",
       "      <td>NaN</td>\n",
       "      <td>NaN</td>\n",
       "      <td>£1M</td>\n",
       "      <td>Slough, England</td>\n",
       "      <td>NaN</td>\n",
       "      <td>NaN</td>\n",
       "      <td>NaN</td>\n",
       "      <td>Provides humanitarian aid in disaster areas an...</td>\n",
       "    </tr>\n",
       "    <tr>\n",
       "      <th>1</th>\n",
       "      <td>ADRA</td>\n",
       "      <td>Seventh-day Adventist Church</td>\n",
       "      <td>Seventh-day Adventist Church</td>\n",
       "      <td>Jonathan Duffy, President; Korey Dowling, Vice...</td>\n",
       "      <td>NaN</td>\n",
       "      <td>$173,000,000 (2009)</td>\n",
       "      <td>NaN</td>\n",
       "      <td>Silver Spring, Maryland, USA</td>\n",
       "      <td>NaN</td>\n",
       "      <td>NaN</td>\n",
       "      <td>Provides individual and community development ...</td>\n",
       "    </tr>\n",
       "    <tr>\n",
       "      <th>2</th>\n",
       "      <td>CAFOD</td>\n",
       "      <td>NaN</td>\n",
       "      <td>NaN</td>\n",
       "      <td>NaN</td>\n",
       "      <td>NaN</td>\n",
       "      <td>NaN</td>\n",
       "      <td>NaN</td>\n",
       "      <td>NaN</td>\n",
       "      <td>NaN</td>\n",
       "      <td>NaN</td>\n",
       "      <td>NaN</td>\n",
       "    </tr>\n",
       "    <tr>\n",
       "      <th>3</th>\n",
       "      <td>CARE</td>\n",
       "      <td>Arthur C. Ringland, Wallace J. Campbell, Linco...</td>\n",
       "      <td>Caroline Kende-Robb</td>\n",
       "      <td>Lindsay Glassco</td>\n",
       "      <td>Madame Louise Fréchette</td>\n",
       "      <td>NaN</td>\n",
       "      <td>NaN</td>\n",
       "      <td>NaN</td>\n",
       "      <td>NaN</td>\n",
       "      <td>NaN</td>\n",
       "      <td>Humanitarian relief and development support</td>\n",
       "    </tr>\n",
       "    <tr>\n",
       "      <th>4</th>\n",
       "      <td>Oxfam</td>\n",
       "      <td>NaN</td>\n",
       "      <td>NaN</td>\n",
       "      <td>NaN</td>\n",
       "      <td>NaN</td>\n",
       "      <td>NaN</td>\n",
       "      <td>Oxfam International, Oxfam House, John Smith D...</td>\n",
       "      <td>NaN</td>\n",
       "      <td>NaN</td>\n",
       "      <td>NaN</td>\n",
       "      <td>Poverty eradicationdisaster relief advocacy po...</td>\n",
       "    </tr>\n",
       "  </tbody>\n",
       "</table>\n",
       "</div>"
      ],
      "text/plain": [
       "         name                                           Leader 1  \\\n",
       "0  khalsa Aid                                         Ravi Singh   \n",
       "1        ADRA                       Seventh-day Adventist Church   \n",
       "2       CAFOD                                                NaN   \n",
       "3        CARE  Arthur C. Ringland, Wallace J. Campbell, Linco...   \n",
       "4       Oxfam                                                NaN   \n",
       "\n",
       "                       Leader 2  \\\n",
       "0                    Ravi Singh   \n",
       "1  Seventh-day Adventist Church   \n",
       "2                           NaN   \n",
       "3           Caroline Kende-Robb   \n",
       "4                           NaN   \n",
       "\n",
       "                                            Leader 3                 Leader 4  \\\n",
       "0                                                NaN                      NaN   \n",
       "1  Jonathan Duffy, President; Korey Dowling, Vice...                      NaN   \n",
       "2                                                NaN                      NaN   \n",
       "3                                    Lindsay Glassco  Madame Louise Fréchette   \n",
       "4                                                NaN                      NaN   \n",
       "\n",
       "               Revenue                                       Headquarters  \\\n",
       "0                  £1M                                    Slough, England   \n",
       "1  $173,000,000 (2009)                                                NaN   \n",
       "2                  NaN                                                NaN   \n",
       "3                  NaN                                                NaN   \n",
       "4                  NaN  Oxfam International, Oxfam House, John Smith D...   \n",
       "\n",
       "                       Location Other names  Subsidiaries  \\\n",
       "0                           NaN         NaN           NaN   \n",
       "1  Silver Spring, Maryland, USA         NaN           NaN   \n",
       "2                           NaN         NaN           NaN   \n",
       "3                           NaN         NaN           NaN   \n",
       "4                           NaN         NaN           NaN   \n",
       "\n",
       "                                             Purpose  \n",
       "0  Provides humanitarian aid in disaster areas an...  \n",
       "1  Provides individual and community development ...  \n",
       "2                                                NaN  \n",
       "3        Humanitarian relief and development support  \n",
       "4  Poverty eradicationdisaster relief advocacy po...  "
      ]
     },
     "execution_count": 16,
     "metadata": {},
     "output_type": "execute_result"
    }
   ],
   "source": [
    "#reload the data to make sure it's okay\n",
    "df = pd.read_csv('../../generated/scraping/INGO/INGO_charity_info.csv', index_col=0)\n",
    "df.head(5)"
   ]
  },
  {
   "cell_type": "markdown",
   "metadata": {},
   "source": [
    "Looks like it survived the csv. Time to analyse!\n",
    "\n",
    "We start with the names, since they are the most important part of the charity for our research (primary point of comparison with the panama papers).\n",
    "\n",
    "To figure out how often we might accidentally come across matches based on rather generic names, we analyse the words that make up the names."
   ]
  },
  {
   "cell_type": "markdown",
   "metadata": {},
   "source": [
    "### Analysis of extracted INGO info"
   ]
  },
  {
   "cell_type": "code",
   "execution_count": 17,
   "metadata": {},
   "outputs": [
    {
     "data": {
      "text/html": [
       "<div>\n",
       "<table border=\"1\" class=\"dataframe\">\n",
       "  <thead>\n",
       "    <tr style=\"text-align: right;\">\n",
       "      <th></th>\n",
       "      <th>Words</th>\n",
       "      <th>Count</th>\n",
       "    </tr>\n",
       "  </thead>\n",
       "  <tbody>\n",
       "    <tr>\n",
       "      <th>0</th>\n",
       "      <td>International</td>\n",
       "      <td>15</td>\n",
       "    </tr>\n",
       "    <tr>\n",
       "      <th>1</th>\n",
       "      <td>of</td>\n",
       "      <td>8</td>\n",
       "    </tr>\n",
       "    <tr>\n",
       "      <th>2</th>\n",
       "      <td>World</td>\n",
       "      <td>6</td>\n",
       "    </tr>\n",
       "    <tr>\n",
       "      <th>3</th>\n",
       "      <td>for</td>\n",
       "      <td>3</td>\n",
       "    </tr>\n",
       "    <tr>\n",
       "      <th>4</th>\n",
       "      <td>the</td>\n",
       "      <td>3</td>\n",
       "    </tr>\n",
       "  </tbody>\n",
       "</table>\n",
       "</div>"
      ],
      "text/plain": [
       "           Words  Count\n",
       "0  International     15\n",
       "1             of      8\n",
       "2          World      6\n",
       "3            for      3\n",
       "4            the      3"
      ]
     },
     "execution_count": 17,
     "metadata": {},
     "output_type": "execute_result"
    }
   ],
   "source": [
    "names = df['name']\n",
    "\n",
    "#Separate the words in the names\n",
    "split_names = names.str.split()\n",
    "words_in_names = pd.DataFrame([word for name in split_names for word in name], columns=['Words'])\n",
    "\n",
    "#Count how often specific words appear\n",
    "words_in_names['Count'] = 1\n",
    "word_frequency = words_in_names.groupby('Words').count().reset_index()\\\n",
    "                    .sort_values(by='Count', ascending=False)\\\n",
    "                    .reset_index(drop=True)\n",
    "word_frequency.head(5)"
   ]
  },
  {
   "cell_type": "markdown",
   "metadata": {},
   "source": [
    "We see that we have a lot of \"stop words\" (words that exist mostly for grammatical purposes, like \"of\" and \"for\"). Since these aren't very interesting (because they are everywhere!) we can remove them using nltk's predefined list of English stop words."
   ]
  },
  {
   "cell_type": "code",
   "execution_count": 18,
   "metadata": {},
   "outputs": [
    {
     "data": {
      "text/html": [
       "<div>\n",
       "<table border=\"1\" class=\"dataframe\">\n",
       "  <thead>\n",
       "    <tr style=\"text-align: right;\">\n",
       "      <th></th>\n",
       "      <th>Words</th>\n",
       "      <th>Count</th>\n",
       "    </tr>\n",
       "  </thead>\n",
       "  <tbody>\n",
       "    <tr>\n",
       "      <th>0</th>\n",
       "      <td>International</td>\n",
       "      <td>15</td>\n",
       "    </tr>\n",
       "    <tr>\n",
       "      <th>1</th>\n",
       "      <td>World</td>\n",
       "      <td>6</td>\n",
       "    </tr>\n",
       "    <tr>\n",
       "      <th>2</th>\n",
       "      <td>Youth</td>\n",
       "      <td>3</td>\n",
       "    </tr>\n",
       "    <tr>\n",
       "      <th>3</th>\n",
       "      <td>Nature</td>\n",
       "      <td>3</td>\n",
       "    </tr>\n",
       "    <tr>\n",
       "      <th>4</th>\n",
       "      <td>Federation</td>\n",
       "      <td>3</td>\n",
       "    </tr>\n",
       "  </tbody>\n",
       "</table>\n",
       "</div>"
      ],
      "text/plain": [
       "           Words  Count\n",
       "0  International     15\n",
       "1          World      6\n",
       "2          Youth      3\n",
       "3         Nature      3\n",
       "4     Federation      3"
      ]
     },
     "execution_count": 18,
     "metadata": {},
     "output_type": "execute_result"
    }
   ],
   "source": [
    "stop_words = set(stopwords.words('english'))\n",
    "big_words = word_frequency[word_frequency['Words'].str.lower().isin(stop_words) == False]\\\n",
    "                    .sort_values(by='Count', ascending=False)\\\n",
    "                    .reset_index(drop=True)\n",
    "big_words.head(5)"
   ]
  },
  {
   "cell_type": "code",
   "execution_count": 19,
   "metadata": {},
   "outputs": [
    {
     "data": {
      "text/plain": [
       "<matplotlib.axes._subplots.AxesSubplot at 0x7ff1747499e8>"
      ]
     },
     "execution_count": 19,
     "metadata": {},
     "output_type": "execute_result"
    }
   ],
   "source": [
    "big_words.plot(title='Distribution of the number of times a word appears in INGO names')"
   ]
  },
  {
   "cell_type": "code",
   "execution_count": 20,
   "metadata": {},
   "outputs": [
    {
     "data": {
      "text/html": [
       "<div>\n",
       "<table border=\"1\" class=\"dataframe\">\n",
       "  <thead>\n",
       "    <tr style=\"text-align: right;\">\n",
       "      <th></th>\n",
       "      <th>Count</th>\n",
       "    </tr>\n",
       "  </thead>\n",
       "  <tbody>\n",
       "    <tr>\n",
       "      <th>count</th>\n",
       "      <td>85.000000</td>\n",
       "    </tr>\n",
       "    <tr>\n",
       "      <th>mean</th>\n",
       "      <td>1.482353</td>\n",
       "    </tr>\n",
       "    <tr>\n",
       "      <th>std</th>\n",
       "      <td>1.659115</td>\n",
       "    </tr>\n",
       "    <tr>\n",
       "      <th>min</th>\n",
       "      <td>1.000000</td>\n",
       "    </tr>\n",
       "    <tr>\n",
       "      <th>25%</th>\n",
       "      <td>1.000000</td>\n",
       "    </tr>\n",
       "    <tr>\n",
       "      <th>50%</th>\n",
       "      <td>1.000000</td>\n",
       "    </tr>\n",
       "    <tr>\n",
       "      <th>75%</th>\n",
       "      <td>1.000000</td>\n",
       "    </tr>\n",
       "    <tr>\n",
       "      <th>max</th>\n",
       "      <td>15.000000</td>\n",
       "    </tr>\n",
       "  </tbody>\n",
       "</table>\n",
       "</div>"
      ],
      "text/plain": [
       "           Count\n",
       "count  85.000000\n",
       "mean    1.482353\n",
       "std     1.659115\n",
       "min     1.000000\n",
       "25%     1.000000\n",
       "50%     1.000000\n",
       "75%     1.000000\n",
       "max    15.000000"
      ]
     },
     "execution_count": 20,
     "metadata": {},
     "output_type": "execute_result"
    }
   ],
   "source": [
    "big_words.describe()"
   ]
  },
  {
   "cell_type": "markdown",
   "metadata": {},
   "source": [
    "Of our approximate 85 words, we seem to have quite a few  that are used multiple times. Let's find out what they are."
   ]
  },
  {
   "cell_type": "code",
   "execution_count": 21,
   "metadata": {},
   "outputs": [
    {
     "data": {
      "text/html": [
       "<div>\n",
       "<table border=\"1\" class=\"dataframe\">\n",
       "  <thead>\n",
       "    <tr style=\"text-align: right;\">\n",
       "      <th></th>\n",
       "      <th>Count</th>\n",
       "    </tr>\n",
       "  </thead>\n",
       "  <tbody>\n",
       "    <tr>\n",
       "      <th>count</th>\n",
       "      <td>6.000000</td>\n",
       "    </tr>\n",
       "    <tr>\n",
       "      <th>mean</th>\n",
       "      <td>5.500000</td>\n",
       "    </tr>\n",
       "    <tr>\n",
       "      <th>std</th>\n",
       "      <td>4.806246</td>\n",
       "    </tr>\n",
       "    <tr>\n",
       "      <th>min</th>\n",
       "      <td>3.000000</td>\n",
       "    </tr>\n",
       "    <tr>\n",
       "      <th>25%</th>\n",
       "      <td>3.000000</td>\n",
       "    </tr>\n",
       "    <tr>\n",
       "      <th>50%</th>\n",
       "      <td>3.000000</td>\n",
       "    </tr>\n",
       "    <tr>\n",
       "      <th>75%</th>\n",
       "      <td>5.250000</td>\n",
       "    </tr>\n",
       "    <tr>\n",
       "      <th>max</th>\n",
       "      <td>15.000000</td>\n",
       "    </tr>\n",
       "  </tbody>\n",
       "</table>\n",
       "</div>"
      ],
      "text/plain": [
       "           Count\n",
       "count   6.000000\n",
       "mean    5.500000\n",
       "std     4.806246\n",
       "min     3.000000\n",
       "25%     3.000000\n",
       "50%     3.000000\n",
       "75%     5.250000\n",
       "max    15.000000"
      ]
     },
     "execution_count": 21,
     "metadata": {},
     "output_type": "execute_result"
    }
   ],
   "source": [
    "common_words = big_words[big_words['Count'] > 2]\n",
    "common_words.describe()"
   ]
  },
  {
   "cell_type": "code",
   "execution_count": 22,
   "metadata": {},
   "outputs": [
    {
     "data": {
      "text/plain": [
       "<matplotlib.axes._subplots.AxesSubplot at 0x7ff1745eb6a0>"
      ]
     },
     "execution_count": 22,
     "metadata": {},
     "output_type": "execute_result"
    },
    {
     "data": {
      "image/png": "[encoded data removed]",
      "text/plain": [
       "<Figure size 1080x720 with 1 Axes>"
      ]
     },
     "metadata": {},
     "output_type": "display_data"
    }
   ],
   "source": [
    "common_words.plot(kind='barh', x='Words', y='Count', figsize=(15, 10),\n",
    "                  title='Words appearing more than twice in names, by frequency')"
   ]
  },
  {
   "cell_type": "markdown",
   "metadata": {},
   "source": [
    "We can see that while there are a few \"generic\" words (International, World, Federation) that are not suprising for INGOs, some of the them are rather specialized (Youth, Nature, Children). These are the ones that should help us track down charities in the panama papers or other leaked data."
   ]
  }
 ],
 "metadata": {
  "kernelspec": {
   "display_name": "Python 3",
   "language": "python",
   "name": "python3"
  },
  "language_info": {
   "codemirror_mode": {
    "name": "ipython",
    "version": 3
   },
   "file_extension": ".py",
   "mimetype": "text/x-python",
   "name": "python",
   "nbconvert_exporter": "python",
   "pygments_lexer": "ipython3",
   "version": "3.6.5"
  }
 },
 "nbformat": 4,
 "nbformat_minor": 2
}
