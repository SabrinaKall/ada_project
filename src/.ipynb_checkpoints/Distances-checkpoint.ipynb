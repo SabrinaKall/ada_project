{
 "cells": [
  {
   "cell_type": "markdown",
   "metadata": {},
   "source": [
    "# Distances\n",
    "\n",
    "Using the matches found for data extraction, find the nodes connected to the matching shell companies up to a given distance using the edges. These will then be stored as csv files and used to create graphs that can visualize the degree of connectivity between the hit nodes."
   ]
  },
  {
   "cell_type": "code",
   "execution_count": 1,
   "metadata": {},
   "outputs": [],
   "source": [
    "#Imports\n",
    "import pandas as pd\n",
    "\n",
    "#spark\n",
    "import findspark\n",
    "findspark.init('/opt/spark/spark-2.3.2-bin-hadoop2.7/')\n",
    "\n",
    "from pyspark.sql import *\n",
    "from pyspark.sql.functions import *\n",
    "from pyspark.sql.functions import min\n",
    "from pyspark.sql.functions import udf\n",
    "from pyspark.sql.functions import split\n",
    "from pyspark.sql.functions import explode\n",
    "\n",
    "from pyspark.sql.types import StringType\n",
    "from pyspark.sql.types import TimestampType\n",
    "\n",
    "from pyspark.sql import SparkSession\n",
    "from pyspark import SparkContext\n",
    "\n",
    "spark = SparkSession.builder.getOrCreate()\n",
    "\n",
    "import networkx as nx\n",
    "\n",
    "from operator import itemgetter\n",
    "import matplotlib.pyplot as plt\n",
    "import collections\n",
    "from community import community_louvain\n",
    "from networkx.algorithms.community.centrality import girvan_newman\n",
    "import itertools\n",
    "%matplotlib inline\n",
    "\n",
    "import warnings\n",
    "warnings.filterwarnings('ignore')"
   ]
  },
  {
   "cell_type": "markdown",
   "metadata": {},
   "source": [
    "### Load Data"
   ]
  },
  {
   "cell_type": "code",
   "execution_count": 2,
   "metadata": {},
   "outputs": [],
   "source": [
    "#Constants\n",
    "\n",
    "DISTANCE_DEGREE = 1\n",
    "\n",
    "def get_match_file(leak, charity):\n",
    "    return '../generated/matches/' + leak + '_' + charity + '_matches.csv'\n"
   ]
  },
  {
   "cell_type": "code",
   "execution_count": 3,
   "metadata": {},
   "outputs": [],
   "source": [
    "#Load matches\n",
    "panama_wiki_matches = spark.read.csv(get_match_file('panama', 'wikipedia'), header=True)\n",
    "panama_ingo_matches = spark.read.csv(get_match_file('panama', 'INGO'), header=True)\n",
    "panama_forbes_matches = spark.read.csv(get_match_file('panama', 'forbes'), header=True)\n",
    "\n",
    "matches = panama_wiki_matches.union(panama_forbes_matches).union(panama_ingo_matches).drop('_c0')\n",
    "\n",
    "#Load edges\n",
    "edges = spark.read.csv('../data/panama/panama_papers.edges.csv', header=True)\n",
    "\n",
    "address_nodes = spark.read.csv('../data/panama/panama_papers.nodes.address.csv', header=True)\n",
    "intermediary_nodes = spark.read.csv('../data/panama/panama_papers.nodes.intermediary.csv', header=True)\n",
    "officer_nodes = spark.read.csv('../data/panama/panama_papers.nodes.officer.csv', header=True)\n",
    "entity_nodes = spark.read.csv('../data/panama/panama_papers.nodes.entity.csv', header=True)"
   ]
  },
  {
   "cell_type": "markdown",
   "metadata": {},
   "source": [
    "### Filter down huge leaks datasets to smaller match datasets"
   ]
  },
  {
   "cell_type": "code",
   "execution_count": 4,
   "metadata": {},
   "outputs": [],
   "source": [
    "def filter_edges(edges, nodes):\n",
    "    '''Given a set of nodes, returns the edges connected to those nodes'''\n",
    "    ids = nodes.map(lambda r: r[0]).collect()\n",
    "    return edges.rdd.filter(lambda r: r[0] in ids or r[2] in ids)\n",
    "\n",
    "def filter_nodes(nodes, edges):\n",
    "    ''\n",
    "    start_ids = edges.map(lambda r: r[0]).collect()\n",
    "    end_ids = edges.map(lambda r: r[2]).collect()\n",
    "    \n",
    "    return nodes.rdd.filter(lambda r: r[0] in start_ids or r[0] in end_ids)\n",
    "\n",
    "def get_map_of_degree(degree):\n",
    "    \n",
    "    degree_i_nodes = matches.rdd\n",
    "    \n",
    "    \n",
    "    for i in range(degree):\n",
    "        degree_i_edges = filter_edges(edges, degree_i_nodes)\n",
    "        \n",
    "        degree_i_addresses = filter_nodes(address_nodes, degree_i_edges)\n",
    "        degree_i_intermediary = filter_nodes(intermediary_nodes, degree_i_edges)\n",
    "        degree_i_entities = filter_nodes(entity_nodes, degree_i_edges)\n",
    "        degree_i_officers = filter_nodes(officer_nodes, degree_i_edges)\n",
    "        \n",
    "        degree_i_nodes = degree_i_addresses\\\n",
    "                                .union(degree_i_intermediary)\\\n",
    "                                .union(degree_i_entities)\\\n",
    "                                .union(degree_i_officers)\n",
    "        \n",
    "    return degree_i_edges, degree_i_nodes\n",
    "        \n",
    "    "
   ]
  },
  {
   "cell_type": "code",
   "execution_count": 5,
   "metadata": {},
   "outputs": [],
   "source": [
    "filtered_edges, filtered_nodes = get_map_of_degree(DISTANCE_DEGREE)"
   ]
  },
  {
   "cell_type": "code",
   "execution_count": 6,
   "metadata": {},
   "outputs": [
    {
     "data": {
      "text/plain": [
       "[Row(node_id='14002637', name=None, address='125 Main Street; P.O. Box 144; Road Town; Tortola; British Virgin Islands; VG1100', country_codes='VGB', countries='British Virgin Islands', sourceID='Panama Papers', valid_until='The Panama Papers  data is current through 2015', note=None),\n",
       " Row(node_id='14003360', name=None, address='13505 BELL AVENUE; OKLAHOMA CITY; OKLAHOMA 73142; USA', country_codes='USA', countries='United States', sourceID='Panama Papers', valid_until='The Panama Papers  data is current through 2015', note=None),\n",
       " Row(node_id='14023876', name=None, address='8th Floor; Max City Building; Remi Ollier Street; Port Louis; Mauritius', country_codes='MUS', countries='Mauritius', sourceID='Panama Papers', valid_until='The Panama Papers  data is current through 2015', note=None),\n",
       " Row(node_id='14037497', name=None, address='Dixcart House; Fort Charles; Charlestown; Nevis; St. Kitts & Nevis', country_codes='KNA', countries='Saint Kitts and Nevis', sourceID='Panama Papers', valid_until='The Panama Papers  data is current through 2015', note=None),\n",
       " Row(node_id='14041972', name=None, address='Flat D; 7/F.; Block 16; Provident Centre; 51 Wharf Rd.; North Point; Hong Kong', country_codes='HKG', countries='Hong Kong', sourceID='Panama Papers', valid_until='The Panama Papers  data is current through 2015', note=None)]"
      ]
     },
     "execution_count": 6,
     "metadata": {},
     "output_type": "execute_result"
    }
   ],
   "source": [
    "filtered_nodes.take(5)"
   ]
  },
  {
   "cell_type": "code",
   "execution_count": 7,
   "metadata": {},
   "outputs": [],
   "source": [
    "graph_edges = pd.DataFrame(filtered_edges.collect(),\n",
    "             columns=['START_ID', 'TYPE', 'END_ID', 'link', 'start_date', 'end_date', 'sourceID', 'valid_until'])\n",
    "graph_nodes = pd.DataFrame(filtered_nodes.collect())"
   ]
  },
  {
   "cell_type": "code",
   "execution_count": 8,
   "metadata": {},
   "outputs": [
    {
     "name": "stdout",
     "output_type": "stream",
     "text": [
      "13472\n",
      "13472\n"
     ]
    }
   ],
   "source": [
    "print(len(graph_nodes[0]))\n",
    "print(len(graph_nodes[0].unique()))"
   ]
  },
  {
   "cell_type": "code",
   "execution_count": 9,
   "metadata": {},
   "outputs": [
    {
     "data": {
      "text/html": [
       "<div>\n",
       "<style scoped>\n",
       "    .dataframe tbody tr th:only-of-type {\n",
       "        vertical-align: middle;\n",
       "    }\n",
       "\n",
       "    .dataframe tbody tr th {\n",
       "        vertical-align: top;\n",
       "    }\n",
       "\n",
       "    .dataframe thead th {\n",
       "        text-align: right;\n",
       "    }\n",
       "</style>\n",
       "<table border=\"1\" class=\"dataframe\">\n",
       "  <thead>\n",
       "    <tr style=\"text-align: right;\">\n",
       "      <th></th>\n",
       "      <th>0</th>\n",
       "      <th>1</th>\n",
       "      <th>2</th>\n",
       "      <th>3</th>\n",
       "      <th>4</th>\n",
       "      <th>5</th>\n",
       "      <th>6</th>\n",
       "      <th>7</th>\n",
       "      <th>8</th>\n",
       "      <th>9</th>\n",
       "      <th>10</th>\n",
       "      <th>11</th>\n",
       "      <th>12</th>\n",
       "      <th>13</th>\n",
       "      <th>14</th>\n",
       "      <th>15</th>\n",
       "      <th>16</th>\n",
       "    </tr>\n",
       "  </thead>\n",
       "  <tbody>\n",
       "    <tr>\n",
       "      <th>0</th>\n",
       "      <td>14002637</td>\n",
       "      <td>None</td>\n",
       "      <td>125 Main Street; P.O. Box 144; Road Town; Tort...</td>\n",
       "      <td>VGB</td>\n",
       "      <td>British Virgin Islands</td>\n",
       "      <td>Panama Papers</td>\n",
       "      <td>The Panama Papers  data is current through 2015</td>\n",
       "      <td>None</td>\n",
       "      <td>None</td>\n",
       "      <td>None</td>\n",
       "      <td>None</td>\n",
       "      <td>None</td>\n",
       "      <td>None</td>\n",
       "      <td>None</td>\n",
       "      <td>None</td>\n",
       "      <td>None</td>\n",
       "      <td>None</td>\n",
       "    </tr>\n",
       "    <tr>\n",
       "      <th>1</th>\n",
       "      <td>14003360</td>\n",
       "      <td>None</td>\n",
       "      <td>13505 BELL AVENUE; OKLAHOMA CITY; OKLAHOMA 731...</td>\n",
       "      <td>USA</td>\n",
       "      <td>United States</td>\n",
       "      <td>Panama Papers</td>\n",
       "      <td>The Panama Papers  data is current through 2015</td>\n",
       "      <td>None</td>\n",
       "      <td>None</td>\n",
       "      <td>None</td>\n",
       "      <td>None</td>\n",
       "      <td>None</td>\n",
       "      <td>None</td>\n",
       "      <td>None</td>\n",
       "      <td>None</td>\n",
       "      <td>None</td>\n",
       "      <td>None</td>\n",
       "    </tr>\n",
       "    <tr>\n",
       "      <th>2</th>\n",
       "      <td>14023876</td>\n",
       "      <td>None</td>\n",
       "      <td>8th Floor; Max City Building; Remi Ollier Stre...</td>\n",
       "      <td>MUS</td>\n",
       "      <td>Mauritius</td>\n",
       "      <td>Panama Papers</td>\n",
       "      <td>The Panama Papers  data is current through 2015</td>\n",
       "      <td>None</td>\n",
       "      <td>None</td>\n",
       "      <td>None</td>\n",
       "      <td>None</td>\n",
       "      <td>None</td>\n",
       "      <td>None</td>\n",
       "      <td>None</td>\n",
       "      <td>None</td>\n",
       "      <td>None</td>\n",
       "      <td>None</td>\n",
       "    </tr>\n",
       "    <tr>\n",
       "      <th>3</th>\n",
       "      <td>14037497</td>\n",
       "      <td>None</td>\n",
       "      <td>Dixcart House; Fort Charles; Charlestown; Nevi...</td>\n",
       "      <td>KNA</td>\n",
       "      <td>Saint Kitts and Nevis</td>\n",
       "      <td>Panama Papers</td>\n",
       "      <td>The Panama Papers  data is current through 2015</td>\n",
       "      <td>None</td>\n",
       "      <td>None</td>\n",
       "      <td>None</td>\n",
       "      <td>None</td>\n",
       "      <td>None</td>\n",
       "      <td>None</td>\n",
       "      <td>None</td>\n",
       "      <td>None</td>\n",
       "      <td>None</td>\n",
       "      <td>None</td>\n",
       "    </tr>\n",
       "    <tr>\n",
       "      <th>4</th>\n",
       "      <td>14041972</td>\n",
       "      <td>None</td>\n",
       "      <td>Flat D; 7/F.; Block 16; Provident Centre; 51 W...</td>\n",
       "      <td>HKG</td>\n",
       "      <td>Hong Kong</td>\n",
       "      <td>Panama Papers</td>\n",
       "      <td>The Panama Papers  data is current through 2015</td>\n",
       "      <td>None</td>\n",
       "      <td>None</td>\n",
       "      <td>None</td>\n",
       "      <td>None</td>\n",
       "      <td>None</td>\n",
       "      <td>None</td>\n",
       "      <td>None</td>\n",
       "      <td>None</td>\n",
       "      <td>None</td>\n",
       "      <td>None</td>\n",
       "    </tr>\n",
       "  </tbody>\n",
       "</table>\n",
       "</div>"
      ],
      "text/plain": [
       "         0     1                                                  2    3   \\\n",
       "0  14002637  None  125 Main Street; P.O. Box 144; Road Town; Tort...  VGB   \n",
       "1  14003360  None  13505 BELL AVENUE; OKLAHOMA CITY; OKLAHOMA 731...  USA   \n",
       "2  14023876  None  8th Floor; Max City Building; Remi Ollier Stre...  MUS   \n",
       "3  14037497  None  Dixcart House; Fort Charles; Charlestown; Nevi...  KNA   \n",
       "4  14041972  None  Flat D; 7/F.; Block 16; Provident Centre; 51 W...  HKG   \n",
       "\n",
       "                       4              5   \\\n",
       "0  British Virgin Islands  Panama Papers   \n",
       "1           United States  Panama Papers   \n",
       "2               Mauritius  Panama Papers   \n",
       "3   Saint Kitts and Nevis  Panama Papers   \n",
       "4               Hong Kong  Panama Papers   \n",
       "\n",
       "                                                6     7     8     9     10  \\\n",
       "0  The Panama Papers  data is current through 2015  None  None  None  None   \n",
       "1  The Panama Papers  data is current through 2015  None  None  None  None   \n",
       "2  The Panama Papers  data is current through 2015  None  None  None  None   \n",
       "3  The Panama Papers  data is current through 2015  None  None  None  None   \n",
       "4  The Panama Papers  data is current through 2015  None  None  None  None   \n",
       "\n",
       "     11    12    13    14    15    16  \n",
       "0  None  None  None  None  None  None  \n",
       "1  None  None  None  None  None  None  \n",
       "2  None  None  None  None  None  None  \n",
       "3  None  None  None  None  None  None  \n",
       "4  None  None  None  None  None  None  "
      ]
     },
     "execution_count": 9,
     "metadata": {},
     "output_type": "execute_result"
    }
   ],
   "source": [
    "graph_nodes.head(5)"
   ]
  },
  {
   "cell_type": "code",
   "execution_count": 12,
   "metadata": {},
   "outputs": [],
   "source": [
    "graph_edges.to_csv('../generated/map/panama_edges_degree_'+ str(DISTANCE_DEGREE) +'.csv')\n",
    "graph_nodes.to_csv('../generated/map/panama_nodes_degree_'+ str(DISTANCE_DEGREE) +'.csv')"
   ]
  }
 ],
 "metadata": {
  "kernelspec": {
   "display_name": "Python 3",
   "language": "python",
   "name": "python3"
  },
  "language_info": {
   "codemirror_mode": {
    "name": "ipython",
    "version": 3
   },
   "file_extension": ".py",
   "mimetype": "text/x-python",
   "name": "python",
   "nbconvert_exporter": "python",
   "pygments_lexer": "ipython3",
   "version": "3.6.5"
  }
 },
 "nbformat": 4,
 "nbformat_minor": 2
}
