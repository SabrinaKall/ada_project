{
 "cells": [
  {
   "cell_type": "code",
   "execution_count": 2,
   "metadata": {},
   "outputs": [],
   "source": [
    "# Imports\n",
    "import re\n",
    "import nltk\n",
    "import json\n",
    "import folium\n",
    "import numpy as np\n",
    "import pandas as pd\n",
    "import pycountry as py\n",
    "import matplotlib.pyplot as plt\n",
    "\n",
    "from nltk.tokenize import sent_tokenize, word_tokenize\n",
    "from nltk.corpus import stopwords"
   ]
  },
  {
   "cell_type": "code",
   "execution_count": 3,
   "metadata": {},
   "outputs": [],
   "source": [
    "# File paths\n",
    "DATA_FOLDER = '../data'\n",
    "PANAMA_DATA_FOLDER = DATA_FOLDER + '\\panama'\n",
    "\n",
    "GENERATED_FOLDER = '../generated'\n",
    "CHARITY_GENERATED_FOLDER = GENERATED_FOLDER + '/charities'"
   ]
  },
  {
   "cell_type": "code",
   "execution_count": 4,
   "metadata": {},
   "outputs": [],
   "source": [
    "# Loading and creation of dataframes\n",
    "pp_edges = pd.read_csv(PANAMA_DATA_FOLDER + '/panama_papers.edges.csv', sep=',', low_memory=False)\n",
    "pp_adress = pd.read_csv(PANAMA_DATA_FOLDER + '/panama_papers.nodes.address.csv', sep=',', low_memory=False)\n",
    "pp_entity = pd.read_csv(PANAMA_DATA_FOLDER + '/panama_papers.nodes.entity.csv', sep=',', low_memory=False)\n",
    "pp_intermediary = pd.read_csv(PANAMA_DATA_FOLDER + '/panama_papers.nodes.intermediary.csv', sep=',', low_memory=False)\n",
    "pp_officer = pd.read_csv(PANAMA_DATA_FOLDER + '/panama_papers.nodes.officer.csv', sep=',', low_memory=False)\n",
    "\n",
    "wiki_info = pd.read_csv(CHARITY_GENERATED_FOLDER + '/wikipedia_charity_info.csv', sep=',', low_memory=False)\n",
    "wiki_links =charities_info = pd.read_csv(CHARITY_GENERATED_FOLDER + '/wikipedia_charity_links.csv', sep=',', low_memory=False)"
   ]
  },
  {
   "cell_type": "code",
   "execution_count": 126,
   "metadata": {},
   "outputs": [
    {
     "name": "stderr",
     "output_type": "stream",
     "text": [
      "[nltk_data] Downloading package stopwords to\n",
      "[nltk_data]     C:\\Users\\Ruijia\\AppData\\Roaming\\nltk_data...\n",
      "[nltk_data]   Package stopwords is already up-to-date!\n"
     ]
    }
   ],
   "source": [
    "# Addition of english stop words\n",
    "nltk.download('stopwords')\n",
    "stop_words = set(stopwords.words('english'))\n",
    "\n",
    "stop_words.add('&')\n",
    "stop_words.add('co')\n",
    "stop_words.add('co.')\n",
    "stop_words.add('co.,')\n",
    "stop_words.add('co.,ltd.')\n",
    "stop_words.add('corp')\n",
    "stop_words.add('corp.')\n",
    "stop_words.add('corp.,')\n",
    "stop_words.add('de')\n",
    "stop_words.add('inc')\n",
    "stop_words.add('limited')\n",
    "stop_words.add('ltd')\n",
    "stop_words.add('ltd.')\n",
    "stop_words.add('international')\n",
    "stop_words.add('s.a.')\n",
    "\n",
    "stop_words = list(stop_words)"
   ]
  },
  {
   "cell_type": "code",
   "execution_count": 120,
   "metadata": {},
   "outputs": [],
   "source": [
    "# Splitting each charity name and cleaning stop words\n",
    "wiki_info['Name'] = [re.sub('[()]', '', i) for i in wiki_info['Name']]\n",
    "charity_name = (wiki_info['Name'].str.lower()).str.split(\" \",expand=True)\n",
    "charity_name.replace(stop_words,None,inplace=True)\n",
    "\n",
    "# Extracting company shell names\n",
    "shell_name=pp_entity['name'].str.lower()"
   ]
  },
  {
   "cell_type": "code",
   "execution_count": null,
   "metadata": {},
   "outputs": [],
   "source": [
    "# Search of charity names in all shell names\n",
    "'''\n",
    "Matching names are found by accumuation of evidences.\n",
    "When two words of a charity name is found in a shell name,\n",
    "there is enough evidences that the name are at least very similar.\n",
    "'''\n",
    "for i in range(0,len(shell_name)):\n",
    "    for j in range(0, charity_name.shape[0]):\n",
    "        counter = 0\n",
    "        for k in range(0,charity_name.shape[1]):\n",
    "            if charity_name[k][j] is not None:\n",
    "                if re.search(' ' + charity_name[k][j] + ' ', shell_name[i]):\n",
    "                    counter = counter + 1\n",
    "                    if counter == 2:\n",
    "                        print('(' + str([i,j,k]) + ') ' + \"IT'S A MATCH ! WE'VE GOT THESE BASTARDS ! > \" + shell_name[i])\n",
    "                        break"
   ]
  }
 ],
 "metadata": {
  "kernelspec": {
   "display_name": "Python 3",
   "language": "python",
   "name": "python3"
  },
  "language_info": {
   "codemirror_mode": {
    "name": "ipython",
    "version": 3
   },
   "file_extension": ".py",
   "mimetype": "text/x-python",
   "name": "python",
   "nbconvert_exporter": "python",
   "pygments_lexer": "ipython3",
   "version": "3.6.6"
  }
 },
 "nbformat": 4,
 "nbformat_minor": 2
}
