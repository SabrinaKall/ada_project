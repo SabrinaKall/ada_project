{
 "cells": [
  {
   "cell_type": "markdown",
   "metadata": {},
   "source": [
    "# Analysis and stats of Panama Papers"
   ]
  },
  {
   "cell_type": "code",
   "execution_count": 1,
   "metadata": {},
   "outputs": [],
   "source": [
    "# Imports\n",
    "import re\n",
    "import nltk\n",
    "import json\n",
    "import folium\n",
    "import numpy as np\n",
    "import pandas as pd\n",
    "import seaborn as sns\n",
    "import pycountry as py\n",
    "import matplotlib.pyplot as plt\n",
    "from IPython.display import Markdown, display\n",
    "def printmd(string):\n",
    "    display(Markdown(string))\n",
    "\n",
    "from nltk.tokenize import sent_tokenize, word_tokenize\n",
    "from nltk.corpus import stopwords"
   ]
  },
  {
   "cell_type": "code",
   "execution_count": 2,
   "metadata": {},
   "outputs": [],
   "source": [
    "# File paths\n",
    "DATA_FOLDER = '../data'\n",
    "PANAMA_DATA_FOLDER = DATA_FOLDER + '/panama'\n",
    "\n",
    "GENERATED_FOLDER = '../generated'\n",
    "\n",
    "MAP_FOLDER = '../results/maps'"
   ]
  },
  {
   "cell_type": "markdown",
   "metadata": {},
   "source": [
    "Here we investigate the different dataframes found in the Panama Papers dataset. In order to go through our plan it was important for us to have a good overview of the data after acquaintance. \n",
    "What is the structure of the data ? What informations are relevant for our projets ? How are the different offshore entities distributed ? "
   ]
  },
  {
   "cell_type": "code",
   "execution_count": 3,
   "metadata": {},
   "outputs": [],
   "source": [
    "# Loading and creation of dataframes\n",
    "pp_edges = pd.read_csv(PANAMA_DATA_FOLDER + '/panama_papers.edges.csv', sep=',', low_memory=False)\n",
    "pp_adress = pd.read_csv(PANAMA_DATA_FOLDER + '/panama_papers.nodes.address.csv', sep=',', low_memory=False)\n",
    "pp_entity = pd.read_csv(PANAMA_DATA_FOLDER + '/panama_papers.nodes.entity.csv', sep=',', low_memory=False)\n",
    "pp_intermediary = pd.read_csv(PANAMA_DATA_FOLDER + '/panama_papers.nodes.intermediary.csv', sep=',', low_memory=False)\n",
    "pp_officer = pd.read_csv(PANAMA_DATA_FOLDER + '/panama_papers.nodes.officer.csv', sep=',', low_memory=False)\n",
    "\n",
    "wiki_info = pd.read_csv(GENERATED_FOLDER + '/wikipedia/wikipedia_charity_info.csv', sep=',', low_memory=False)"
   ]
  },
  {
   "cell_type": "markdown",
   "metadata": {},
   "source": [
    "The original database is powered by a graph database that structures data in nodes. The data were downloaded as several CSV files, one per type of node and one for all the relationships for each project. The description below come form the Offshore Leak Database by The International Consortium of Investigative Journalists (ICIJ) : https://offshoreleaks.icij.org/. "
   ]
  },
  {
   "cell_type": "code",
   "execution_count": 4,
   "metadata": {},
   "outputs": [
    {
     "data": {
      "text/markdown": [
       "**Offshore Entities :** This dataset contains information on the different companies, trust or fund usingpreferential tax treatment as creation date or the offshore juridiction."
      ],
      "text/plain": [
       "<IPython.core.display.Markdown object>"
      ]
     },
     "metadata": {},
     "output_type": "display_data"
    },
    {
     "data": {
      "text/html": [
       "<div>\n",
       "<table border=\"1\" class=\"dataframe\">\n",
       "  <thead>\n",
       "    <tr style=\"text-align: right;\">\n",
       "      <th></th>\n",
       "      <th>node_id</th>\n",
       "      <th>name</th>\n",
       "      <th>jurisdiction</th>\n",
       "      <th>jurisdiction_description</th>\n",
       "      <th>country_codes</th>\n",
       "      <th>countries</th>\n",
       "      <th>incorporation_date</th>\n",
       "      <th>inactivation_date</th>\n",
       "      <th>struck_off_date</th>\n",
       "      <th>closed_date</th>\n",
       "      <th>ibcRUC</th>\n",
       "      <th>status</th>\n",
       "      <th>company_type</th>\n",
       "      <th>service_provider</th>\n",
       "      <th>sourceID</th>\n",
       "      <th>valid_until</th>\n",
       "      <th>note</th>\n",
       "    </tr>\n",
       "  </thead>\n",
       "  <tbody>\n",
       "    <tr>\n",
       "      <th>0</th>\n",
       "      <td>10000001</td>\n",
       "      <td>TIANSHENG INDUSTRY AND TRADING CO., LTD.</td>\n",
       "      <td>SAM</td>\n",
       "      <td>Samoa</td>\n",
       "      <td>HKG</td>\n",
       "      <td>Hong Kong</td>\n",
       "      <td>23-MAR-2006</td>\n",
       "      <td>18-FEB-2013</td>\n",
       "      <td>15-FEB-2013</td>\n",
       "      <td>NaN</td>\n",
       "      <td>25221</td>\n",
       "      <td>Defaulted</td>\n",
       "      <td>NaN</td>\n",
       "      <td>Mossack Fonseca</td>\n",
       "      <td>Panama Papers</td>\n",
       "      <td>The Panama Papers data is current through 2015</td>\n",
       "      <td>NaN</td>\n",
       "    </tr>\n",
       "    <tr>\n",
       "      <th>1</th>\n",
       "      <td>10000002</td>\n",
       "      <td>NINGBO SUNRISE ENTERPRISES UNITED CO., LTD.</td>\n",
       "      <td>SAM</td>\n",
       "      <td>Samoa</td>\n",
       "      <td>HKG</td>\n",
       "      <td>Hong Kong</td>\n",
       "      <td>27-MAR-2006</td>\n",
       "      <td>27-FEB-2014</td>\n",
       "      <td>15-FEB-2014</td>\n",
       "      <td>NaN</td>\n",
       "      <td>25249</td>\n",
       "      <td>Defaulted</td>\n",
       "      <td>NaN</td>\n",
       "      <td>Mossack Fonseca</td>\n",
       "      <td>Panama Papers</td>\n",
       "      <td>The Panama Papers data is current through 2015</td>\n",
       "      <td>NaN</td>\n",
       "    </tr>\n",
       "  </tbody>\n",
       "</table>\n",
       "</div>"
      ],
      "text/plain": [
       "    node_id                                         name jurisdiction  \\\n",
       "0  10000001     TIANSHENG INDUSTRY AND TRADING CO., LTD.          SAM   \n",
       "1  10000002  NINGBO SUNRISE ENTERPRISES UNITED CO., LTD.          SAM   \n",
       "\n",
       "  jurisdiction_description country_codes  countries incorporation_date  \\\n",
       "0                    Samoa           HKG  Hong Kong        23-MAR-2006   \n",
       "1                    Samoa           HKG  Hong Kong        27-MAR-2006   \n",
       "\n",
       "  inactivation_date struck_off_date  closed_date ibcRUC     status  \\\n",
       "0       18-FEB-2013     15-FEB-2013          NaN  25221  Defaulted   \n",
       "1       27-FEB-2014     15-FEB-2014          NaN  25249  Defaulted   \n",
       "\n",
       "   company_type service_provider       sourceID  \\\n",
       "0           NaN  Mossack Fonseca  Panama Papers   \n",
       "1           NaN  Mossack Fonseca  Panama Papers   \n",
       "\n",
       "                                      valid_until note  \n",
       "0  The Panama Papers data is current through 2015  NaN  \n",
       "1  The Panama Papers data is current through 2015  NaN  "
      ]
     },
     "metadata": {},
     "output_type": "display_data"
    },
    {
     "name": "stdout",
     "output_type": "stream",
     "text": [
      "\n",
      "\n"
     ]
    },
    {
     "data": {
      "text/markdown": [
       "**Intermediary :** This dataset informs us on the intermediary, i.e. a go-between for someone seeking an offshore service provider."
      ],
      "text/plain": [
       "<IPython.core.display.Markdown object>"
      ]
     },
     "metadata": {},
     "output_type": "display_data"
    },
    {
     "data": {
      "text/html": [
       "<div>\n",
       "<table border=\"1\" class=\"dataframe\">\n",
       "  <thead>\n",
       "    <tr style=\"text-align: right;\">\n",
       "      <th></th>\n",
       "      <th>node_id</th>\n",
       "      <th>name</th>\n",
       "      <th>country_codes</th>\n",
       "      <th>countries</th>\n",
       "      <th>status</th>\n",
       "      <th>sourceID</th>\n",
       "      <th>valid_until</th>\n",
       "      <th>note</th>\n",
       "    </tr>\n",
       "  </thead>\n",
       "  <tbody>\n",
       "    <tr>\n",
       "      <th>0</th>\n",
       "      <td>11000001</td>\n",
       "      <td>MICHAEL PAPAGEORGE, MR.</td>\n",
       "      <td>ZAF</td>\n",
       "      <td>South Africa</td>\n",
       "      <td>ACTIVE</td>\n",
       "      <td>Panama Papers</td>\n",
       "      <td>The Panama Papers  data is current through 2015</td>\n",
       "      <td>NaN</td>\n",
       "    </tr>\n",
       "    <tr>\n",
       "      <th>1</th>\n",
       "      <td>11000002</td>\n",
       "      <td>CORFIDUCIA ANSTALT</td>\n",
       "      <td>LIE</td>\n",
       "      <td>Liechtenstein</td>\n",
       "      <td>ACTIVE</td>\n",
       "      <td>Panama Papers</td>\n",
       "      <td>The Panama Papers  data is current through 2015</td>\n",
       "      <td>NaN</td>\n",
       "    </tr>\n",
       "  </tbody>\n",
       "</table>\n",
       "</div>"
      ],
      "text/plain": [
       "    node_id                     name country_codes      countries  status  \\\n",
       "0  11000001  MICHAEL PAPAGEORGE, MR.           ZAF   South Africa  ACTIVE   \n",
       "1  11000002       CORFIDUCIA ANSTALT           LIE  Liechtenstein  ACTIVE   \n",
       "\n",
       "        sourceID                                      valid_until note  \n",
       "0  Panama Papers  The Panama Papers  data is current through 2015  NaN  \n",
       "1  Panama Papers  The Panama Papers  data is current through 2015  NaN  "
      ]
     },
     "metadata": {},
     "output_type": "display_data"
    },
    {
     "name": "stdout",
     "output_type": "stream",
     "text": [
      "\n",
      "\n"
     ]
    },
    {
     "data": {
      "text/markdown": [
       "**Adress :** This dataset contains the contact postal addresses as it appears in the original databases obtained by ICIJ."
      ],
      "text/plain": [
       "<IPython.core.display.Markdown object>"
      ]
     },
     "metadata": {},
     "output_type": "display_data"
    },
    {
     "data": {
      "text/html": [
       "<div>\n",
       "<table border=\"1\" class=\"dataframe\">\n",
       "  <thead>\n",
       "    <tr style=\"text-align: right;\">\n",
       "      <th></th>\n",
       "      <th>node_id</th>\n",
       "      <th>name</th>\n",
       "      <th>address</th>\n",
       "      <th>country_codes</th>\n",
       "      <th>countries</th>\n",
       "      <th>sourceID</th>\n",
       "      <th>valid_until</th>\n",
       "      <th>note</th>\n",
       "    </tr>\n",
       "  </thead>\n",
       "  <tbody>\n",
       "    <tr>\n",
       "      <th>0</th>\n",
       "      <td>14000001</td>\n",
       "      <td>NaN</td>\n",
       "      <td>-\\t27 ROSEWOOD DRIVE #16-19 SINGAPORE 737920</td>\n",
       "      <td>SGP</td>\n",
       "      <td>Singapore</td>\n",
       "      <td>Panama Papers</td>\n",
       "      <td>The Panama Papers  data is current through 2015</td>\n",
       "      <td>NaN</td>\n",
       "    </tr>\n",
       "    <tr>\n",
       "      <th>1</th>\n",
       "      <td>14000002</td>\n",
       "      <td>NaN</td>\n",
       "      <td>\"Almaly Village\" v.5, Almaty Kazakhstan</td>\n",
       "      <td>KAZ</td>\n",
       "      <td>Kazakhstan</td>\n",
       "      <td>Panama Papers</td>\n",
       "      <td>The Panama Papers  data is current through 2015</td>\n",
       "      <td>NaN</td>\n",
       "    </tr>\n",
       "  </tbody>\n",
       "</table>\n",
       "</div>"
      ],
      "text/plain": [
       "    node_id  name                                       address country_codes  \\\n",
       "0  14000001   NaN  -\\t27 ROSEWOOD DRIVE #16-19 SINGAPORE 737920           SGP   \n",
       "1  14000002   NaN       \"Almaly Village\" v.5, Almaty Kazakhstan           KAZ   \n",
       "\n",
       "    countries       sourceID                                      valid_until  \\\n",
       "0   Singapore  Panama Papers  The Panama Papers  data is current through 2015   \n",
       "1  Kazakhstan  Panama Papers  The Panama Papers  data is current through 2015   \n",
       "\n",
       "   note  \n",
       "0   NaN  \n",
       "1   NaN  "
      ]
     },
     "metadata": {},
     "output_type": "display_data"
    },
    {
     "name": "stdout",
     "output_type": "stream",
     "text": [
      "\n",
      "\n"
     ]
    },
    {
     "data": {
      "text/markdown": [
       "**Officier :** This dataset contains information on personn or company who plays a role in an offshore entity. One entity can be linked to several officer."
      ],
      "text/plain": [
       "<IPython.core.display.Markdown object>"
      ]
     },
     "metadata": {},
     "output_type": "display_data"
    },
    {
     "data": {
      "text/html": [
       "<div>\n",
       "<table border=\"1\" class=\"dataframe\">\n",
       "  <thead>\n",
       "    <tr style=\"text-align: right;\">\n",
       "      <th></th>\n",
       "      <th>node_id</th>\n",
       "      <th>name</th>\n",
       "      <th>country_codes</th>\n",
       "      <th>countries</th>\n",
       "      <th>sourceID</th>\n",
       "      <th>valid_until</th>\n",
       "      <th>note</th>\n",
       "    </tr>\n",
       "  </thead>\n",
       "  <tbody>\n",
       "    <tr>\n",
       "      <th>0</th>\n",
       "      <td>12000001</td>\n",
       "      <td>KIM SOO IN</td>\n",
       "      <td>KOR</td>\n",
       "      <td>South Korea</td>\n",
       "      <td>Panama Papers</td>\n",
       "      <td>The Panama Papers data is current through 2015</td>\n",
       "      <td>NaN</td>\n",
       "    </tr>\n",
       "    <tr>\n",
       "      <th>1</th>\n",
       "      <td>12000002</td>\n",
       "      <td>Tian Yuan</td>\n",
       "      <td>CHN</td>\n",
       "      <td>China</td>\n",
       "      <td>Panama Papers</td>\n",
       "      <td>The Panama Papers data is current through 2015</td>\n",
       "      <td>NaN</td>\n",
       "    </tr>\n",
       "  </tbody>\n",
       "</table>\n",
       "</div>"
      ],
      "text/plain": [
       "    node_id        name country_codes    countries       sourceID  \\\n",
       "0  12000001  KIM SOO IN           KOR  South Korea  Panama Papers   \n",
       "1  12000002   Tian Yuan           CHN        China  Panama Papers   \n",
       "\n",
       "                                      valid_until note  \n",
       "0  The Panama Papers data is current through 2015  NaN  \n",
       "1  The Panama Papers data is current through 2015  NaN  "
      ]
     },
     "metadata": {},
     "output_type": "display_data"
    },
    {
     "name": "stdout",
     "output_type": "stream",
     "text": [
      "\n",
      "\n"
     ]
    },
    {
     "data": {
      "text/markdown": [
       "**Edges :** This dataset contains information on the relationship between the different nodes presented above."
      ],
      "text/plain": [
       "<IPython.core.display.Markdown object>"
      ]
     },
     "metadata": {},
     "output_type": "display_data"
    },
    {
     "data": {
      "text/html": [
       "<div>\n",
       "<table border=\"1\" class=\"dataframe\">\n",
       "  <thead>\n",
       "    <tr style=\"text-align: right;\">\n",
       "      <th></th>\n",
       "      <th>START_ID</th>\n",
       "      <th>TYPE</th>\n",
       "      <th>END_ID</th>\n",
       "      <th>link</th>\n",
       "      <th>start_date</th>\n",
       "      <th>end_date</th>\n",
       "      <th>sourceID</th>\n",
       "      <th>valid_until</th>\n",
       "    </tr>\n",
       "  </thead>\n",
       "  <tbody>\n",
       "    <tr>\n",
       "      <th>0</th>\n",
       "      <td>10000035</td>\n",
       "      <td>registered_address</td>\n",
       "      <td>14095990</td>\n",
       "      <td>registered address</td>\n",
       "      <td>NaN</td>\n",
       "      <td>NaN</td>\n",
       "      <td>Panama Papers</td>\n",
       "      <td>NaN</td>\n",
       "    </tr>\n",
       "    <tr>\n",
       "      <th>1</th>\n",
       "      <td>10000044</td>\n",
       "      <td>registered_address</td>\n",
       "      <td>14091035</td>\n",
       "      <td>registered address</td>\n",
       "      <td>NaN</td>\n",
       "      <td>NaN</td>\n",
       "      <td>Panama Papers</td>\n",
       "      <td>NaN</td>\n",
       "    </tr>\n",
       "  </tbody>\n",
       "</table>\n",
       "</div>"
      ],
      "text/plain": [
       "   START_ID                TYPE    END_ID                link start_date  \\\n",
       "0  10000035  registered_address  14095990  registered address        NaN   \n",
       "1  10000044  registered_address  14091035  registered address        NaN   \n",
       "\n",
       "  end_date       sourceID valid_until  \n",
       "0      NaN  Panama Papers         NaN  \n",
       "1      NaN  Panama Papers         NaN  "
      ]
     },
     "metadata": {},
     "output_type": "display_data"
    },
    {
     "data": {
      "text/markdown": [
       "We are particulary interested in the offshore entities. The preliminar study reveal that 213634 offshore entities are distributed in 159 different countries"
      ],
      "text/plain": [
       "<IPython.core.display.Markdown object>"
      ]
     },
     "metadata": {},
     "output_type": "display_data"
    }
   ],
   "source": [
    "#Overview and presentation of different dataframes\n",
    "printmd('**Offshore Entities :** This dataset contains information on the different companies, trust or fund using' +\n",
    "        'preferential tax treatment as creation date or the offshore juridiction.') \n",
    "display(pp_entity.head(2))\n",
    "print('\\n')\n",
    "printmd('**Intermediary :** This dataset informs us on the intermediary, i.e. a go-between for someone seeking an' +\n",
    "        ' offshore service provider.')\n",
    "display(pp_intermediary.head(2))\n",
    "print('\\n')\n",
    "printmd('**Adress :** This dataset contains the contact postal addresses as it appears in the original databases' + \n",
    "        ' obtained by ICIJ.')\n",
    "display(pp_adress.head(2))\n",
    "print('\\n')\n",
    "printmd('**Officier :** This dataset contains information on personn or company who plays a role in an offshore'+\n",
    "        ' entity. One entity can be linked to several officer.')\n",
    "display(pp_officer.head(2))\n",
    "print('\\n')\n",
    "printmd('**Edges :** This dataset contains information on the relationship between the different nodes presented above.')\n",
    "display(pp_edges.head(2))\n",
    "\n",
    "\n",
    "printmd('We are particulary interested in the offshore entities. The preliminar study reveal that '+ str(pp_entity.shape[0]) +\n",
    "       ' offshore entities are distributed in ' + str(pp_entity.groupby(\"countries\").count().shape[0]) + ' different countries')"
   ]
  },
  {
   "cell_type": "code",
   "execution_count": 5,
   "metadata": {
    "scrolled": false
   },
   "outputs": [
    {
     "data": {
      "text/markdown": [
       "**According to the Panamas Papers, what are the countries containing the most offshore entities ? \n",
       "How are these entities distributed in the world ?**"
      ],
      "text/plain": [
       "<IPython.core.display.Markdown object>"
      ]
     },
     "metadata": {},
     "output_type": "display_data"
    },
    {
     "data": {
      "text/markdown": [
       "We can observe below that, on the 159 countries presented in our dataset, the majority contain few offshore entites and a small group of countries contains the majorities of these entities."
      ],
      "text/plain": [
       "<IPython.core.display.Markdown object>"
      ]
     },
     "metadata": {},
     "output_type": "display_data"
    },
    {
     "data": {
      "text/plain": [
       "<matplotlib.legend.Legend at 0x7f310dc452e8>"
      ]
     },
     "execution_count": 5,
     "metadata": {},
     "output_type": "execute_result"
    },
    {
     "data": {
      "image/png": "[encoded data removed]",
      "text/plain": [
       "<Figure size 576x432 with 1 Axes>"
      ]
     },
     "metadata": {},
     "output_type": "display_data"
    },
    {
     "data": {
      "image/png": "[encoded data removed]",
      "text/plain": [
       "<Figure size 576x432 with 1 Axes>"
      ]
     },
     "metadata": {},
     "output_type": "display_data"
    }
   ],
   "source": [
    "#We count the number of offshore entities by country\n",
    "entity_by_country=pp_entity.groupby(\"countries\",as_index=False)\\\n",
    "                           .count()\n",
    "\n",
    "printmd('**According to the Panamas Papers, what are the countries containing the most offshore entities ? \\nHow \\\n",
    "are these entities distributed in the world ?**')\n",
    "\n",
    "entity_by_country['node_id'].count()\n",
    "\n",
    "entity_by_country['node_id'].plot.hist(grid=True,logy=True,title='Logarithmic frequency distribution',figsize= (8,6))\n",
    "\n",
    "\n",
    "printmd('We can observe below that, on the 159 countries presented in our dataset, the majority contain few offshore entites and' +\n",
    "        ' a small group of countries contains the majorities of these entities.')\n",
    " \n",
    "#We sort the countries by number of entities\n",
    "entity_by_country.sort_values(by=['node_id'],ascending=False,inplace=True) \n",
    "\n",
    "#And look for the 20 countries with the most offshore entities\n",
    "entity_by_country[:20].plot.bar(y='node_id',x='countries',title='Top 20 countries with offshore entities',figsize= (8,6))\\\n",
    "                      .legend([\"Number of entities\"])\n",
    "\n",
    "\n",
    "\n"
   ]
  },
  {
   "cell_type": "code",
   "execution_count": 6,
   "metadata": {},
   "outputs": [
    {
     "name": "stdout",
     "output_type": "stream",
     "text": [
      "We can observe that the 20 countries above represent 86.43 % of the entities of the dataset.\n"
     ]
    }
   ],
   "source": [
    "print('We can observe that the 20 countries above represent', \"%.2f\" % \\\n",
    "      ((entity_by_country[:20]['node_id'].sum()/entity_by_country['node_id'].sum())*100), \"% of the entities of the dataset.\")\n"
   ]
  },
  {
   "cell_type": "code",
   "execution_count": 7,
   "metadata": {},
   "outputs": [
    {
     "data": {
      "text/markdown": [
       "Let's have a better vizualization of the distribution of offshore entities in the world. Note that the legend and distribution are in log."
      ],
      "text/plain": [
       "<IPython.core.display.Markdown object>"
      ]
     },
     "metadata": {},
     "output_type": "display_data"
    },
    {
     "ename": "TypeError",
     "evalue": "from_dict() got an unexpected keyword argument 'columns'",
     "output_type": "error",
     "traceback": [
      "\u001b[0;31m---------------------------------------------------------------------------\u001b[0m",
      "\u001b[0;31mTypeError\u001b[0m                                 Traceback (most recent call last)",
      "\u001b[0;32m<ipython-input-7-e86fee9a9ed9>\u001b[0m in \u001b[0;36m<module>\u001b[0;34m()\u001b[0m\n\u001b[1;32m     11\u001b[0m \u001b[0;34m\u001b[0m\u001b[0m\n\u001b[1;32m     12\u001b[0m \u001b[0;31m#We create a dataframe from it in order to be able to merge it with our dataframe\u001b[0m\u001b[0;34m\u001b[0m\u001b[0;34m\u001b[0m\u001b[0m\n\u001b[0;32m---> 13\u001b[0;31m \u001b[0mcode_df\u001b[0m \u001b[0;34m=\u001b[0m \u001b[0mpd\u001b[0m\u001b[0;34m.\u001b[0m\u001b[0mDataFrame\u001b[0m\u001b[0;34m.\u001b[0m\u001b[0mfrom_dict\u001b[0m\u001b[0;34m(\u001b[0m\u001b[0mlist_name\u001b[0m\u001b[0;34m,\u001b[0m \u001b[0morient\u001b[0m\u001b[0;34m=\u001b[0m\u001b[0;34m'index'\u001b[0m\u001b[0;34m,\u001b[0m \u001b[0mcolumns\u001b[0m\u001b[0;34m=\u001b[0m\u001b[0;34m[\u001b[0m\u001b[0;34m'country_codes'\u001b[0m\u001b[0;34m]\u001b[0m\u001b[0;34m)\u001b[0m                      \u001b[0;34m.\u001b[0m\u001b[0mreset_index\u001b[0m\u001b[0;34m(\u001b[0m\u001b[0;34m)\u001b[0m                      \u001b[0;34m.\u001b[0m\u001b[0mrename\u001b[0m\u001b[0;34m(\u001b[0m\u001b[0mcolumns\u001b[0m\u001b[0;34m=\u001b[0m\u001b[0;34m{\u001b[0m\u001b[0;34m'index'\u001b[0m\u001b[0;34m:\u001b[0m\u001b[0;34m'countries'\u001b[0m\u001b[0;34m}\u001b[0m\u001b[0;34m)\u001b[0m\u001b[0;34m\u001b[0m\u001b[0m\n\u001b[0m",
      "\u001b[0;31mTypeError\u001b[0m: from_dict() got an unexpected keyword argument 'columns'"
     ]
    }
   ],
   "source": [
    "printmd(\"Let's have a better vizualization of the distribution of offshore entities in the world. Note that the legend\" +\n",
    "        \" and distribution are in log.\")\n",
    "\n",
    "#We merge our results with pp_entities in order to have corresponping country codes\n",
    "result_data_merged = pd.merge(entity_by_country[['countries','node_id']],\n",
    "                             pp_entity[['country_codes','countries']],\n",
    "                             on='countries').drop_duplicates()\n",
    "\n",
    "#Since not every countries is reprensented in our dataset we need to import missing country codes\n",
    "list_name = {x.name:x.alpha_3 for x in py.countries}\n",
    "\n",
    "#We create a dataframe from it in order to be able to merge it with our dataframe\n",
    "code_df = pd.DataFrame.from_dict(list_name, orient='index')\\\n",
    "                      .reset_index()\\\n",
    "                      .rename(columns={'index':'countries'})"
   ]
  },
  {
   "cell_type": "code",
   "execution_count": null,
   "metadata": {},
   "outputs": [],
   "source": []
  },
  {
   "cell_type": "code",
   "execution_count": null,
   "metadata": {
    "scrolled": false
   },
   "outputs": [],
   "source": [
    "\n",
    "\n",
    "#We merge it with our results in order to have data for every countries in the world\n",
    "results_final=pd.merge(code_df,result_data_merged,on=['countries','country_codes'],how='left')\\\n",
    "                .fillna(0)\n",
    "   \n",
    "#log data for better visualization\n",
    "results_final_log = results_final\n",
    "results_final_log['node_id'] = results_final_log['node_id'].apply(lambda x: np.log(x) if x!=0  else x)\n",
    "    \n",
    "#We load the data for folium representation    \n",
    "world_data= json.load(open(DATA_FOLDER + '/world_geo_json/countries.geo.json'))\n",
    "\n",
    "#We create a map of the world\n",
    "m = folium.Map([47, 8.33],tiles='cartodbpositron', zoom_start=2)\n",
    "\n",
    "#On which we represent our data\n",
    "m.choropleth(\n",
    " geo_data=world_data,\n",
    " name='choropleth',\n",
    " data=results_final_log,\n",
    " columns=['country_codes', 'node_id'],\n",
    " key_on='feature.id',\n",
    " fill_color='OrRd',\n",
    " fill_opacity=0.8,\n",
    " line_opacity=0.5,\n",
    " legend_name='Number of companies that are found in the Panama Papers (log)',\n",
    ")\n",
    "folium.LayerControl().add_to(m)\n",
    "\n",
    "m"
   ]
  },
  {
   "cell_type": "code",
   "execution_count": null,
   "metadata": {},
   "outputs": [],
   "source": [
    "#save the map in results/maps in case it doesn't load on github\n",
    "m.save(MAP_FOLDER + \"/panama_offshore_entities.html\")"
   ]
  }
 ],
 "metadata": {
  "kernelspec": {
   "display_name": "Python 3",
   "language": "python",
   "name": "python3"
  },
  "language_info": {
   "codemirror_mode": {
    "name": "ipython",
    "version": 3
   },
   "file_extension": ".py",
   "mimetype": "text/x-python",
   "name": "python",
   "nbconvert_exporter": "python",
   "pygments_lexer": "ipython3",
   "version": "3.6.5"
  }
 },
 "nbformat": 4,
 "nbformat_minor": 2
}
