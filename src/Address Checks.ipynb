{
 "cells": [
  {
   "cell_type": "markdown",
   "metadata": {},
   "source": [
    "# Check whether a match's charity headquarters (if available) match a shell company's address"
   ]
  },
  {
   "cell_type": "code",
   "execution_count": 8,
   "metadata": {},
   "outputs": [],
   "source": [
    "#Imports\n",
    "import pandas as pd\n",
    "\n",
    "#spark\n",
    "import findspark\n",
    "findspark.init(r\"C:\\Users\\Lucas\\Desktop\\ADA\\spark-2.3.2-bin-hadoop2.7\")\n",
    "\n",
    "from pyspark.sql import *\n",
    "from pyspark.sql.functions import *\n",
    "from pyspark.sql.functions import min\n",
    "from pyspark.sql.functions import udf\n",
    "from pyspark.sql.functions import split\n",
    "from pyspark.sql.functions import explode\n",
    "from pyspark.sql import SQLContext\n",
    "\n",
    "from pyspark.sql.types import StructType\n",
    "from pyspark.sql.types import StructField\n",
    "\n",
    "\n",
    "\n",
    "from pyspark.sql.types import StringType\n",
    "from pyspark.sql.types import TimestampType\n",
    "\n",
    "from pyspark.sql import SparkSession\n",
    "from pyspark import SparkContext\n",
    "\n",
    "spark = SparkSession.builder.getOrCreate()\n",
    "\n",
    "import networkx as nx\n",
    "\n",
    "from operator import itemgetter\n",
    "import matplotlib.pyplot as plt\n",
    "import collections\n",
    "import community\n",
    "from networkx.algorithms.community.centrality import girvan_newman\n",
    "import itertools\n",
    "%matplotlib inline\n",
    "#sqlContext = SQLContext(sc)\n",
    "import warnings\n",
    "warnings.filterwarnings('ignore"
   ]
  },
  {
   "cell_type": "code",
   "execution_count": 9,
   "metadata": {},
   "outputs": [],
   "source": [
    "def get_match_file(leak, charity):\n",
    "    return '../generated/matches/' + leak + '_' + charity + '_matches.csv'\n",
    "\n",
    "#Load matches\n",
    "paradise_wiki_matches = spark.read.csv(get_match_file('paradise', 'wikipedia'), header=True)\n",
    "paradise_ingo_matches = spark.read.csv(get_match_file('paradise', 'INGO'), header=True)\n",
    "paradise_forbes_matches = spark.read.csv(get_match_file('paradise', 'forbes'), header=True)\n",
    "\n",
    "matches = paradise_wiki_matches.union(paradise_forbes_matches).union(paradise_ingo_matches).drop('_c0')\n",
    "\n",
    "#Load edges\n",
    "edges = spark.read.csv('../data/paradise/paradise_papers.edges.csv', header=True)\n",
    "\n",
    "address_nodes = spark.read.csv('../data/paradise/paradise_papers.nodes.address.csv', header=True)"
   ]
  },
  {
   "cell_type": "code",
   "execution_count": 63,
   "metadata": {},
   "outputs": [
    {
     "data": {
      "text/plain": [
       "[Row(node_id='100301845', ShellName='SERVICES INTERNATIONAL LIMITED', CharityName='Population Services International', CharityHeadquarters='Washington, District of Columbia'),\n",
       " Row(node_id='100310580', ShellName='J. J. J. ENTERPRISES INC', CharityName='J. Paul Getty Trust', CharityHeadquarters=None),\n",
       " Row(node_id='100318846', ShellName='VISION WORLD INC.', CharityName='World Vision International', CharityHeadquarters=None),\n",
       " Row(node_id='100318846', ShellName='VISION WORLD INC.', CharityName='World Vision', CharityHeadquarters='Federal Way, Washington'),\n",
       " Row(node_id='100318846', ShellName='VISION WORLD INC.', CharityName='World Vision International', CharityHeadquarters=None),\n",
       " Row(node_id='100318846', ShellName='VISION WORLD INC.', CharityName='World Vision International', CharityHeadquarters=None),\n",
       " Row(node_id='100338311', ShellName='THE LEARNING FOUNDATION INC.', CharityName='The Canadian International Learning Foundation', CharityHeadquarters=None),\n",
       " Row(node_id='101208524', ShellName='THE NATURE CONSERVANCY', CharityName='Nature Conservancy', CharityHeadquarters='Arlington, Virginia'),\n",
       " Row(node_id='101422196', ShellName='INTERNATIONAL RESCUE LTD.', CharityName='International Rescue Committee', CharityHeadquarters='New York, New York'),\n",
       " Row(node_id='101510864', ShellName=\"EPITAPH'S INVISIBLE INC.\", CharityName='Invisible Children, Inc.', CharityHeadquarters=None)]"
      ]
     },
     "execution_count": 63,
     "metadata": {},
     "output_type": "execute_result"
    }
   ],
   "source": [
    "matches.take(10)"
   ]
  },
  {
   "cell_type": "code",
   "execution_count": 54,
   "metadata": {},
   "outputs": [
    {
     "data": {
      "text/plain": [
       "106"
      ]
     },
     "execution_count": 54,
     "metadata": {},
     "output_type": "execute_result"
    }
   ],
   "source": [
    "matches.count()"
   ]
  },
  {
   "cell_type": "code",
   "execution_count": 58,
   "metadata": {},
   "outputs": [
    {
     "data": {
      "text/plain": [
       "[Row(START_ID='85004927', TYPE='registered_address', END_ID='88000379', link='registered address', start_date=None, end_date=None, sourceID='Paradise Papers - Aruba corporate registry', valid_until='Aruba corporate registry data is current through 2016')]"
      ]
     },
     "execution_count": 58,
     "metadata": {},
     "output_type": "execute_result"
    }
   ],
   "source": [
    "address_edges.take(1)"
   ]
  },
  {
   "cell_type": "code",
   "execution_count": 10,
   "metadata": {},
   "outputs": [
    {
     "name": "stdout",
     "output_type": "stream",
     "text": [
      "All edges:  1657839\n",
      "Address edges:  450551\n"
     ]
    }
   ],
   "source": [
    "print('All edges: ', edges.count())\n",
    "address_edges = edges.rdd.filter(lambda r: r[1] == 'registered_address')\n",
    "print('Address edges: ', address_edges.count())"
   ]
  },
  {
   "cell_type": "code",
   "execution_count": 11,
   "metadata": {},
   "outputs": [],
   "source": [
    "def filter_edges(edges, nodes):\n",
    "    '''Given a set of nodes, returns the edges connected to those nodes'''\n",
    "    entity_ids = nodes.map(lambda r: r[0]).collect()\n",
    "    return edges.filter(lambda r: r[0] in entity_ids or r[2] in entity_ids)\n",
    "\n",
    "entity_address_edges = filter_edges(address_edges, matches.rdd)\n"
   ]
  },
  {
   "cell_type": "code",
   "execution_count": 60,
   "metadata": {},
   "outputs": [
    {
     "data": {
      "text/plain": [
       "70"
      ]
     },
     "execution_count": 60,
     "metadata": {},
     "output_type": "execute_result"
    }
   ],
   "source": [
    "entity_address_edges.count()"
   ]
  },
  {
   "cell_type": "code",
   "execution_count": 13,
   "metadata": {},
   "outputs": [],
   "source": [
    "def filter_nodes(nodes, edges):\n",
    "    '''Given a set of edges, return the nodes connected to those edges'''\n",
    "    start_ids = edges.map(lambda r: r[0]).collect()\n",
    "    end_ids = edges.map(lambda r: r[2]).collect()\n",
    "    \n",
    "    return nodes.rdd.filter(lambda r: r[0] in start_ids or r[0] in end_ids)"
   ]
  },
  {
   "cell_type": "code",
   "execution_count": 14,
   "metadata": {},
   "outputs": [],
   "source": [
    "paradise_address=filter_nodes(address_nodes,entity_address_edges)"
   ]
  },
  {
   "cell_type": "code",
   "execution_count": 61,
   "metadata": {},
   "outputs": [
    {
     "data": {
      "text/plain": [
       "63"
      ]
     },
     "execution_count": 61,
     "metadata": {},
     "output_type": "execute_result"
    }
   ],
   "source": [
    "paradise_address.count()"
   ]
  },
  {
   "cell_type": "code",
   "execution_count": 15,
   "metadata": {},
   "outputs": [
    {
     "data": {
      "text/plain": [
       "[Row(node_id='81027090', name=\"Canon's Court; 22 Victoria Street; Hamilton; HM 12; Bermuda\", address=\"Canon's Court\", country_codes='BMU', countries='Bermuda', sourceID='Paradise Papers - Appleby', valid_until='Appleby data is current through 2014', note=None)]"
      ]
     },
     "execution_count": 15,
     "metadata": {},
     "output_type": "execute_result"
    }
   ],
   "source": [
    "paradise_address.take(1)"
   ]
  },
  {
   "cell_type": "code",
   "execution_count": 56,
   "metadata": {},
   "outputs": [
    {
     "data": {
      "text/plain": [
       "PythonRDD[196] at RDD at PythonRDD.scala:52"
      ]
     },
     "execution_count": 56,
     "metadata": {},
     "output_type": "execute_result"
    }
   ],
   "source": [
    "paradise_address"
   ]
  },
  {
   "cell_type": "code",
   "execution_count": 16,
   "metadata": {
    "scrolled": true
   },
   "outputs": [],
   "source": [
    "schema = StructType([StructField(str(i), StringType(), True) for i in range(8)])\n",
    "\n",
    "df = spark.createDataFrame(paradise_address)\n"
   ]
  },
  {
   "cell_type": "code",
   "execution_count": 17,
   "metadata": {},
   "outputs": [
    {
     "data": {
      "text/plain": [
       "[Row(node_id='120000395', name='EPWORTH CHAMBERS, PINFOLD STREET, BRIDGETOWN , BARBADOS,', address='EPWORTH CHAMBERS, PINFOLD STREET, BRIDGETOWN , BARBADOS,', country_codes='BRB', countries='Barbados', sourceID='Paradise Papers - Barbados corporate registry', valid_until='Barbados corporate registry data is current through 2016', note=None),\n",
       " Row(node_id='120001585', name='CHELTENHAM LODGE FONTABELLE ST. MICHAEL BARBADOS', address='CHELTENHAM LODGE FONTABELLE ST. MICHAEL BARBADOS', country_codes='BRB', countries='Barbados', sourceID='Paradise Papers - Barbados corporate registry', valid_until='Barbados corporate registry data is current through 2016', note=None),\n",
       " Row(node_id='120003377', name='GOODLAND MAIN ROAD, ST.MICHAEL, BARBADOS.', address='GOODLAND MAIN ROAD, ST.MICHAEL, BARBADOS.', country_codes='BRB', countries='Barbados', sourceID='Paradise Papers - Barbados corporate registry', valid_until='Barbados corporate registry data is current through 2016', note=None),\n",
       " Row(node_id='120003485', name='\"\"\"WEST RIDGE\"\"', address=' KENT', country_codes=' CHRIST CHURCH', countries=' BARBADOS.\"', sourceID='\"\"\"WEST RIDGE\"\"', valid_until=' KENT', note=' CHRIST CHURCH'),\n",
       " Row(node_id='120004193', name=\"C/O WESTON INTERNATIONAL MANAGEMENT LTD. THE FINANCIAL SERVICES CENTRE, BISHOP'S COURT HILL, ST. MICHAEL,\", address=\"C/O WESTON INTERNATIONAL MANAGEMENT LTD. THE FINANCIAL SERVICES CENTRE, BISHOP'S COURT HILL, ST. MICHAEL,\", country_codes='BRB', countries='Barbados', sourceID='Paradise Papers - Barbados corporate registry', valid_until='Barbados corporate registry data is current through 2016', note=None)]"
      ]
     },
     "execution_count": 17,
     "metadata": {},
     "output_type": "execute_result"
    }
   ],
   "source": [
    "df=df.orderBy('node_id',ascending=True)\n",
    "matches=matches.orderBy('node_id',ascending=True)\n",
    "\n",
    "df.take(5)"
   ]
  },
  {
   "cell_type": "code",
   "execution_count": 18,
   "metadata": {},
   "outputs": [],
   "source": [
    "matches_pd=pd.DataFrame(matches.collect())\n",
    "df_pd=pd.DataFrame(df.collect())"
   ]
  },
  {
   "cell_type": "code",
   "execution_count": 19,
   "metadata": {},
   "outputs": [
    {
     "name": "stdout",
     "output_type": "stream",
     "text": [
      "+---------+--------------------+--------------------+--------------------+\n",
      "|  node_id|           ShellName|         CharityName| CharityHeadquarters|\n",
      "+---------+--------------------+--------------------+--------------------+\n",
      "|100301845|SERVICES INTERNAT...|Population Servic...|Washington, Distr...|\n",
      "|100310580|J. J. J. ENTERPRI...| J. Paul Getty Trust|                null|\n",
      "|100318846|   VISION WORLD INC.|        World Vision|Federal Way, Wash...|\n",
      "|100318846|   VISION WORLD INC.|World Vision Inte...|                null|\n",
      "|100318846|   VISION WORLD INC.|World Vision Inte...|                null|\n",
      "|100318846|   VISION WORLD INC.|World Vision Inte...|                null|\n",
      "|100338311|THE LEARNING FOUN...|The Canadian Inte...|                null|\n",
      "|101208524|THE NATURE CONSER...|  Nature Conservancy| Arlington, Virginia|\n",
      "|101422196|INTERNATIONAL RES...|International Res...|  New York, New York|\n",
      "|101510864|EPITAPH'S INVISIB...|Invisible Childre...|                null|\n",
      "|101803231|ROYAL SOCIETY FOR...|Royal Society for...|                null|\n",
      "|101809479|YOUTH WITH A MISS...|Youth With A Mission|                null|\n",
      "|101823854|FOUNDATION FOR IS...|Comenius Foundati...|      Warsaw, Poland|\n",
      "|101823854|FOUNDATION FOR IS...|Foundation for Ch...|New York, NY, Uni...|\n",
      "|200100101|FIRST DIRECTOR LI...|      first Director|                null|\n",
      "|200108340|CHRISTIAN INTERNA...|International Chr...|                null|\n",
      "|200108415|      INVISIBLE INC.|Invisible Childre...|                null|\n",
      "|200115350|         ACUMEN INC.|              Acumen|                null|\n",
      "|200117453|INTERNATIONAL RES...|International Res...|  New York, New York|\n",
      "|200138759|National Medical ...|Children's Nation...|                null|\n",
      "+---------+--------------------+--------------------+--------------------+\n",
      "only showing top 20 rows\n",
      "\n"
     ]
    }
   ],
   "source": [
    "matches.show()"
   ]
  },
  {
   "cell_type": "code",
   "execution_count": 20,
   "metadata": {},
   "outputs": [
    {
     "name": "stdout",
     "output_type": "stream",
     "text": [
      "+---------+--------------------+--------------------+--------------+--------------------+--------------------+--------------------+--------------+\n",
      "|  node_id|                name|             address| country_codes|           countries|            sourceID|         valid_until|          note|\n",
      "+---------+--------------------+--------------------+--------------+--------------------+--------------------+--------------------+--------------+\n",
      "|120000395|EPWORTH CHAMBERS,...|EPWORTH CHAMBERS,...|           BRB|            Barbados|Paradise Papers -...|Barbados corporat...|          null|\n",
      "|120001585|CHELTENHAM LODGE ...|CHELTENHAM LODGE ...|           BRB|            Barbados|Paradise Papers -...|Barbados corporat...|          null|\n",
      "|120003377|GOODLAND MAIN ROA...|GOODLAND MAIN ROA...|           BRB|            Barbados|Paradise Papers -...|Barbados corporat...|          null|\n",
      "|120003485|     \"\"\"WEST RIDGE\"\"|                KENT| CHRIST CHURCH|          BARBADOS.\"|     \"\"\"WEST RIDGE\"\"|                KENT| CHRIST CHURCH|\n",
      "|120004193|C/O WESTON INTERN...|C/O WESTON INTERN...|           BRB|            Barbados|Paradise Papers -...|Barbados corporat...|          null|\n",
      "|120004633|THE FINANCIAL SER...|THE FINANCIAL SER...|           BRB|            Barbados|Paradise Papers -...|Barbados corporat...|          null|\n",
      "|120006158|P. O. BOX 534, MA...|P. O. BOX 534, MA...|           KNA|Saint Kitts and N...|Paradise Papers -...|Barbados corporat...|          null|\n",
      "|120008591|#3 GIBBONS TERRAC...|#3 GIBBONS TERRAC...|           BRB|            Barbados|Paradise Papers -...|Barbados corporat...|          null|\n",
      "|120013595|  PROSPECT ST. JAMES|  PROSPECT ST. JAMES|           BRB|            Barbados|Paradise Papers -...|Barbados corporat...|          null|\n",
      "|120016319|PHILIP NICHOLLS &...|PHILIP NICHOLLS &...|           BRB|            Barbados|Paradise Papers -...|Barbados corporat...|          null|\n",
      "|120016424|1815 NORTH LYNN S...|1815 NORTH LYNN S...|           USA|       United States|Paradise Papers -...|Barbados corporat...|          null|\n",
      "|120017700|CHANCERY CHAMBERS...|CHANCERY CHAMBERS...|           BRB|            Barbados|Paradise Papers -...|Barbados corporat...|          null|\n",
      "|120018981|SMITTONS BAY HOUS...|SMITTONS BAY HOUS...|           BRB|            Barbados|Paradise Papers -...|Barbados corporat...|          null|\n",
      "|220000065|Wendy Andrea Mort...|Wendy Andrea Mort...|           KNA|Saint Kitts and N...|Paradise Papers -...|Nevis corporate r...|          null|\n",
      "|220000090|M. ANGELA COZIER ...|M. ANGELA COZIER ...|           KNA|Saint Kitts and N...|Paradise Papers -...|Nevis corporate r...|          null|\n",
      "| 33000187|#1 MILLARS COURT ...|                null|           BHS|             Bahamas|Paradise Papers -...|Bahamas corporate...|          null|\n",
      "| 33000219|MAREVA HOUSE 4 GE...|                null|           BHS|             Bahamas|Paradise Papers -...|Bahamas corporate...|          null|\n",
      "| 58041242|5/6, 'AUBERGE SAN...|5/6, 'AUBERGE SAN...|          null|                null|Paradise Papers -...|Malta corporate r...|          null|\n",
      "| 58045699|AGS HOUSE GIUSEPP...|AGS HOUSE GIUSEPP...|          null|                null|Paradise Papers -...|Malta corporate r...|          null|\n",
      "| 58052025|Bethsaida Mdina R...|Bethsaida Mdina R...|          null|                null|Paradise Papers -...|Malta corporate r...|          null|\n",
      "+---------+--------------------+--------------------+--------------+--------------------+--------------------+--------------------+--------------+\n",
      "only showing top 20 rows\n",
      "\n"
     ]
    }
   ],
   "source": [
    "df.show()"
   ]
  },
  {
   "cell_type": "code",
   "execution_count": 26,
   "metadata": {},
   "outputs": [],
   "source": [
    "df_pd=df.toPandas()\n",
    "matches_pd=matches.toPandas()"
   ]
  },
  {
   "cell_type": "code",
   "execution_count": 35,
   "metadata": {},
   "outputs": [],
   "source": [
    "list_1=df_pd['node_id']\n",
    "list_2=matches_pd['node_id']"
   ]
  },
  {
   "cell_type": "code",
   "execution_count": 40,
   "metadata": {},
   "outputs": [],
   "source": [
    "list_1=list_1.astype(int)\n",
    "list_2=list_2.astype(int)"
   ]
  },
  {
   "cell_type": "code",
   "execution_count": 64,
   "metadata": {},
   "outputs": [
    {
     "data": {
      "text/plain": [
       "0     120000395\n",
       "1     120001585\n",
       "2     120003377\n",
       "3     120003485\n",
       "4     120004193\n",
       "5     120004633\n",
       "6     120006158\n",
       "7     120008591\n",
       "8     120013595\n",
       "9     120016319\n",
       "10    120016424\n",
       "11    120017700\n",
       "12    120018981\n",
       "13    220000065\n",
       "14    220000090\n",
       "15     33000187\n",
       "16     33000219\n",
       "17     58041242\n",
       "18     58045699\n",
       "19     58052025\n",
       "20     58060358\n",
       "21     58084388\n",
       "22     58089732\n",
       "23     58129245\n",
       "24     81000811\n",
       "25     81010195\n",
       "26     81010529\n",
       "27     81010536\n",
       "28     81010818\n",
       "29     81027090\n",
       "        ...    \n",
       "33     81084646\n",
       "34     88002083\n",
       "35     88002434\n",
       "36     88004102\n",
       "37     88004413\n",
       "38     88006236\n",
       "39     88006821\n",
       "40     88006824\n",
       "41     88007075\n",
       "42     88007171\n",
       "43     88007521\n",
       "44     88009040\n",
       "45     88009300\n",
       "46     88009368\n",
       "47     88010094\n",
       "48     88010106\n",
       "49     88011038\n",
       "50     88011063\n",
       "51     88011305\n",
       "52     88011332\n",
       "53     88011451\n",
       "54     88012062\n",
       "55     88013209\n",
       "56     88013778\n",
       "57     88015505\n",
       "58     88016029\n",
       "59     88016305\n",
       "60     88017290\n",
       "61     88017324\n",
       "62     88017348\n",
       "Name: node_id, Length: 63, dtype: int32"
      ]
     },
     "execution_count": 64,
     "metadata": {},
     "output_type": "execute_result"
    }
   ],
   "source": [
    "list_1\n"
   ]
  },
  {
   "cell_type": "code",
   "execution_count": 48,
   "metadata": {},
   "outputs": [],
   "source": [
    "ds1 = pd.Series([2, 4, 3, 8, 10])\n",
    "ds2 = pd.Series([1, 3, 5, 7, 10])"
   ]
  },
  {
   "cell_type": "code",
   "execution_count": 66,
   "metadata": {},
   "outputs": [
    {
     "data": {
      "text/plain": [
       "0    False\n",
       "1    False\n",
       "2     True\n",
       "3    False\n",
       "4     True\n",
       "dtype: bool"
      ]
     },
     "execution_count": 66,
     "metadata": {},
     "output_type": "execute_result"
    }
   ],
   "source": [
    "ds1.isin(ds2)"
   ]
  },
  {
   "cell_type": "code",
   "execution_count": 67,
   "metadata": {},
   "outputs": [
    {
     "data": {
      "text/plain": [
       "Series([], Name: node_id, dtype: int32)"
      ]
     },
     "execution_count": 67,
     "metadata": {},
     "output_type": "execute_result"
    }
   ],
   "source": [
    "list_1[list_1.isin(list_2)]"
   ]
  }
 ],
 "metadata": {
  "kernelspec": {
   "display_name": "Python [conda env:ada]",
   "language": "python",
   "name": "conda-env-ada-py"
  },
  "language_info": {
   "codemirror_mode": {
    "name": "ipython",
    "version": 3
   },
   "file_extension": ".py",
   "mimetype": "text/x-python",
   "name": "python",
   "nbconvert_exporter": "python",
   "pygments_lexer": "ipython3",
   "version": "3.6.6"
  }
 },
 "nbformat": 4,
 "nbformat_minor": 2
}
